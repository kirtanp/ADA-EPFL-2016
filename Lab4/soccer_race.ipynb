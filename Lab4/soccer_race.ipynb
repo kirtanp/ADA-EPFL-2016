{
 "cells": [
  {
   "cell_type": "markdown",
   "metadata": {},
   "source": [
    "# HW4 - Applied ML\n",
    "\n",
    "There are four aspects:\n",
    "* First, we process the data and explore the dataset (0).\n",
    "* Then, we classify labels. (1).\n",
    "* We plot learning curves (Bonus)\n",
    "* Finally, we do clustering (2)."
   ]
  },
  {
   "cell_type": "markdown",
   "metadata": {},
   "source": [
    "## 0. Data Pre-Processing and Visualization\n",
    "Understanding the dataset, cleaning the variables. This is important because later we will need clean data for supervised and unsupervised learning.\n",
    "\n",
    "Using http://nbviewer.jupyter.org/github/mathewzilla/redcard/blob/master/Crowdstorming_visualisation.ipynb, we will clean the dataset. Then, we will aggregate information. Finally, we will clean up the features."
   ]
  },
  {
   "cell_type": "markdown",
   "metadata": {},
   "source": [
    "### Pre-Processing Tasks and Outline\n",
    "\n",
    "1) Dataset cleaning\n",
    "- exclude interactions by  ref who feature in fewer than 22 diyads\n",
    "\n",
    "- drop NAs with no race values, averaging race values\n",
    "\n",
    "2) Aggregate to player data\n",
    "\n",
    "- combine games, referee and bias information using variable statistics\n",
    "\n",
    "3) Cleaning features\n",
    "\n",
    "- take out unnecessary features — player ID, photo ID\n",
    "- turning date into proper format\n",
    "\n",
    "- convert categorical variables into dummy variables\n"
   ]
  },
  {
   "cell_type": "code",
   "execution_count": 279,
   "metadata": {
    "collapsed": false
   },
   "outputs": [],
   "source": [
    "#import libraries\n",
    "import pandas as pd\n",
    "import numpy as np\n",
    "import matplotlib.pyplot as plt\n",
    "from sklearn.ensemble import RandomForestClassifier\n",
    "import sklearn.cross_validation\n",
    "from sklearn.metrics import confusion_matrix\n",
    "import itertools\n",
    "from sklearn.model_selection import train_test_split\n",
    "from sklearn.preprocessing import LabelEncoder,OneHotEncoder,StandardScaler\n",
    "%matplotlib inline"
   ]
  },
  {
   "cell_type": "code",
   "execution_count": 2,
   "metadata": {
    "collapsed": true
   },
   "outputs": [],
   "source": [
    "df = pd.read_csv('Data/CrowdstormingDataJuly1st.csv')"
   ]
  },
  {
   "cell_type": "code",
   "execution_count": 3,
   "metadata": {
    "collapsed": false
   },
   "outputs": [
    {
     "name": "stdout",
     "output_type": "stream",
     "text": [
      "Number of dyads: 146028\n"
     ]
    }
   ],
   "source": [
    "orig_num_dyads = df.shape[0]\n",
    "print('Number of dyads:', orig_num_dyads)"
   ]
  },
  {
   "cell_type": "markdown",
   "metadata": {},
   "source": [
    "## 1. Dataset Cleaning"
   ]
  },
  {
   "cell_type": "markdown",
   "metadata": {},
   "source": [
    "### Exclude Interactions"
   ]
  },
  {
   "cell_type": "code",
   "execution_count": 4,
   "metadata": {
    "collapsed": false
   },
   "outputs": [],
   "source": [
    "#This line defines a new dataframe based on our >21 games filter\n",
    "all_refs = df.refNum.value_counts()\n",
    "good_refs = all_refs[all_refs>21]\n",
    "\n",
    "df=df[df['refNum'].isin(good_refs.index.values)]"
   ]
  },
  {
   "cell_type": "code",
   "execution_count": 5,
   "metadata": {
    "collapsed": false
   },
   "outputs": [
    {
     "name": "stdout",
     "output_type": "stream",
     "text": [
      "percentage of dyads left: 91.4215082039061\n"
     ]
    }
   ],
   "source": [
    "print('percentage of dyads left:', 100 * df.shape[0] / orig_num_dyads)"
   ]
  },
  {
   "cell_type": "markdown",
   "metadata": {},
   "source": [
    "### Getting Race Values\n",
    "\n",
    "Get the real \"race value\" by taking the average of the two. Then drop the ones that don't have rating."
   ]
  },
  {
   "cell_type": "code",
   "execution_count": 6,
   "metadata": {
    "collapsed": false
   },
   "outputs": [
    {
     "data": {
      "text/html": [
       "<div>\n",
       "<table border=\"1\" class=\"dataframe\">\n",
       "  <thead>\n",
       "    <tr style=\"text-align: right;\">\n",
       "      <th></th>\n",
       "      <th>playerShort</th>\n",
       "      <th>player</th>\n",
       "      <th>club</th>\n",
       "      <th>leagueCountry</th>\n",
       "      <th>birthday</th>\n",
       "      <th>height</th>\n",
       "      <th>weight</th>\n",
       "      <th>position</th>\n",
       "      <th>games</th>\n",
       "      <th>victories</th>\n",
       "      <th>...</th>\n",
       "      <th>rater2</th>\n",
       "      <th>refNum</th>\n",
       "      <th>refCountry</th>\n",
       "      <th>Alpha_3</th>\n",
       "      <th>meanIAT</th>\n",
       "      <th>nIAT</th>\n",
       "      <th>seIAT</th>\n",
       "      <th>meanExp</th>\n",
       "      <th>nExp</th>\n",
       "      <th>seExp</th>\n",
       "    </tr>\n",
       "  </thead>\n",
       "  <tbody>\n",
       "  </tbody>\n",
       "</table>\n",
       "<p>0 rows × 28 columns</p>\n",
       "</div>"
      ],
      "text/plain": [
       "Empty DataFrame\n",
       "Columns: [playerShort, player, club, leagueCountry, birthday, height, weight, position, games, victories, ties, defeats, goals, yellowCards, yellowReds, redCards, photoID, rater1, rater2, refNum, refCountry, Alpha_3, meanIAT, nIAT, seIAT, meanExp, nExp, seExp]\n",
       "Index: []\n",
       "\n",
       "[0 rows x 28 columns]"
      ]
     },
     "execution_count": 6,
     "metadata": {},
     "output_type": "execute_result"
    }
   ],
   "source": [
    "# We verify that it is never the case that only one of the rater field is NaN\n",
    "df[((df.rater1.notnull()) & (df.rater2.isnull())) | ((df.rater1.isnull()) & (df.rater2.notnull()))]"
   ]
  },
  {
   "cell_type": "code",
   "execution_count": 7,
   "metadata": {
    "collapsed": false,
    "scrolled": true
   },
   "outputs": [],
   "source": [
    "df['race_val'] = (df['rater1'] + df['rater2'])/2\n",
    "df.dropna(subset=['race_val'],inplace=True)"
   ]
  },
  {
   "cell_type": "code",
   "execution_count": 8,
   "metadata": {
    "collapsed": false
   },
   "outputs": [
    {
     "name": "stdout",
     "output_type": "stream",
     "text": [
      "percentage of dyads left: 77.9727175610157\n"
     ]
    }
   ],
   "source": [
    "print('percentage of dyads left:', 100 * df.shape[0] / orig_num_dyads)"
   ]
  },
  {
   "cell_type": "code",
   "execution_count": 9,
   "metadata": {
    "collapsed": false
   },
   "outputs": [
    {
     "data": {
      "text/plain": [
       "playerShort      False\n",
       "club             False\n",
       "leagueCountry    False\n",
       "height            True\n",
       "weight            True\n",
       "position          True\n",
       "games            False\n",
       "victories        False\n",
       "ties             False\n",
       "defeats          False\n",
       "goals            False\n",
       "yellowCards      False\n",
       "yellowReds       False\n",
       "redCards         False\n",
       "refCountry       False\n",
       "meanIAT           True\n",
       "nIAT              True\n",
       "seIAT             True\n",
       "meanExp           True\n",
       "nExp              True\n",
       "seExp             True\n",
       "race_val         False\n",
       "dtype: bool"
      ]
     },
     "execution_count": 9,
     "metadata": {},
     "output_type": "execute_result"
    }
   ],
   "source": [
    "df_new=df.copy()\n",
    "df_new.drop(['rater1','rater2','player','photoID','Alpha_3','birthday', 'refNum'],axis=1, inplace=True)\n",
    "df_new.isnull().any()"
   ]
  },
  {
   "cell_type": "markdown",
   "metadata": {},
   "source": [
    "Taking care of null values"
   ]
  },
  {
   "cell_type": "code",
   "execution_count": 10,
   "metadata": {
    "collapsed": false
   },
   "outputs": [
    {
     "data": {
      "text/plain": [
       "<matplotlib.text.Text at 0x10971b198>"
      ]
     },
     "execution_count": 10,
     "metadata": {},
     "output_type": "execute_result"
    },
    {
     "data": {
      "image/png": "[encoded data removed]",
      "text/plain": [
       "<matplotlib.figure.Figure at 0x11a9c5438>"
      ]
     },
     "metadata": {},
     "output_type": "display_data"
    }
   ],
   "source": [
    "# TODO label axes\n",
    "fig, axs = plt.subplots(1,2,  figsize=(15, 5))\n",
    "\n",
    "df_new['height'].hist(ax=axs[0])\n",
    "axs[0].set_ylabel('Number of entries')\n",
    "axs[0].set_xlabel('Height [cm]')\n",
    "df_new['weight'].hist(ax=axs[1])\n",
    "axs[1].set_ylabel('Number of entries')\n",
    "axs[1].set_xlabel('Weight [kg]')"
   ]
  },
  {
   "cell_type": "code",
   "execution_count": 11,
   "metadata": {
    "collapsed": false
   },
   "outputs": [
    {
     "name": "stdout",
     "output_type": "stream",
     "text": [
      "76.31274230154455 182.0956877695693\n"
     ]
    }
   ],
   "source": [
    "mean_weight = df_new['weight'][df_new.weight.notnull()].mean()\n",
    "mean_height = df_new['height'][df_new.height.notnull()].mean()\n",
    "print(mean_weight, mean_height)\n",
    "df_new['weight'].fillna(mean_weight, inplace=True)\n",
    "df_new['height'].fillna(mean_height, inplace=True)"
   ]
  },
  {
   "cell_type": "code",
   "execution_count": 12,
   "metadata": {
    "collapsed": false
   },
   "outputs": [
    {
     "data": {
      "text/plain": [
       "<matplotlib.text.Text at 0x1124ef898>"
      ]
     },
     "execution_count": 12,
     "metadata": {},
     "output_type": "execute_result"
    },
    {
     "data": {
      "image/png": "[encoded data removed]",
      "text/plain": [
       "<matplotlib.figure.Figure at 0x109782d68>"
      ]
     },
     "metadata": {},
     "output_type": "display_data"
    }
   ],
   "source": [
    "fig, axs = plt.subplots(1,2,  figsize=(15, 5))\n",
    "\n",
    "df_new['height'].hist(ax=axs[0])\n",
    "axs[0].set_ylabel('Number of entries')\n",
    "axs[0].set_xlabel('Height [cm]')\n",
    "df_new['weight'].hist(ax=axs[1])\n",
    "axs[1].set_ylabel('Number of entries')\n",
    "axs[1].set_xlabel('Weight [kg]')"
   ]
  },
  {
   "cell_type": "code",
   "execution_count": 13,
   "metadata": {
    "collapsed": false
   },
   "outputs": [
    {
     "name": "stdout",
     "output_type": "stream",
     "text": [
      "[ 16 138] [ 16 138] [ 16 138] [ 16 138] [ 16 138] [ 16 138]\n"
     ]
    }
   ],
   "source": [
    "print(df_new[df_new.meanIAT.isnull()]['refCountry'].unique(),\n",
    "df_new[df_new.nIAT.isnull()]['refCountry'].unique(),\n",
    "df_new[df_new.seIAT.isnull()]['refCountry'].unique(),\n",
    "df_new[df_new.meanExp.isnull()]['refCountry'].unique(),\n",
    "df_new[df_new.nExp.isnull()]['refCountry'].unique(),\n",
    "df_new[df_new.seExp.isnull()]['refCountry'].unique())\n"
   ]
  },
  {
   "cell_type": "code",
   "execution_count": 14,
   "metadata": {
    "collapsed": false
   },
   "outputs": [
    {
     "data": {
      "text/plain": [
       "(110, 22)"
      ]
     },
     "execution_count": 14,
     "metadata": {},
     "output_type": "execute_result"
    }
   ],
   "source": [
    "# Not many NAs so we drop them\n",
    "df_new[df_new.meanIAT.isnull()].shape"
   ]
  },
  {
   "cell_type": "code",
   "execution_count": 15,
   "metadata": {
    "collapsed": false
   },
   "outputs": [
    {
     "data": {
      "text/plain": [
       "(113862, 22)"
      ]
     },
     "execution_count": 15,
     "metadata": {},
     "output_type": "execute_result"
    }
   ],
   "source": [
    "df_new.shape"
   ]
  },
  {
   "cell_type": "code",
   "execution_count": 16,
   "metadata": {
    "collapsed": true
   },
   "outputs": [],
   "source": [
    "# TODO: Add explanation for why not dropping NAs\n",
    "df_new['position'].fillna('NA', inplace=True)"
   ]
  },
  {
   "cell_type": "code",
   "execution_count": 17,
   "metadata": {
    "collapsed": true
   },
   "outputs": [],
   "source": [
    "df_new.dropna(inplace=True)"
   ]
  },
  {
   "cell_type": "markdown",
   "metadata": {},
   "source": [
    "Covert categorical data to numerical values"
   ]
  },
  {
   "cell_type": "code",
   "execution_count": 18,
   "metadata": {
    "collapsed": false
   },
   "outputs": [],
   "source": [
    "cols = ['club', 'leagueCountry', 'position']\n",
    "df_cat = df_new[cols].apply(LabelEncoder().fit_transform)"
   ]
  },
  {
   "cell_type": "code",
   "execution_count": 19,
   "metadata": {
    "collapsed": false
   },
   "outputs": [],
   "source": [
    "df_new.drop(cols, axis=1, inplace=True)\n",
    "df_categorized = pd.concat([df_new, df_cat], axis=1)\n"
   ]
  },
  {
   "cell_type": "code",
   "execution_count": 20,
   "metadata": {
    "collapsed": false
   },
   "outputs": [
    {
     "data": {
      "text/html": [
       "<div>\n",
       "<table border=\"1\" class=\"dataframe\">\n",
       "  <thead>\n",
       "    <tr style=\"text-align: right;\">\n",
       "      <th></th>\n",
       "      <th>playerShort</th>\n",
       "      <th>height</th>\n",
       "      <th>weight</th>\n",
       "      <th>games</th>\n",
       "      <th>victories</th>\n",
       "      <th>ties</th>\n",
       "      <th>defeats</th>\n",
       "      <th>goals</th>\n",
       "      <th>yellowCards</th>\n",
       "      <th>yellowReds</th>\n",
       "      <th>...</th>\n",
       "      <th>meanIAT</th>\n",
       "      <th>nIAT</th>\n",
       "      <th>seIAT</th>\n",
       "      <th>meanExp</th>\n",
       "      <th>nExp</th>\n",
       "      <th>seExp</th>\n",
       "      <th>race_val</th>\n",
       "      <th>club</th>\n",
       "      <th>leagueCountry</th>\n",
       "      <th>position</th>\n",
       "    </tr>\n",
       "  </thead>\n",
       "  <tbody>\n",
       "    <tr>\n",
       "      <th>0</th>\n",
       "      <td>aaron-hughes</td>\n",
       "      <td>182.0</td>\n",
       "      <td>71.0</td>\n",
       "      <td>1</td>\n",
       "      <td>0</td>\n",
       "      <td>0</td>\n",
       "      <td>1</td>\n",
       "      <td>0</td>\n",
       "      <td>0</td>\n",
       "      <td>0</td>\n",
       "      <td>...</td>\n",
       "      <td>0.325185</td>\n",
       "      <td>127.0</td>\n",
       "      <td>0.003297</td>\n",
       "      <td>0.538462</td>\n",
       "      <td>130.0</td>\n",
       "      <td>0.013752</td>\n",
       "      <td>0.125</td>\n",
       "      <td>34</td>\n",
       "      <td>0</td>\n",
       "      <td>1</td>\n",
       "    </tr>\n",
       "    <tr>\n",
       "      <th>1</th>\n",
       "      <td>aleksandar-kolarov</td>\n",
       "      <td>187.0</td>\n",
       "      <td>80.0</td>\n",
       "      <td>1</td>\n",
       "      <td>1</td>\n",
       "      <td>0</td>\n",
       "      <td>0</td>\n",
       "      <td>0</td>\n",
       "      <td>0</td>\n",
       "      <td>0</td>\n",
       "      <td>...</td>\n",
       "      <td>0.325185</td>\n",
       "      <td>127.0</td>\n",
       "      <td>0.003297</td>\n",
       "      <td>0.538462</td>\n",
       "      <td>130.0</td>\n",
       "      <td>0.013752</td>\n",
       "      <td>0.125</td>\n",
       "      <td>48</td>\n",
       "      <td>0</td>\n",
       "      <td>6</td>\n",
       "    </tr>\n",
       "    <tr>\n",
       "      <th>2</th>\n",
       "      <td>alexander-tettey</td>\n",
       "      <td>180.0</td>\n",
       "      <td>68.0</td>\n",
       "      <td>1</td>\n",
       "      <td>0</td>\n",
       "      <td>0</td>\n",
       "      <td>1</td>\n",
       "      <td>0</td>\n",
       "      <td>0</td>\n",
       "      <td>0</td>\n",
       "      <td>...</td>\n",
       "      <td>0.325185</td>\n",
       "      <td>127.0</td>\n",
       "      <td>0.003297</td>\n",
       "      <td>0.538462</td>\n",
       "      <td>130.0</td>\n",
       "      <td>0.013752</td>\n",
       "      <td>1.000</td>\n",
       "      <td>54</td>\n",
       "      <td>0</td>\n",
       "      <td>4</td>\n",
       "    </tr>\n",
       "    <tr>\n",
       "      <th>3</th>\n",
       "      <td>anders-lindegaard</td>\n",
       "      <td>193.0</td>\n",
       "      <td>80.0</td>\n",
       "      <td>1</td>\n",
       "      <td>0</td>\n",
       "      <td>1</td>\n",
       "      <td>0</td>\n",
       "      <td>0</td>\n",
       "      <td>0</td>\n",
       "      <td>0</td>\n",
       "      <td>...</td>\n",
       "      <td>0.325185</td>\n",
       "      <td>127.0</td>\n",
       "      <td>0.003297</td>\n",
       "      <td>0.538462</td>\n",
       "      <td>130.0</td>\n",
       "      <td>0.013752</td>\n",
       "      <td>0.250</td>\n",
       "      <td>49</td>\n",
       "      <td>0</td>\n",
       "      <td>5</td>\n",
       "    </tr>\n",
       "    <tr>\n",
       "      <th>4</th>\n",
       "      <td>andreas-beck</td>\n",
       "      <td>180.0</td>\n",
       "      <td>70.0</td>\n",
       "      <td>1</td>\n",
       "      <td>1</td>\n",
       "      <td>0</td>\n",
       "      <td>0</td>\n",
       "      <td>0</td>\n",
       "      <td>0</td>\n",
       "      <td>0</td>\n",
       "      <td>...</td>\n",
       "      <td>0.325185</td>\n",
       "      <td>127.0</td>\n",
       "      <td>0.003297</td>\n",
       "      <td>0.538462</td>\n",
       "      <td>130.0</td>\n",
       "      <td>0.013752</td>\n",
       "      <td>0.000</td>\n",
       "      <td>2</td>\n",
       "      <td>2</td>\n",
       "      <td>10</td>\n",
       "    </tr>\n",
       "  </tbody>\n",
       "</table>\n",
       "<p>5 rows × 22 columns</p>\n",
       "</div>"
      ],
      "text/plain": [
       "          playerShort  height  weight  games  victories  ties  defeats  goals  \\\n",
       "0        aaron-hughes   182.0    71.0      1          0     0        1      0   \n",
       "1  aleksandar-kolarov   187.0    80.0      1          1     0        0      0   \n",
       "2    alexander-tettey   180.0    68.0      1          0     0        1      0   \n",
       "3   anders-lindegaard   193.0    80.0      1          0     1        0      0   \n",
       "4        andreas-beck   180.0    70.0      1          1     0        0      0   \n",
       "\n",
       "   yellowCards  yellowReds    ...      meanIAT   nIAT     seIAT   meanExp  \\\n",
       "0            0           0    ...     0.325185  127.0  0.003297  0.538462   \n",
       "1            0           0    ...     0.325185  127.0  0.003297  0.538462   \n",
       "2            0           0    ...     0.325185  127.0  0.003297  0.538462   \n",
       "3            0           0    ...     0.325185  127.0  0.003297  0.538462   \n",
       "4            0           0    ...     0.325185  127.0  0.003297  0.538462   \n",
       "\n",
       "    nExp     seExp  race_val  club  leagueCountry  position  \n",
       "0  130.0  0.013752     0.125    34              0         1  \n",
       "1  130.0  0.013752     0.125    48              0         6  \n",
       "2  130.0  0.013752     1.000    54              0         4  \n",
       "3  130.0  0.013752     0.250    49              0         5  \n",
       "4  130.0  0.013752     0.000     2              2        10  \n",
       "\n",
       "[5 rows x 22 columns]"
      ]
     },
     "execution_count": 20,
     "metadata": {},
     "output_type": "execute_result"
    }
   ],
   "source": [
    "df_categorized.reset_index(drop=True, inplace = True)\n",
    "df_categorized.head()"
   ]
  },
  {
   "cell_type": "code",
   "execution_count": 21,
   "metadata": {
    "collapsed": false
   },
   "outputs": [
    {
     "data": {
      "text/plain": [
       "playerShort      False\n",
       "height           False\n",
       "weight           False\n",
       "games            False\n",
       "victories        False\n",
       "ties             False\n",
       "defeats          False\n",
       "goals            False\n",
       "yellowCards      False\n",
       "yellowReds       False\n",
       "redCards         False\n",
       "refCountry       False\n",
       "meanIAT          False\n",
       "nIAT             False\n",
       "seIAT            False\n",
       "meanExp          False\n",
       "nExp             False\n",
       "seExp            False\n",
       "race_val         False\n",
       "club             False\n",
       "leagueCountry    False\n",
       "position         False\n",
       "dtype: bool"
      ]
     },
     "execution_count": 21,
     "metadata": {},
     "output_type": "execute_result"
    }
   ],
   "source": [
    "df_categorized.isnull().any()"
   ]
  },
  {
   "cell_type": "markdown",
   "metadata": {},
   "source": [
    "It remains to aggregate the data by player before applying the Machine learning methods"
   ]
  },
  {
   "cell_type": "code",
   "execution_count": 22,
   "metadata": {
    "collapsed": true
   },
   "outputs": [],
   "source": [
    "# each set of columns will be aggregated differently\n",
    "\n",
    "# basis\n",
    "player_cols = ['playerShort'] \n",
    "\n",
    "#sum\n",
    "game_cols = ['games','victories','ties','defeats','goals','yellowCards','yellowReds','redCards']\n",
    "\n",
    "#mode\n",
    "ref_cols = ['refCountry' ]#, 'height', 'weight', 'club', 'leagueCountry', 'position'] \n",
    "\n",
    "#mean\n",
    "bias_mean_cols = ['meanIAT','meanExp', 'race_val', 'height', 'weight', 'club', 'leagueCountry', 'position'] \n",
    "\n",
    "#sum\n",
    "bias_n_cols = ['nIAT','nExp'] \n",
    "\n",
    "#special function\n",
    "bias_se_cols = ['seIAT', 'seExp'] "
   ]
  },
  {
   "cell_type": "code",
   "execution_count": 29,
   "metadata": {
    "collapsed": false
   },
   "outputs": [
    {
     "data": {
      "text/plain": [
       "array([[<matplotlib.axes._subplots.AxesSubplot object at 0x11ad852b0>,\n",
       "        <matplotlib.axes._subplots.AxesSubplot object at 0x11adcbd68>]], dtype=object)"
      ]
     },
     "execution_count": 29,
     "metadata": {},
     "output_type": "execute_result"
    },
    {
     "data": {
      "image/png": "[encoded data removed]",
      "text/plain": [
       "<matplotlib.figure.Figure at 0x11ad7c828>"
      ]
     },
     "metadata": {},
     "output_type": "display_data"
    }
   ],
   "source": [
    "\n",
    "df_categorized.groupby(player_cols)[bias_se_cols].std().hist()"
   ]
  },
  {
   "cell_type": "code",
   "execution_count": 30,
   "metadata": {
    "collapsed": false
   },
   "outputs": [],
   "source": [
    "df_aggregated = df_categorized.groupby(player_cols)[game_cols].sum().reset_index()\n",
    "df_aggregated = df_aggregated.merge(df_categorized.groupby(player_cols)[ref_cols].agg(lambda x: x.value_counts().index[0]).reset_index()) # refs\n",
    "df_aggregated = df_aggregated.merge(df_categorized.groupby(player_cols)[bias_mean_cols].mean().reset_index()) # bias mean\n",
    "df_aggregated = df_aggregated.merge(df_categorized.groupby(player_cols)[bias_n_cols].sum().reset_index()) #bias n\n",
    "df_aggregated = df_aggregated.merge(df_categorized.groupby(player_cols)[bias_se_cols].std().reset_index()) #bias std"
   ]
  },
  {
   "cell_type": "code",
   "execution_count": 31,
   "metadata": {
    "collapsed": false
   },
   "outputs": [
    {
     "data": {
      "text/plain": [
       "(1584, 22)"
      ]
     },
     "execution_count": 31,
     "metadata": {},
     "output_type": "execute_result"
    }
   ],
   "source": [
    "df_aggregated.shape"
   ]
  },
  {
   "cell_type": "code",
   "execution_count": 32,
   "metadata": {
    "collapsed": false
   },
   "outputs": [
    {
     "data": {
      "text/html": [
       "<div>\n",
       "<table border=\"1\" class=\"dataframe\">\n",
       "  <thead>\n",
       "    <tr style=\"text-align: right;\">\n",
       "      <th></th>\n",
       "      <th>playerShort</th>\n",
       "      <th>games</th>\n",
       "      <th>victories</th>\n",
       "      <th>ties</th>\n",
       "      <th>defeats</th>\n",
       "      <th>goals</th>\n",
       "      <th>yellowCards</th>\n",
       "      <th>yellowReds</th>\n",
       "      <th>redCards</th>\n",
       "      <th>refCountry</th>\n",
       "      <th>...</th>\n",
       "      <th>race_val</th>\n",
       "      <th>height</th>\n",
       "      <th>weight</th>\n",
       "      <th>club</th>\n",
       "      <th>leagueCountry</th>\n",
       "      <th>position</th>\n",
       "      <th>nIAT</th>\n",
       "      <th>nExp</th>\n",
       "      <th>seIAT</th>\n",
       "      <th>seExp</th>\n",
       "    </tr>\n",
       "  </thead>\n",
       "  <tbody>\n",
       "    <tr>\n",
       "      <th>0</th>\n",
       "      <td>aaron-hughes</td>\n",
       "      <td>641</td>\n",
       "      <td>243</td>\n",
       "      <td>176</td>\n",
       "      <td>222</td>\n",
       "      <td>9</td>\n",
       "      <td>19</td>\n",
       "      <td>0</td>\n",
       "      <td>0</td>\n",
       "      <td>44</td>\n",
       "      <td>...</td>\n",
       "      <td>0.125</td>\n",
       "      <td>182.0</td>\n",
       "      <td>71.0</td>\n",
       "      <td>34</td>\n",
       "      <td>0</td>\n",
       "      <td>1</td>\n",
       "      <td>3133820.0</td>\n",
       "      <td>3281187.0</td>\n",
       "      <td>0.000707</td>\n",
       "      <td>0.003308</td>\n",
       "    </tr>\n",
       "    <tr>\n",
       "      <th>1</th>\n",
       "      <td>aaron-hunt</td>\n",
       "      <td>329</td>\n",
       "      <td>140</td>\n",
       "      <td>70</td>\n",
       "      <td>119</td>\n",
       "      <td>59</td>\n",
       "      <td>39</td>\n",
       "      <td>0</td>\n",
       "      <td>1</td>\n",
       "      <td>8</td>\n",
       "      <td>...</td>\n",
       "      <td>0.125</td>\n",
       "      <td>183.0</td>\n",
       "      <td>73.0</td>\n",
       "      <td>90</td>\n",
       "      <td>2</td>\n",
       "      <td>0</td>\n",
       "      <td>2553329.0</td>\n",
       "      <td>2627685.0</td>\n",
       "      <td>0.000508</td>\n",
       "      <td>0.002356</td>\n",
       "    </tr>\n",
       "    <tr>\n",
       "      <th>2</th>\n",
       "      <td>aaron-lennon</td>\n",
       "      <td>412</td>\n",
       "      <td>200</td>\n",
       "      <td>97</td>\n",
       "      <td>115</td>\n",
       "      <td>31</td>\n",
       "      <td>11</td>\n",
       "      <td>0</td>\n",
       "      <td>0</td>\n",
       "      <td>44</td>\n",
       "      <td>...</td>\n",
       "      <td>0.250</td>\n",
       "      <td>165.0</td>\n",
       "      <td>63.0</td>\n",
       "      <td>82</td>\n",
       "      <td>0</td>\n",
       "      <td>11</td>\n",
       "      <td>2144721.0</td>\n",
       "      <td>2246113.0</td>\n",
       "      <td>0.001220</td>\n",
       "      <td>0.008723</td>\n",
       "    </tr>\n",
       "    <tr>\n",
       "      <th>3</th>\n",
       "      <td>aaron-ramsey</td>\n",
       "      <td>254</td>\n",
       "      <td>145</td>\n",
       "      <td>42</td>\n",
       "      <td>67</td>\n",
       "      <td>39</td>\n",
       "      <td>31</td>\n",
       "      <td>0</td>\n",
       "      <td>1</td>\n",
       "      <td>44</td>\n",
       "      <td>...</td>\n",
       "      <td>0.000</td>\n",
       "      <td>178.0</td>\n",
       "      <td>76.0</td>\n",
       "      <td>6</td>\n",
       "      <td>0</td>\n",
       "      <td>3</td>\n",
       "      <td>3975720.0</td>\n",
       "      <td>4124639.0</td>\n",
       "      <td>0.001406</td>\n",
       "      <td>0.009682</td>\n",
       "    </tr>\n",
       "    <tr>\n",
       "      <th>4</th>\n",
       "      <td>abdelhamid-el-kaoutari</td>\n",
       "      <td>124</td>\n",
       "      <td>41</td>\n",
       "      <td>40</td>\n",
       "      <td>43</td>\n",
       "      <td>1</td>\n",
       "      <td>8</td>\n",
       "      <td>4</td>\n",
       "      <td>2</td>\n",
       "      <td>7</td>\n",
       "      <td>...</td>\n",
       "      <td>0.250</td>\n",
       "      <td>180.0</td>\n",
       "      <td>73.0</td>\n",
       "      <td>51</td>\n",
       "      <td>1</td>\n",
       "      <td>1</td>\n",
       "      <td>104797.0</td>\n",
       "      <td>109292.0</td>\n",
       "      <td>0.006216</td>\n",
       "      <td>0.023134</td>\n",
       "    </tr>\n",
       "  </tbody>\n",
       "</table>\n",
       "<p>5 rows × 22 columns</p>\n",
       "</div>"
      ],
      "text/plain": [
       "              playerShort  games  victories  ties  defeats  goals  \\\n",
       "0            aaron-hughes    641        243   176      222      9   \n",
       "1              aaron-hunt    329        140    70      119     59   \n",
       "2            aaron-lennon    412        200    97      115     31   \n",
       "3            aaron-ramsey    254        145    42       67     39   \n",
       "4  abdelhamid-el-kaoutari    124         41    40       43      1   \n",
       "\n",
       "   yellowCards  yellowReds  redCards  refCountry    ...     race_val  height  \\\n",
       "0           19           0         0          44    ...        0.125   182.0   \n",
       "1           39           0         1           8    ...        0.125   183.0   \n",
       "2           11           0         0          44    ...        0.250   165.0   \n",
       "3           31           0         1          44    ...        0.000   178.0   \n",
       "4            8           4         2           7    ...        0.250   180.0   \n",
       "\n",
       "   weight  club  leagueCountry  position       nIAT       nExp     seIAT  \\\n",
       "0    71.0    34              0         1  3133820.0  3281187.0  0.000707   \n",
       "1    73.0    90              2         0  2553329.0  2627685.0  0.000508   \n",
       "2    63.0    82              0        11  2144721.0  2246113.0  0.001220   \n",
       "3    76.0     6              0         3  3975720.0  4124639.0  0.001406   \n",
       "4    73.0    51              1         1   104797.0   109292.0  0.006216   \n",
       "\n",
       "      seExp  \n",
       "0  0.003308  \n",
       "1  0.002356  \n",
       "2  0.008723  \n",
       "3  0.009682  \n",
       "4  0.023134  \n",
       "\n",
       "[5 rows x 22 columns]"
      ]
     },
     "execution_count": 32,
     "metadata": {},
     "output_type": "execute_result"
    }
   ],
   "source": [
    "df_aggregated.head()"
   ]
  },
  {
   "cell_type": "code",
   "execution_count": 33,
   "metadata": {
    "collapsed": true
   },
   "outputs": [],
   "source": [
    "#Standardization\n",
    "test=df_aggregated.copy()"
   ]
  },
  {
   "cell_type": "code",
   "execution_count": 34,
   "metadata": {
    "collapsed": false
   },
   "outputs": [
    {
     "data": {
      "text/plain": [
       "playerShort      0\n",
       "games            0\n",
       "victories        0\n",
       "ties             0\n",
       "defeats          0\n",
       "goals            0\n",
       "yellowCards      0\n",
       "yellowReds       0\n",
       "redCards         0\n",
       "refCountry       0\n",
       "meanIAT          0\n",
       "meanExp          0\n",
       "race_val         0\n",
       "height           0\n",
       "weight           0\n",
       "club             0\n",
       "leagueCountry    0\n",
       "position         0\n",
       "nIAT             0\n",
       "nExp             0\n",
       "seIAT            5\n",
       "seExp            5\n",
       "dtype: int64"
      ]
     },
     "execution_count": 34,
     "metadata": {},
     "output_type": "execute_result"
    }
   ],
   "source": [
    "test.isnull().sum()"
   ]
  },
  {
   "cell_type": "code",
   "execution_count": 35,
   "metadata": {
    "collapsed": true
   },
   "outputs": [],
   "source": [
    "#We can see that there are 5 rows with NaN values in the seIAT and seEXP columns, those rows represent only the 0.25% \n",
    "#of the total of the players\n",
    "test.dropna(inplace=1)"
   ]
  },
  {
   "cell_type": "code",
   "execution_count": 217,
   "metadata": {
    "collapsed": true
   },
   "outputs": [],
   "source": [
    "#For the unsupervised learning, we assign the dependent variable (y) to the 'race_val' column, because we want\n",
    "#to predict the color of the player.\n",
    "y=np.asarray(test['race_val'], dtype=\"|S6\")\n",
    "\n",
    "#Discretizing the values of y: 1 is for black players and 0 is for white players\n",
    "for i in range(len(y)):\n",
    "    if y[i]>b'0.5':\n",
    "        y[i]=1\n",
    "    else:\n",
    "        y[i]=0\n",
    "#For the features (x), we let all the columns except for 'playerShort' (only was used for the aggregation by player) \n",
    "#and 'race_val'\n",
    "x=test.drop(['playerShort','race_val'],1)"
   ]
  },
  {
   "cell_type": "code",
   "execution_count": 218,
   "metadata": {
    "collapsed": false
   },
   "outputs": [],
   "source": [
    "#We want to standardize the data set:\n",
    "#x=(x-x_mean)/x_stddev\n",
    "x=StandardScaler().fit_transform(x)\n",
    "#With the StandardScaler() function we obtain a numpy array, so we can get the pandas dataframe again:\n",
    "columns_x=['games','victories','ties','defeats','goals','yellowCards','yellowReds','redCards',\n",
    "           'refCountry','meanIAT','meanExp','height','weight','club','leagueCountry','position',\n",
    "           'nIAT','nExp','seIAT','seExp']\n",
    "x=pd.DataFrame(x,columns=columns_x)"
   ]
  },
  {
   "cell_type": "code",
   "execution_count": 274,
   "metadata": {
    "collapsed": false
   },
   "outputs": [
    {
     "name": "stdout",
     "output_type": "stream",
     "text": [
      "White players: 266\n",
      "Black players: 1313\n"
     ]
    }
   ],
   "source": [
    "print('White players: %i' % sum(y==b'1'))\n",
    "print('Black players: %i' % sum(y==b'0'))"
   ]
  },
  {
   "cell_type": "markdown",
   "metadata": {},
   "source": [
    "## 1. Classification"
   ]
  },
  {
   "cell_type": "markdown",
   "metadata": {},
   "source": [
    "## Parameters"
   ]
  },
  {
   "cell_type": "code",
   "execution_count": 38,
   "metadata": {
    "collapsed": false
   },
   "outputs": [],
   "source": [
    "#n_estimators parameter for the RandomForestClassifier\n",
    "n_estimators_values=np.linspace(1,500,10)\n",
    "acc_n_estimators=[]\n",
    "for i in range(len(n_estimators_values)):\n",
    "    rfc=RandomForestClassifier(n_estimators=int(n_estimators_values[i]))\n",
    "    acc_n_estimators.append(np.mean(sklearn.cross_validation.cross_val_score(rfc, x, y, cv=10, scoring='accuracy')))"
   ]
  },
  {
   "cell_type": "code",
   "execution_count": 39,
   "metadata": {
    "collapsed": false,
    "scrolled": true
   },
   "outputs": [
    {
     "data": {
      "image/png": "[encoded data removed]",
      "text/plain": [
       "<matplotlib.figure.Figure at 0x1180c4630>"
      ]
     },
     "metadata": {},
     "output_type": "display_data"
    }
   ],
   "source": [
    "#Plotting\n",
    "plt.figure(figsize=(5, 3))\n",
    "plt.title(\"Accuracy vs n_estimators\")\n",
    "plt.plot(n_estimators_values,acc_n_estimators)\n",
    "plt.xlabel('n_estimators')\n",
    "plt.ylabel('Accuracy')\n",
    "plt.show()"
   ]
  },
  {
   "cell_type": "markdown",
   "metadata": {
    "collapsed": false
   },
   "source": [
    "We can see that the graph is getting stabilized around the value of n_estimators=100, so we will keep that value."
   ]
  },
  {
   "cell_type": "code",
   "execution_count": 177,
   "metadata": {
    "collapsed": false
   },
   "outputs": [],
   "source": [
    "#Max depth\n",
    "max_depth_val=[1,5,10,20,30,40,50]\n",
    "acc_max_depth=[]\n",
    "for i in max_depth_val:\n",
    "    rfc=RandomForestClassifier(n_estimators=100,max_depth=i)\n",
    "    acc_max_depth.append(np.mean(sklearn.cross_validation.cross_val_score(rfc, x, y, cv=10,scoring='accuracy')))"
   ]
  },
  {
   "cell_type": "code",
   "execution_count": 178,
   "metadata": {
    "collapsed": false
   },
   "outputs": [
    {
     "data": {
      "image/png": "[encoded data removed]",
      "text/plain": [
       "<matplotlib.figure.Figure at 0x118497ba8>"
      ]
     },
     "metadata": {},
     "output_type": "display_data"
    }
   ],
   "source": [
    "#Plotting\n",
    "plt.title(\"Accuracy vs max_depth\")\n",
    "plt.plot(max_depth_val,acc_max_depth)\n",
    "plt.xlabel('max_depth value')\n",
    "plt.ylabel('Accuracy')\n",
    "plt.show()"
   ]
  },
  {
   "cell_type": "markdown",
   "metadata": {
    "collapsed": false
   },
   "source": [
    "We can see that the graph is getting stabilized by the value of 10, so we will keep that value"
   ]
  },
  {
   "cell_type": "code",
   "execution_count": 180,
   "metadata": {
    "collapsed": false
   },
   "outputs": [],
   "source": [
    "#Max_features\n",
    "max_features_val=range(1,x.shape[1],1)\n",
    "acc_max_features=[]\n",
    "for i in max_features_val:\n",
    "    rfc=RandomForestClassifier(n_estimators=100,max_depth=10,max_features=int(i))\n",
    "    acc_max_features.append(np.mean(sklearn.cross_validation.cross_val_score(rfc, x, y, cv=10,scoring='accuracy')))"
   ]
  },
  {
   "cell_type": "code",
   "execution_count": 181,
   "metadata": {
    "collapsed": false
   },
   "outputs": [
    {
     "data": {
      "image/png": "[encoded data removed]",
      "text/plain": [
       "<matplotlib.figure.Figure at 0x1184d29b0>"
      ]
     },
     "metadata": {},
     "output_type": "display_data"
    }
   ],
   "source": [
    "#Plotting\n",
    "plt.title(\"Accuracy vs max_features\")\n",
    "plt.plot(max_features_val,acc_max_features)\n",
    "plt.xlabel('max_features')\n",
    "plt.ylabel('Accuracy')\n",
    "plt.show()"
   ]
  },
  {
   "cell_type": "markdown",
   "metadata": {},
   "source": [
    "We will take a value of max_features=3"
   ]
  },
  {
   "cell_type": "code",
   "execution_count": 220,
   "metadata": {
    "collapsed": false
   },
   "outputs": [],
   "source": [
    "#Training Random Forest with the parameters that were found\n",
    "rfc=RandomForestClassifier(n_estimators=100,max_depth=10,max_features=3)"
   ]
  },
  {
   "cell_type": "code",
   "execution_count": 183,
   "metadata": {
    "collapsed": false,
    "scrolled": false
   },
   "outputs": [
    {
     "data": {
      "text/plain": [
       "array([ 0.7875    ,  0.875     ,  0.85      ,  0.8625    ,  0.85      ,\n",
       "        0.85      ,  0.81012658,  0.86075949,  0.87341772,  0.88607595,\n",
       "        0.79746835,  0.91139241,  0.83544304,  0.88461538,  0.84615385,\n",
       "        0.88461538,  0.83333333,  0.87179487,  0.85897436,  0.88461538])"
      ]
     },
     "execution_count": 183,
     "metadata": {},
     "output_type": "execute_result"
    }
   ],
   "source": [
    "#Taking a look at the cross validation to see if the model is overfitting or not (we are considering a k_fold=20)\n",
    "sklearn.cross_validation.cross_val_score(rfc, x, y, cv=20, scoring='accuracy')"
   ]
  },
  {
   "cell_type": "code",
   "execution_count": 297,
   "metadata": {
    "collapsed": false
   },
   "outputs": [
    {
     "name": "stdout",
     "output_type": "stream",
     "text": [
      "Accuracy: 85.917722%\n"
     ]
    }
   ],
   "source": [
    "#Confusion matrix\n",
    "X_train, X_test, y_train, y_test = train_test_split(x, y, test_size=0.40)\n",
    "rfc =rfc.fit(X_train, y_train)\n",
    "y_predict=rfc.predict(X_test)\n",
    "cm=confusion_matrix(y_test, y_predict)\n",
    "accuracy=sum(y_test==y_predict)/(len(y_test))*100\n",
    "print('Accuracy: %f%%' % accuracy)"
   ]
  },
  {
   "cell_type": "markdown",
   "metadata": {},
   "source": [
    "The following code was adapted from: \n",
    "http://scikit-learn.org/stable/auto_examples/model_selection/plot_confusion_matrix.html#sphx-glr-auto-examples-model-selection-plot-confusion-matrix-py"
   ]
  },
  {
   "cell_type": "code",
   "execution_count": 298,
   "metadata": {
    "collapsed": false
   },
   "outputs": [
    {
     "data": {
      "image/png": "[encoded data removed]",
      "text/plain": [
       "<matplotlib.figure.Figure at 0x12dd83898>"
      ]
     },
     "metadata": {},
     "output_type": "display_data"
    }
   ],
   "source": [
    "plt.figure()\n",
    "plt.imshow(cm, interpolation='nearest', cmap=plt.cm.Blues)\n",
    "plt.title('Confusion Matrix')\n",
    "plt.colorbar()\n",
    "tick_marks = np.arange(2)\n",
    "plt.xticks(tick_marks, ['black player','white player'])\n",
    "plt.yticks(tick_marks, ['black player','white player'])\n",
    "thresh = cm.max() / 2.\n",
    "for i, j in itertools.product(range(cm.shape[0]), range(cm.shape[1])):\n",
    "    plt.text(j, i, cm[i, j], horizontalalignment=\"center\",color=\"white\" if cm[i, j] > thresh else \"black\")\n",
    "plt.tight_layout()\n",
    "plt.ylabel('True label')\n",
    "plt.xlabel('Predicted label')\n",
    "plt.show()"
   ]
  },
  {
   "cell_type": "code",
   "execution_count": 188,
   "metadata": {
    "collapsed": false,
    "scrolled": true
   },
   "outputs": [
    {
     "name": "stdout",
     "output_type": "stream",
     "text": [
      "Feature ranking:\n",
      "1.- seIAT: 0.114161\n",
      "2.- seExp: 0.093069\n",
      "3.- meanExp: 0.088946\n",
      "4.- meanIAT: 0.077901\n",
      "5.- nExp: 0.059293\n",
      "6.- nIAT: 0.053079\n",
      "7.- club: 0.047088\n",
      "8.- leagueCountry: 0.046737\n",
      "9.- refCountry: 0.045462\n",
      "10.- goals: 0.043655\n",
      "11.- victories: 0.043327\n",
      "12.- yellowCards: 0.041111\n",
      "13.- ties: 0.039583\n",
      "14.- games: 0.039232\n",
      "15.- defeats: 0.038858\n",
      "16.- weight: 0.037125\n",
      "17.- height: 0.032058\n",
      "18.- position: 0.029231\n",
      "19.- yellowReds: 0.016022\n",
      "20.- redCards: 0.014063\n"
     ]
    }
   ],
   "source": [
    "#Feature importance\n",
    "rfc =rfc.fit(x, y)\n",
    "importances = rfc.feature_importances_\n",
    "indices=sorted(range(len(importances)), key=lambda k: importances[k],reverse=True)\n",
    "\n",
    "print(\"Feature ranking:\")\n",
    "for n_index in range(len(indices)):\n",
    "    print(\"%d.- %s: %f\" % (n_index + 1, columns_x[indices[n_index]], importances[indices[n_index]]))"
   ]
  },
  {
   "cell_type": "code",
   "execution_count": 189,
   "metadata": {
    "collapsed": false
   },
   "outputs": [
    {
     "data": {
      "image/png": "[encoded data removed]",
      "text/plain": [
       "<matplotlib.figure.Figure at 0x117ecfb38>"
      ]
     },
     "metadata": {},
     "output_type": "display_data"
    }
   ],
   "source": [
    "std = np.std([tree.feature_importances_ for tree in rfc.estimators_],axis=0)\n",
    "\n",
    "#Plotting the important features\n",
    "plt.figure(figsize=(27, 10))\n",
    "plt.title(\"Feature importances\")\n",
    "plt.bar(range(len(indices)), importances[indices],yerr=std[indices],align=\"center\",color='r')\n",
    "plt.xticks(range(len(indices)),(columns_x[i] for i in indices))\n",
    "plt.xlim([-1, len(indices)])\n",
    "plt.show()"
   ]
  },
  {
   "cell_type": "markdown",
   "metadata": {},
   "source": [
    "We can see that the most important features are those who contain \"biased\" values, let's drop them and see what we get."
   ]
  },
  {
   "cell_type": "code",
   "execution_count": 201,
   "metadata": {
    "collapsed": true
   },
   "outputs": [],
   "source": [
    "x_no_bias=x.drop(['seIAT','seExp','meanExp','meanIAT','nExp','nIAT'], 1)\n",
    "x_no_bias_columns=x_no_bias.columns"
   ]
  },
  {
   "cell_type": "code",
   "execution_count": 202,
   "metadata": {
    "collapsed": false,
    "scrolled": true
   },
   "outputs": [
    {
     "data": {
      "text/plain": [
       "array([ 0.875     ,  0.825     ,  0.8375    ,  0.85      ,  0.8375    ,\n",
       "        0.85      ,  0.82278481,  0.84810127,  0.84810127,  0.84810127,\n",
       "        0.82278481,  0.87341772,  0.81012658,  0.84615385,  0.84615385,\n",
       "        0.85897436,  0.83333333,  0.84615385,  0.84615385,  0.85897436])"
      ]
     },
     "execution_count": 202,
     "metadata": {},
     "output_type": "execute_result"
    }
   ],
   "source": [
    "rfc_no_bias=RandomForestClassifier(n_estimators=100,max_depth=10,max_features=3)\n",
    "#We perform the cross validation just to see the accuracy\n",
    "sklearn.cross_validation.cross_val_score(rfc_no_bias, x_no_bias, y, cv=20, scoring='accuracy')"
   ]
  },
  {
   "cell_type": "code",
   "execution_count": 211,
   "metadata": {
    "collapsed": false,
    "scrolled": true
   },
   "outputs": [
    {
     "name": "stdout",
     "output_type": "stream",
     "text": [
      "Feature ranking:\n",
      "1.- victories: 0.094203\n",
      "2.- games: 0.086333\n",
      "3.- goals: 0.085495\n",
      "4.- refCountry: 0.085160\n",
      "5.- club: 0.084530\n",
      "6.- defeats: 0.079569\n",
      "7.- leagueCountry: 0.078907\n",
      "8.- yellowCards: 0.077857\n",
      "9.- weight: 0.072527\n",
      "10.- ties: 0.071248\n",
      "11.- height: 0.067408\n",
      "12.- position: 0.054465\n",
      "13.- redCards: 0.031912\n",
      "14.- yellowReds: 0.030387\n"
     ]
    }
   ],
   "source": [
    "rfc =rfc_no_bias.fit(x_no_bias, y)\n",
    "importances = rfc_no_bias.feature_importances_\n",
    "indices=sorted(range(len(importances)), key=lambda k: importances[k],reverse=True)\n",
    "\n",
    "print(\"Feature ranking:\")\n",
    "for n_index in range(len(indices)):\n",
    "    print(\"%d.- %s: %f\" % (n_index + 1, x_no_bias_columns[indices[n_index]], importances[indices[n_index]]))"
   ]
  },
  {
   "cell_type": "markdown",
   "metadata": {},
   "source": [
    "It seems that the order of the important features did not change so much, now we can see that the features victories and games are leading the feature ranking but the other features are still in the same position "
   ]
  },
  {
   "cell_type": "markdown",
   "metadata": {},
   "source": [
    "## Bonus \n",
    "Learning Curves: Cross Validation "
   ]
  },
  {
   "cell_type": "markdown",
   "metadata": {},
   "source": [
    "## 2. Clustering\n",
    "### Feature Removal"
   ]
  },
  {
   "cell_type": "code",
   "execution_count": null,
   "metadata": {
    "collapsed": true
   },
   "outputs": [],
   "source": []
  },
  {
   "cell_type": "markdown",
   "metadata": {},
   "source": []
  },
  {
   "cell_type": "markdown",
   "metadata": {},
   "source": [
    "# Stuff People have done/Discussions on Slack:\n",
    "\n",
    "## First Discussion -- Input features\n",
    "Ismail Bensouda Koraichi\t[7:48 PM]  \n",
    "Hello, I would like to clarify something. In the first question of the homework : \" [...] given a soccer player description outputs his skin color\", what does \"soccer player description\" mean ? I mean what should be the input ? A dyad ? An aggregation of multiple dyads ?\n",
    "\n",
    "Gael Lederrey\t[9:24 PM]  \n",
    "@ismail64 I think that we'll have to aggregate the data by players.. But then, we loose some information (the IAT and Exp for examples).. Therefore, it can be interesting to create a new feature taking into account the removed feature..\n",
    "\n",
    "But maybe there's another way to deal with the data without aggregating them.. =)\n",
    "\n",
    "Dunai Fuentes Hitos\t[11:31 PM]  \n",
    "I went with the aggregation by player.\n",
    "The \"smart\" way to deal with those features (IAT, Exp, etc.) would be to make a correction upon the number of yellow and red cards received by the player, as this is the only link players have to the referee...\n",
    "But it all looks a bit far-fetched, so I particularly decided to remove all this data under a presumption of honesty (the referee's honesty) (edited)\n",
    "\n",
    "Gael Lederrey\t[11:57 PM]  \n",
    "@dunai That's what I did too.. ^^ \n",
    "But I'm pretty sure racism exists everywhere. So I just created a weighted sum for the cards, the referees' \"racism\" values, and the number of times they encountered a player.. This gives you sort of a score linking the _IAT_ and the _Exp_ to all the referees who encounter a player..\n",
    "\n",
    "At the end, I'm pretty sure that it's important to keep these values.. Because the other values (goals, height, weight, games, etc.) can't be linked to the color of a player.. So, there's only these two \"racism\" values linked to the number of cards that can maybe give some information..\n",
    "\n",
    "If someone has another idea, I'd be glad to read about it.. =) (edited)\n",
    "\n"
   ]
  },
  {
   "cell_type": "markdown",
   "metadata": {},
   "source": [
    "## Second Discussion - Aggregating Features\n",
    "\n",
    "Jonas Racine\t[3:39 PM]  \n",
    "hey guys, is anyone able to get much more than ~70% accuracy on the homework? (exercise 1)\n",
    "\n",
    "bojan.petrovski\t[3:42 PM]  \n",
    "I got something like 78-80\n",
    "\n",
    "[3:43]  \n",
    "But I'm aggregating the results by player\n",
    "\n",
    "Gael Lederrey\t[3:53 PM]  \n",
    "@bojan.petrovski Did you create new features using the ones we loose (Like the IAT and Exp)?\n",
    "\n",
    "bojan.petrovski\t[4:14 PM]  \n",
    "Yeah for the IATmean and EXPmean I averaged them and for IATstd and EXPstd I calculated the Stadndard deviation on the samples that I used for the new means, because you can't just average standard deviations"
   ]
  },
  {
   "cell_type": "markdown",
   "metadata": {
    "collapsed": true
   },
   "source": [
    "## Third Discussion - Dealing with Categorical Features\n",
    "\n",
    "Paul Nicolet\t[10:01 AM]  \n",
    "Hey guys I’m curious to know if you have a good way to deal with the categorical features in the homework, as `scikit-learn` doesn’t accept them as strings. I figured out a way to encode them using the `OneHotEncoder()` class, in order to get a vector representation of each category, but I have some issues to deal with these vectors now, given a DataFrame doesn’t accept vectors as values… The easy way would be to encode them as integers but it’s risky because it could be interpreted as continuous and ordered data right ?\n",
    "\n",
    "arnaudmiribel\t[10:05 AM]  \n",
    "We’ve used `LabelEncoder()` which naïvely binds labels to integers values. There are some issues doing this as two successive cells will be numerically _closer_ than two far apart cells (whereas there is no reason for this), so I’d also welcome any hint on this\n",
    "\n",
    "Baptiste Billardon\t[10:08 AM]  \n",
    "From what I read, there are no implementation of random forest in sklearn that handles categorical features. I also labelEncoded the categorical features then oneHotEncoded them\n",
    "\n",
    "Ondine Chanon\t[11:20 AM]  \n",
    "And what about dummy variables? It increases the number of attributes, but at least each cell has equal importance and there is no ordering issue.\n",
    "\n",
    "Ciprian Tomoiaga\t[3:53 PM]  \n",
    "@bojan.petrovski what would be the reason for averaging IATmean (or EXPmean) ?\n",
    "\n",
    "[3:55]  \n",
    "I mean, it's great that you get a good score, but it doesn't make much sense to me to average independent values. I mean, they are not related to the player, but to the referee\n",
    "\n",
    "Alexis Semple\t[4:25 PM]  \n",
    "Hey guys, I wonder how you understood the first sentence of the description for exercise 2 in this homework:\n",
    "> Aggregate the _referee information_ grouping by soccer player\n",
    "Maybe I'm missing something, but it seems to me that this indicates that we should not use features relevant only to the player himself (e.g. height, weight, position...) (edited)\n",
    "\n",
    "Gianrocco Lazzari\t[4:49 PM]  \n",
    "well, in principle I don’t see what you should exclude them…it’s about reducing the variability across referees (the way I understand it) - it might  be that  player-dependent-features are still relevant (edited)\n",
    "\n",
    "bojan.petrovski\t[5:19 PM]  \n",
    "@cipri_tom well in an ideal world the distribution of red and yellow cards should only depend on the position of the player, i.e. defenders are more likely to make a serious offence. So the cards alone should not help in any way to distinguish between black and white players. My idea is that some referees have a bias so the distribution is not the same for black and white players. And the average of the IAT just gives you a very crude idea of how much the player was discriminated against. For example if the average IAT is high and the player is black I would expect the distribution of cards for that player to be very different and if the IAT is low than you would expect the difference to be small in relation to the distribution for white players. I saw some people mention doing a weighted average based on the number of cards, but I think that in that way you are skewing the average because the lack of a card is also valuable information. (edited)\n",
    "\n",
    "[5:20]  \n",
    "But again it's hard to tell if the model is actually doing this kind of prediction or is picking up on some other factors"
   ]
  },
  {
   "cell_type": "code",
   "execution_count": null,
   "metadata": {
    "collapsed": true
   },
   "outputs": [],
   "source": []
  }
 ],
 "metadata": {
  "anaconda-cloud": {},
  "kernelspec": {
   "display_name": "Python [Root]",
   "language": "python",
   "name": "Python [Root]"
  },
  "language_info": {
   "codemirror_mode": {
    "name": "ipython",
    "version": 3
   },
   "file_extension": ".py",
   "mimetype": "text/x-python",
   "name": "python",
   "nbconvert_exporter": "python",
   "pygments_lexer": "ipython3",
   "version": "3.5.2"
  }
 },
 "nbformat": 4,
 "nbformat_minor": 0
}
