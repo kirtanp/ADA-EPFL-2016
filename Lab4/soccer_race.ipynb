{
 "cells": [
  {
   "cell_type": "markdown",
   "metadata": {},
   "source": [
    "# HW4 - Applied ML\n",
    "\n",
    "There are four aspects:\n",
    "* First, we process the data and explore the dataset (0).\n",
    "* Then, we classify labels. (1).\n",
    "* We plot learning curves (Bonus)\n",
    "* Finally, we do clustering (2)."
   ]
  },
  {
   "cell_type": "markdown",
   "metadata": {},
   "source": [
    "## 0. Data Pre-Processing and Visualization\n",
    "Understanding the dataset, cleaning the variables. This is important because later we will need clean data for supervised and unsupervised learning.\n",
    "\n",
    "Using http://nbviewer.jupyter.org/github/mathewzilla/redcard/blob/master/Crowdstorming_visualisation.ipynb, we will clean the dataset. Then, we will aggregate information. Finally, we will clean up the features."
   ]
  },
  {
   "cell_type": "markdown",
   "metadata": {},
   "source": [
    "### Pre-Processing Tasks and Outline\n",
    "\n",
    "1) Dataset cleaning\n",
    "- exclude interactions by  ref who feature in fewer than 22 diyads\n",
    "\n",
    "- drop NAs with no race values, averaging race values\n",
    "\n",
    "2) Aggregate to player data\n",
    "\n",
    "- combine games, referee and bias information using variable statistics\n",
    "\n",
    "3) Cleaning features\n",
    "\n",
    "- take out unnecessary features — player ID, photo ID\n",
    "- turning date into proper format\n",
    "\n",
    "- convert categorical variables into dummy variables\n"
   ]
  },
  {
   "cell_type": "code",
   "execution_count": 4,
   "metadata": {
    "collapsed": false
   },
   "outputs": [
    {
     "name": "stderr",
     "output_type": "stream",
     "text": [
      "/Users/tbfang/anaconda3/lib/python3.5/site-packages/sklearn/cross_validation.py:44: DeprecationWarning: This module was deprecated in version 0.18 in favor of the model_selection module into which all the refactored classes and functions are moved. Also note that the interface of the new CV iterators are different from that of this module. This module will be removed in 0.20.\n",
      "  \"This module will be removed in 0.20.\", DeprecationWarning)\n"
     ]
    }
   ],
   "source": [
    "#import libraries\n",
    "import pandas as pd\n",
    "import numpy as np\n",
    "import matplotlib.pyplot as plt\n",
    "from sklearn.ensemble import RandomForestClassifier\n",
    "import sklearn.cross_validation\n",
    "from sklearn.metrics import confusion_matrix\n",
    "import itertools\n",
    "from sklearn.model_selection import train_test_split\n",
    "from sklearn.preprocessing import LabelEncoder,OneHotEncoder,StandardScaler\n",
    "from sklearn.model_selection import ShuffleSplit\n",
    "%matplotlib inline"
   ]
  },
  {
   "cell_type": "code",
   "execution_count": 7,
   "metadata": {
    "collapsed": true
   },
   "outputs": [],
   "source": [
    "df = pd.read_csv('Data/CrowdstormingDataJuly1st.csv')"
   ]
  },
  {
   "cell_type": "code",
   "execution_count": 8,
   "metadata": {
    "collapsed": false
   },
   "outputs": [
    {
     "name": "stdout",
     "output_type": "stream",
     "text": [
      "Number of dyads: 146028\n"
     ]
    }
   ],
   "source": [
    "orig_num_dyads = df.shape[0]\n",
    "print('Number of dyads:', orig_num_dyads)"
   ]
  },
  {
   "cell_type": "markdown",
   "metadata": {},
   "source": [
    "## 1. Dataset Cleaning"
   ]
  },
  {
   "cell_type": "markdown",
   "metadata": {},
   "source": [
    "### Exclude Interactions"
   ]
  },
  {
   "cell_type": "code",
   "execution_count": 9,
   "metadata": {
    "collapsed": false
   },
   "outputs": [],
   "source": [
    "#This line defines a new dataframe based on our >21 games filter\n",
    "all_refs = df.refNum.value_counts()\n",
    "good_refs = all_refs[all_refs>21]\n",
    "\n",
    "df=df[df['refNum'].isin(good_refs.index.values)]"
   ]
  },
  {
   "cell_type": "code",
   "execution_count": 5,
   "metadata": {
    "collapsed": false
   },
   "outputs": [
    {
     "name": "stdout",
     "output_type": "stream",
     "text": [
      "percentage of dyads left: 91.4215082039061\n"
     ]
    }
   ],
   "source": [
    "print('percentage of dyads left:', 100 * df.shape[0] / orig_num_dyads)"
   ]
  },
  {
   "cell_type": "markdown",
   "metadata": {},
   "source": [
    "### Getting Race Values\n",
    "\n",
    "Get the real \"race value\" by taking the average of the two. Then drop the ones that don't have rating."
   ]
  },
  {
   "cell_type": "code",
   "execution_count": 10,
   "metadata": {
    "collapsed": false
   },
   "outputs": [
    {
     "data": {
      "text/html": [
       "<div>\n",
       "<table border=\"1\" class=\"dataframe\">\n",
       "  <thead>\n",
       "    <tr style=\"text-align: right;\">\n",
       "      <th></th>\n",
       "      <th>playerShort</th>\n",
       "      <th>player</th>\n",
       "      <th>club</th>\n",
       "      <th>leagueCountry</th>\n",
       "      <th>birthday</th>\n",
       "      <th>height</th>\n",
       "      <th>weight</th>\n",
       "      <th>position</th>\n",
       "      <th>games</th>\n",
       "      <th>victories</th>\n",
       "      <th>...</th>\n",
       "      <th>rater2</th>\n",
       "      <th>refNum</th>\n",
       "      <th>refCountry</th>\n",
       "      <th>Alpha_3</th>\n",
       "      <th>meanIAT</th>\n",
       "      <th>nIAT</th>\n",
       "      <th>seIAT</th>\n",
       "      <th>meanExp</th>\n",
       "      <th>nExp</th>\n",
       "      <th>seExp</th>\n",
       "    </tr>\n",
       "  </thead>\n",
       "  <tbody>\n",
       "  </tbody>\n",
       "</table>\n",
       "<p>0 rows × 28 columns</p>\n",
       "</div>"
      ],
      "text/plain": [
       "Empty DataFrame\n",
       "Columns: [playerShort, player, club, leagueCountry, birthday, height, weight, position, games, victories, ties, defeats, goals, yellowCards, yellowReds, redCards, photoID, rater1, rater2, refNum, refCountry, Alpha_3, meanIAT, nIAT, seIAT, meanExp, nExp, seExp]\n",
       "Index: []\n",
       "\n",
       "[0 rows x 28 columns]"
      ]
     },
     "execution_count": 10,
     "metadata": {},
     "output_type": "execute_result"
    }
   ],
   "source": [
    "# We verify that it is never the case that only one of the rater field is NaN\n",
    "df[((df.rater1.notnull()) & (df.rater2.isnull())) | ((df.rater1.isnull()) & (df.rater2.notnull()))]"
   ]
  },
  {
   "cell_type": "code",
   "execution_count": 11,
   "metadata": {
    "collapsed": false,
    "scrolled": true
   },
   "outputs": [],
   "source": [
    "df['race_val'] = (df['rater1'] + df['rater2'])/2\n",
    "df.dropna(subset=['race_val'],inplace=True)"
   ]
  },
  {
   "cell_type": "code",
   "execution_count": 12,
   "metadata": {
    "collapsed": false
   },
   "outputs": [
    {
     "name": "stdout",
     "output_type": "stream",
     "text": [
      "percentage of dyads left: 77.9727175610157\n"
     ]
    }
   ],
   "source": [
    "print('percentage of dyads left:', 100 * df.shape[0] / orig_num_dyads)"
   ]
  },
  {
   "cell_type": "code",
   "execution_count": 13,
   "metadata": {
    "collapsed": false
   },
   "outputs": [
    {
     "data": {
      "text/plain": [
       "playerShort      False\n",
       "club             False\n",
       "leagueCountry    False\n",
       "height            True\n",
       "weight            True\n",
       "position          True\n",
       "games            False\n",
       "victories        False\n",
       "ties             False\n",
       "defeats          False\n",
       "goals            False\n",
       "yellowCards      False\n",
       "yellowReds       False\n",
       "redCards         False\n",
       "refCountry       False\n",
       "meanIAT           True\n",
       "nIAT              True\n",
       "seIAT             True\n",
       "meanExp           True\n",
       "nExp              True\n",
       "seExp             True\n",
       "race_val         False\n",
       "dtype: bool"
      ]
     },
     "execution_count": 13,
     "metadata": {},
     "output_type": "execute_result"
    }
   ],
   "source": [
    "df_new=df.copy()\n",
    "df_new.drop(['rater1','rater2','player','photoID','Alpha_3','birthday', 'refNum'],axis=1, inplace=True)\n",
    "df_new.isnull().any()"
   ]
  },
  {
   "cell_type": "markdown",
   "metadata": {},
   "source": [
    "Taking care of null values"
   ]
  },
  {
   "cell_type": "code",
   "execution_count": 14,
   "metadata": {
    "collapsed": false
   },
   "outputs": [
    {
     "data": {
      "text/plain": [
       "<matplotlib.text.Text at 0x10aa91320>"
      ]
     },
     "execution_count": 14,
     "metadata": {},
     "output_type": "execute_result"
    },
    {
     "data": {
      "image/png": "[encoded data removed]",
      "text/plain": [
       "<matplotlib.figure.Figure at 0x117f58dd8>"
      ]
     },
     "metadata": {},
     "output_type": "display_data"
    }
   ],
   "source": [
    "# TODO label axes\n",
    "fig, axs = plt.subplots(1,2,  figsize=(15, 5))\n",
    "\n",
    "df_new['height'].hist(ax=axs[0])\n",
    "axs[0].set_ylabel('Number of entries')\n",
    "axs[0].set_xlabel('Height [cm]')\n",
    "df_new['weight'].hist(ax=axs[1])\n",
    "axs[1].set_ylabel('Number of entries')\n",
    "axs[1].set_xlabel('Weight [kg]')"
   ]
  },
  {
   "cell_type": "code",
   "execution_count": 15,
   "metadata": {
    "collapsed": false
   },
   "outputs": [
    {
     "name": "stdout",
     "output_type": "stream",
     "text": [
      "76.31274230154455 182.0956877695693\n"
     ]
    }
   ],
   "source": [
    "mean_weight = df_new['weight'][df_new.weight.notnull()].mean()\n",
    "mean_height = df_new['height'][df_new.height.notnull()].mean()\n",
    "print(mean_weight, mean_height)\n",
    "df_new['weight'].fillna(mean_weight, inplace=True)\n",
    "df_new['height'].fillna(mean_height, inplace=True)"
   ]
  },
  {
   "cell_type": "code",
   "execution_count": 16,
   "metadata": {
    "collapsed": false
   },
   "outputs": [
    {
     "data": {
      "text/plain": [
       "<matplotlib.text.Text at 0x10324fcf8>"
      ]
     },
     "execution_count": 16,
     "metadata": {},
     "output_type": "execute_result"
    },
    {
     "data": {
      "image/png": "[encoded data removed]",
      "text/plain": [
       "<matplotlib.figure.Figure at 0x117f58c18>"
      ]
     },
     "metadata": {},
     "output_type": "display_data"
    }
   ],
   "source": [
    "fig, axs = plt.subplots(1,2,  figsize=(15, 5))\n",
    "\n",
    "df_new['height'].hist(ax=axs[0])\n",
    "axs[0].set_ylabel('Number of entries')\n",
    "axs[0].set_xlabel('Height [cm]')\n",
    "df_new['weight'].hist(ax=axs[1])\n",
    "axs[1].set_ylabel('Number of entries')\n",
    "axs[1].set_xlabel('Weight [kg]')"
   ]
  },
  {
   "cell_type": "code",
   "execution_count": 17,
   "metadata": {
    "collapsed": false
   },
   "outputs": [
    {
     "name": "stdout",
     "output_type": "stream",
     "text": [
      "[ 16 138] [ 16 138] [ 16 138] [ 16 138] [ 16 138] [ 16 138]\n"
     ]
    }
   ],
   "source": [
    "print(df_new[df_new.meanIAT.isnull()]['refCountry'].unique(),\n",
    "df_new[df_new.nIAT.isnull()]['refCountry'].unique(),\n",
    "df_new[df_new.seIAT.isnull()]['refCountry'].unique(),\n",
    "df_new[df_new.meanExp.isnull()]['refCountry'].unique(),\n",
    "df_new[df_new.nExp.isnull()]['refCountry'].unique(),\n",
    "df_new[df_new.seExp.isnull()]['refCountry'].unique())\n"
   ]
  },
  {
   "cell_type": "code",
   "execution_count": 18,
   "metadata": {
    "collapsed": false
   },
   "outputs": [
    {
     "data": {
      "text/plain": [
       "(110, 22)"
      ]
     },
     "execution_count": 18,
     "metadata": {},
     "output_type": "execute_result"
    }
   ],
   "source": [
    "# Not many NAs so we drop them\n",
    "df_new[df_new.meanIAT.isnull()].shape"
   ]
  },
  {
   "cell_type": "code",
   "execution_count": 19,
   "metadata": {
    "collapsed": false
   },
   "outputs": [
    {
     "data": {
      "text/plain": [
       "(113862, 22)"
      ]
     },
     "execution_count": 19,
     "metadata": {},
     "output_type": "execute_result"
    }
   ],
   "source": [
    "df_new.shape"
   ]
  },
  {
   "cell_type": "code",
   "execution_count": 20,
   "metadata": {
    "collapsed": true
   },
   "outputs": [],
   "source": [
    "# TODO: Add explanation for why not dropping NAs\n",
    "df_new['position'].fillna('NA', inplace=True)"
   ]
  },
  {
   "cell_type": "code",
   "execution_count": 21,
   "metadata": {
    "collapsed": true
   },
   "outputs": [],
   "source": [
    "df_new.dropna(inplace=True)"
   ]
  },
  {
   "cell_type": "markdown",
   "metadata": {},
   "source": [
    "Covert categorical data to numerical values"
   ]
  },
  {
   "cell_type": "code",
   "execution_count": 22,
   "metadata": {
    "collapsed": false
   },
   "outputs": [],
   "source": [
    "cols = ['club', 'leagueCountry', 'position']\n",
    "df_cat = df_new[cols].apply(LabelEncoder().fit_transform)"
   ]
  },
  {
   "cell_type": "code",
   "execution_count": 23,
   "metadata": {
    "collapsed": false
   },
   "outputs": [],
   "source": [
    "df_new.drop(cols, axis=1, inplace=True)\n",
    "df_categorized = pd.concat([df_new, df_cat], axis=1)\n"
   ]
  },
  {
   "cell_type": "code",
   "execution_count": 24,
   "metadata": {
    "collapsed": false
   },
   "outputs": [
    {
     "data": {
      "text/html": [
       "<div>\n",
       "<table border=\"1\" class=\"dataframe\">\n",
       "  <thead>\n",
       "    <tr style=\"text-align: right;\">\n",
       "      <th></th>\n",
       "      <th>playerShort</th>\n",
       "      <th>height</th>\n",
       "      <th>weight</th>\n",
       "      <th>games</th>\n",
       "      <th>victories</th>\n",
       "      <th>ties</th>\n",
       "      <th>defeats</th>\n",
       "      <th>goals</th>\n",
       "      <th>yellowCards</th>\n",
       "      <th>yellowReds</th>\n",
       "      <th>...</th>\n",
       "      <th>meanIAT</th>\n",
       "      <th>nIAT</th>\n",
       "      <th>seIAT</th>\n",
       "      <th>meanExp</th>\n",
       "      <th>nExp</th>\n",
       "      <th>seExp</th>\n",
       "      <th>race_val</th>\n",
       "      <th>club</th>\n",
       "      <th>leagueCountry</th>\n",
       "      <th>position</th>\n",
       "    </tr>\n",
       "  </thead>\n",
       "  <tbody>\n",
       "    <tr>\n",
       "      <th>0</th>\n",
       "      <td>aaron-hughes</td>\n",
       "      <td>182.0</td>\n",
       "      <td>71.0</td>\n",
       "      <td>1</td>\n",
       "      <td>0</td>\n",
       "      <td>0</td>\n",
       "      <td>1</td>\n",
       "      <td>0</td>\n",
       "      <td>0</td>\n",
       "      <td>0</td>\n",
       "      <td>...</td>\n",
       "      <td>0.325185</td>\n",
       "      <td>127.0</td>\n",
       "      <td>0.003297</td>\n",
       "      <td>0.538462</td>\n",
       "      <td>130.0</td>\n",
       "      <td>0.013752</td>\n",
       "      <td>0.125</td>\n",
       "      <td>34</td>\n",
       "      <td>0</td>\n",
       "      <td>1</td>\n",
       "    </tr>\n",
       "    <tr>\n",
       "      <th>1</th>\n",
       "      <td>aleksandar-kolarov</td>\n",
       "      <td>187.0</td>\n",
       "      <td>80.0</td>\n",
       "      <td>1</td>\n",
       "      <td>1</td>\n",
       "      <td>0</td>\n",
       "      <td>0</td>\n",
       "      <td>0</td>\n",
       "      <td>0</td>\n",
       "      <td>0</td>\n",
       "      <td>...</td>\n",
       "      <td>0.325185</td>\n",
       "      <td>127.0</td>\n",
       "      <td>0.003297</td>\n",
       "      <td>0.538462</td>\n",
       "      <td>130.0</td>\n",
       "      <td>0.013752</td>\n",
       "      <td>0.125</td>\n",
       "      <td>48</td>\n",
       "      <td>0</td>\n",
       "      <td>6</td>\n",
       "    </tr>\n",
       "    <tr>\n",
       "      <th>2</th>\n",
       "      <td>alexander-tettey</td>\n",
       "      <td>180.0</td>\n",
       "      <td>68.0</td>\n",
       "      <td>1</td>\n",
       "      <td>0</td>\n",
       "      <td>0</td>\n",
       "      <td>1</td>\n",
       "      <td>0</td>\n",
       "      <td>0</td>\n",
       "      <td>0</td>\n",
       "      <td>...</td>\n",
       "      <td>0.325185</td>\n",
       "      <td>127.0</td>\n",
       "      <td>0.003297</td>\n",
       "      <td>0.538462</td>\n",
       "      <td>130.0</td>\n",
       "      <td>0.013752</td>\n",
       "      <td>1.000</td>\n",
       "      <td>54</td>\n",
       "      <td>0</td>\n",
       "      <td>4</td>\n",
       "    </tr>\n",
       "    <tr>\n",
       "      <th>3</th>\n",
       "      <td>anders-lindegaard</td>\n",
       "      <td>193.0</td>\n",
       "      <td>80.0</td>\n",
       "      <td>1</td>\n",
       "      <td>0</td>\n",
       "      <td>1</td>\n",
       "      <td>0</td>\n",
       "      <td>0</td>\n",
       "      <td>0</td>\n",
       "      <td>0</td>\n",
       "      <td>...</td>\n",
       "      <td>0.325185</td>\n",
       "      <td>127.0</td>\n",
       "      <td>0.003297</td>\n",
       "      <td>0.538462</td>\n",
       "      <td>130.0</td>\n",
       "      <td>0.013752</td>\n",
       "      <td>0.250</td>\n",
       "      <td>49</td>\n",
       "      <td>0</td>\n",
       "      <td>5</td>\n",
       "    </tr>\n",
       "    <tr>\n",
       "      <th>4</th>\n",
       "      <td>andreas-beck</td>\n",
       "      <td>180.0</td>\n",
       "      <td>70.0</td>\n",
       "      <td>1</td>\n",
       "      <td>1</td>\n",
       "      <td>0</td>\n",
       "      <td>0</td>\n",
       "      <td>0</td>\n",
       "      <td>0</td>\n",
       "      <td>0</td>\n",
       "      <td>...</td>\n",
       "      <td>0.325185</td>\n",
       "      <td>127.0</td>\n",
       "      <td>0.003297</td>\n",
       "      <td>0.538462</td>\n",
       "      <td>130.0</td>\n",
       "      <td>0.013752</td>\n",
       "      <td>0.000</td>\n",
       "      <td>2</td>\n",
       "      <td>2</td>\n",
       "      <td>10</td>\n",
       "    </tr>\n",
       "  </tbody>\n",
       "</table>\n",
       "<p>5 rows × 22 columns</p>\n",
       "</div>"
      ],
      "text/plain": [
       "          playerShort  height  weight  games  victories  ties  defeats  goals  \\\n",
       "0        aaron-hughes   182.0    71.0      1          0     0        1      0   \n",
       "1  aleksandar-kolarov   187.0    80.0      1          1     0        0      0   \n",
       "2    alexander-tettey   180.0    68.0      1          0     0        1      0   \n",
       "3   anders-lindegaard   193.0    80.0      1          0     1        0      0   \n",
       "4        andreas-beck   180.0    70.0      1          1     0        0      0   \n",
       "\n",
       "   yellowCards  yellowReds    ...      meanIAT   nIAT     seIAT   meanExp  \\\n",
       "0            0           0    ...     0.325185  127.0  0.003297  0.538462   \n",
       "1            0           0    ...     0.325185  127.0  0.003297  0.538462   \n",
       "2            0           0    ...     0.325185  127.0  0.003297  0.538462   \n",
       "3            0           0    ...     0.325185  127.0  0.003297  0.538462   \n",
       "4            0           0    ...     0.325185  127.0  0.003297  0.538462   \n",
       "\n",
       "    nExp     seExp  race_val  club  leagueCountry  position  \n",
       "0  130.0  0.013752     0.125    34              0         1  \n",
       "1  130.0  0.013752     0.125    48              0         6  \n",
       "2  130.0  0.013752     1.000    54              0         4  \n",
       "3  130.0  0.013752     0.250    49              0         5  \n",
       "4  130.0  0.013752     0.000     2              2        10  \n",
       "\n",
       "[5 rows x 22 columns]"
      ]
     },
     "execution_count": 24,
     "metadata": {},
     "output_type": "execute_result"
    }
   ],
   "source": [
    "df_categorized.reset_index(drop=True, inplace = True)\n",
    "df_categorized.head()"
   ]
  },
  {
   "cell_type": "code",
   "execution_count": 25,
   "metadata": {
    "collapsed": false
   },
   "outputs": [
    {
     "data": {
      "text/plain": [
       "playerShort      False\n",
       "height           False\n",
       "weight           False\n",
       "games            False\n",
       "victories        False\n",
       "ties             False\n",
       "defeats          False\n",
       "goals            False\n",
       "yellowCards      False\n",
       "yellowReds       False\n",
       "redCards         False\n",
       "refCountry       False\n",
       "meanIAT          False\n",
       "nIAT             False\n",
       "seIAT            False\n",
       "meanExp          False\n",
       "nExp             False\n",
       "seExp            False\n",
       "race_val         False\n",
       "club             False\n",
       "leagueCountry    False\n",
       "position         False\n",
       "dtype: bool"
      ]
     },
     "execution_count": 25,
     "metadata": {},
     "output_type": "execute_result"
    }
   ],
   "source": [
    "df_categorized.isnull().any()"
   ]
  },
  {
   "cell_type": "markdown",
   "metadata": {},
   "source": [
    "It remains to aggregate the data by player before applying the Machine learning methods"
   ]
  },
  {
   "cell_type": "code",
   "execution_count": 26,
   "metadata": {
    "collapsed": true
   },
   "outputs": [],
   "source": [
    "# each set of columns will be aggregated differently\n",
    "\n",
    "# basis\n",
    "player_cols = ['playerShort'] \n",
    "\n",
    "#sum\n",
    "game_cols = ['games','victories','ties','defeats','goals','yellowCards','yellowReds','redCards']\n",
    "\n",
    "#mode\n",
    "ref_cols = ['refCountry' ]#, 'height', 'weight', 'club', 'leagueCountry', 'position'] \n",
    "\n",
    "#mean\n",
    "bias_mean_cols = ['meanIAT','meanExp', 'race_val', 'height', 'weight', 'club', 'leagueCountry', 'position'] \n",
    "\n",
    "#sum\n",
    "bias_n_cols = ['nIAT','nExp'] \n",
    "\n",
    "#special function\n",
    "bias_se_cols = ['seIAT', 'seExp'] "
   ]
  },
  {
   "cell_type": "code",
   "execution_count": 27,
   "metadata": {
    "collapsed": false
   },
   "outputs": [
    {
     "data": {
      "text/plain": [
       "array([[<matplotlib.axes._subplots.AxesSubplot object at 0x10ba204e0>,\n",
       "        <matplotlib.axes._subplots.AxesSubplot object at 0x1151d7da0>]], dtype=object)"
      ]
     },
     "execution_count": 27,
     "metadata": {},
     "output_type": "execute_result"
    },
    {
     "data": {
      "image/png": "[encoded data removed]",
      "text/plain": [
       "<matplotlib.figure.Figure at 0x117f590b8>"
      ]
     },
     "metadata": {},
     "output_type": "display_data"
    }
   ],
   "source": [
    "df_categorized.groupby(player_cols)[bias_se_cols].std().hist()"
   ]
  },
  {
   "cell_type": "code",
   "execution_count": 28,
   "metadata": {
    "collapsed": false
   },
   "outputs": [],
   "source": [
    "df_aggregated = df_categorized.groupby(player_cols)[game_cols].sum().reset_index()\n",
    "df_aggregated = df_aggregated.merge(df_categorized.groupby(player_cols)[ref_cols].agg(lambda x: x.value_counts().index[0]).reset_index()) # refs\n",
    "df_aggregated = df_aggregated.merge(df_categorized.groupby(player_cols)[bias_mean_cols].mean().reset_index()) # bias mean\n",
    "df_aggregated = df_aggregated.merge(df_categorized.groupby(player_cols)[bias_n_cols].sum().reset_index()) #bias n\n",
    "df_aggregated = df_aggregated.merge(df_categorized.groupby(player_cols)[bias_se_cols].std().reset_index()) #bias std"
   ]
  },
  {
   "cell_type": "code",
   "execution_count": 29,
   "metadata": {
    "collapsed": false
   },
   "outputs": [
    {
     "data": {
      "text/plain": [
       "(1584, 22)"
      ]
     },
     "execution_count": 29,
     "metadata": {},
     "output_type": "execute_result"
    }
   ],
   "source": [
    "df_aggregated.shape"
   ]
  },
  {
   "cell_type": "code",
   "execution_count": 30,
   "metadata": {
    "collapsed": false
   },
   "outputs": [
    {
     "data": {
      "text/html": [
       "<div>\n",
       "<table border=\"1\" class=\"dataframe\">\n",
       "  <thead>\n",
       "    <tr style=\"text-align: right;\">\n",
       "      <th></th>\n",
       "      <th>playerShort</th>\n",
       "      <th>games</th>\n",
       "      <th>victories</th>\n",
       "      <th>ties</th>\n",
       "      <th>defeats</th>\n",
       "      <th>goals</th>\n",
       "      <th>yellowCards</th>\n",
       "      <th>yellowReds</th>\n",
       "      <th>redCards</th>\n",
       "      <th>refCountry</th>\n",
       "      <th>...</th>\n",
       "      <th>race_val</th>\n",
       "      <th>height</th>\n",
       "      <th>weight</th>\n",
       "      <th>club</th>\n",
       "      <th>leagueCountry</th>\n",
       "      <th>position</th>\n",
       "      <th>nIAT</th>\n",
       "      <th>nExp</th>\n",
       "      <th>seIAT</th>\n",
       "      <th>seExp</th>\n",
       "    </tr>\n",
       "  </thead>\n",
       "  <tbody>\n",
       "    <tr>\n",
       "      <th>0</th>\n",
       "      <td>aaron-hughes</td>\n",
       "      <td>641</td>\n",
       "      <td>243</td>\n",
       "      <td>176</td>\n",
       "      <td>222</td>\n",
       "      <td>9</td>\n",
       "      <td>19</td>\n",
       "      <td>0</td>\n",
       "      <td>0</td>\n",
       "      <td>44</td>\n",
       "      <td>...</td>\n",
       "      <td>0.125</td>\n",
       "      <td>182.0</td>\n",
       "      <td>71.0</td>\n",
       "      <td>34</td>\n",
       "      <td>0</td>\n",
       "      <td>1</td>\n",
       "      <td>3133820.0</td>\n",
       "      <td>3281187.0</td>\n",
       "      <td>0.000707</td>\n",
       "      <td>0.003308</td>\n",
       "    </tr>\n",
       "    <tr>\n",
       "      <th>1</th>\n",
       "      <td>aaron-hunt</td>\n",
       "      <td>329</td>\n",
       "      <td>140</td>\n",
       "      <td>70</td>\n",
       "      <td>119</td>\n",
       "      <td>59</td>\n",
       "      <td>39</td>\n",
       "      <td>0</td>\n",
       "      <td>1</td>\n",
       "      <td>8</td>\n",
       "      <td>...</td>\n",
       "      <td>0.125</td>\n",
       "      <td>183.0</td>\n",
       "      <td>73.0</td>\n",
       "      <td>90</td>\n",
       "      <td>2</td>\n",
       "      <td>0</td>\n",
       "      <td>2553329.0</td>\n",
       "      <td>2627685.0</td>\n",
       "      <td>0.000508</td>\n",
       "      <td>0.002356</td>\n",
       "    </tr>\n",
       "    <tr>\n",
       "      <th>2</th>\n",
       "      <td>aaron-lennon</td>\n",
       "      <td>412</td>\n",
       "      <td>200</td>\n",
       "      <td>97</td>\n",
       "      <td>115</td>\n",
       "      <td>31</td>\n",
       "      <td>11</td>\n",
       "      <td>0</td>\n",
       "      <td>0</td>\n",
       "      <td>44</td>\n",
       "      <td>...</td>\n",
       "      <td>0.250</td>\n",
       "      <td>165.0</td>\n",
       "      <td>63.0</td>\n",
       "      <td>82</td>\n",
       "      <td>0</td>\n",
       "      <td>11</td>\n",
       "      <td>2144721.0</td>\n",
       "      <td>2246113.0</td>\n",
       "      <td>0.001220</td>\n",
       "      <td>0.008723</td>\n",
       "    </tr>\n",
       "    <tr>\n",
       "      <th>3</th>\n",
       "      <td>aaron-ramsey</td>\n",
       "      <td>254</td>\n",
       "      <td>145</td>\n",
       "      <td>42</td>\n",
       "      <td>67</td>\n",
       "      <td>39</td>\n",
       "      <td>31</td>\n",
       "      <td>0</td>\n",
       "      <td>1</td>\n",
       "      <td>44</td>\n",
       "      <td>...</td>\n",
       "      <td>0.000</td>\n",
       "      <td>178.0</td>\n",
       "      <td>76.0</td>\n",
       "      <td>6</td>\n",
       "      <td>0</td>\n",
       "      <td>3</td>\n",
       "      <td>3975720.0</td>\n",
       "      <td>4124639.0</td>\n",
       "      <td>0.001406</td>\n",
       "      <td>0.009682</td>\n",
       "    </tr>\n",
       "    <tr>\n",
       "      <th>4</th>\n",
       "      <td>abdelhamid-el-kaoutari</td>\n",
       "      <td>124</td>\n",
       "      <td>41</td>\n",
       "      <td>40</td>\n",
       "      <td>43</td>\n",
       "      <td>1</td>\n",
       "      <td>8</td>\n",
       "      <td>4</td>\n",
       "      <td>2</td>\n",
       "      <td>7</td>\n",
       "      <td>...</td>\n",
       "      <td>0.250</td>\n",
       "      <td>180.0</td>\n",
       "      <td>73.0</td>\n",
       "      <td>51</td>\n",
       "      <td>1</td>\n",
       "      <td>1</td>\n",
       "      <td>104797.0</td>\n",
       "      <td>109292.0</td>\n",
       "      <td>0.006216</td>\n",
       "      <td>0.023134</td>\n",
       "    </tr>\n",
       "  </tbody>\n",
       "</table>\n",
       "<p>5 rows × 22 columns</p>\n",
       "</div>"
      ],
      "text/plain": [
       "              playerShort  games  victories  ties  defeats  goals  \\\n",
       "0            aaron-hughes    641        243   176      222      9   \n",
       "1              aaron-hunt    329        140    70      119     59   \n",
       "2            aaron-lennon    412        200    97      115     31   \n",
       "3            aaron-ramsey    254        145    42       67     39   \n",
       "4  abdelhamid-el-kaoutari    124         41    40       43      1   \n",
       "\n",
       "   yellowCards  yellowReds  redCards  refCountry    ...     race_val  height  \\\n",
       "0           19           0         0          44    ...        0.125   182.0   \n",
       "1           39           0         1           8    ...        0.125   183.0   \n",
       "2           11           0         0          44    ...        0.250   165.0   \n",
       "3           31           0         1          44    ...        0.000   178.0   \n",
       "4            8           4         2           7    ...        0.250   180.0   \n",
       "\n",
       "   weight  club  leagueCountry  position       nIAT       nExp     seIAT  \\\n",
       "0    71.0    34              0         1  3133820.0  3281187.0  0.000707   \n",
       "1    73.0    90              2         0  2553329.0  2627685.0  0.000508   \n",
       "2    63.0    82              0        11  2144721.0  2246113.0  0.001220   \n",
       "3    76.0     6              0         3  3975720.0  4124639.0  0.001406   \n",
       "4    73.0    51              1         1   104797.0   109292.0  0.006216   \n",
       "\n",
       "      seExp  \n",
       "0  0.003308  \n",
       "1  0.002356  \n",
       "2  0.008723  \n",
       "3  0.009682  \n",
       "4  0.023134  \n",
       "\n",
       "[5 rows x 22 columns]"
      ]
     },
     "execution_count": 30,
     "metadata": {},
     "output_type": "execute_result"
    }
   ],
   "source": [
    "df_aggregated.head()"
   ]
  },
  {
   "cell_type": "code",
   "execution_count": 31,
   "metadata": {
    "collapsed": true
   },
   "outputs": [],
   "source": [
    "#Standardization\n",
    "df_ml=df_aggregated.copy()"
   ]
  },
  {
   "cell_type": "code",
   "execution_count": 32,
   "metadata": {
    "collapsed": false
   },
   "outputs": [
    {
     "data": {
      "text/plain": [
       "playerShort      0\n",
       "games            0\n",
       "victories        0\n",
       "ties             0\n",
       "defeats          0\n",
       "goals            0\n",
       "yellowCards      0\n",
       "yellowReds       0\n",
       "redCards         0\n",
       "refCountry       0\n",
       "meanIAT          0\n",
       "meanExp          0\n",
       "race_val         0\n",
       "height           0\n",
       "weight           0\n",
       "club             0\n",
       "leagueCountry    0\n",
       "position         0\n",
       "nIAT             0\n",
       "nExp             0\n",
       "seIAT            5\n",
       "seExp            5\n",
       "dtype: int64"
      ]
     },
     "execution_count": 32,
     "metadata": {},
     "output_type": "execute_result"
    }
   ],
   "source": [
    "df_ml.isnull().sum()"
   ]
  },
  {
   "cell_type": "code",
   "execution_count": 33,
   "metadata": {
    "collapsed": true
   },
   "outputs": [],
   "source": [
    "#We can see that there are 5 rows with NaN values in the seIAT and seEXP columns, those rows represent only the 0.25% \n",
    "#of the total of the players\n",
    "df_ml.dropna(inplace=1)"
   ]
  },
  {
   "cell_type": "code",
   "execution_count": 34,
   "metadata": {
    "collapsed": true
   },
   "outputs": [],
   "source": [
    "#For the unsupervised learning, we assign the dependent variable (y) to the 'race_val' column, because we want\n",
    "#to predict the color of the player.\n",
    "y=np.asarray(df_ml['race_val'], dtype=\"|S6\")\n",
    "\n",
    "#Discretizing the values of y: 1 is for black players and 0 is for white players\n",
    "for i in range(len(y)):\n",
    "    if y[i]>b'0.5':\n",
    "        y[i]=1\n",
    "    else:\n",
    "        y[i]=0\n",
    "#For the features (x), we let all the columns except for 'playerShort' (only was used for the aggregation by player) \n",
    "#and 'race_val'\n",
    "x=df_ml.drop(['playerShort','race_val'],1)"
   ]
  },
  {
   "cell_type": "code",
   "execution_count": 35,
   "metadata": {
    "collapsed": false
   },
   "outputs": [],
   "source": [
    "#We want to standardize the data set:\n",
    "#x=(x-x_mean)/x_stddev\n",
    "x=StandardScaler().fit_transform(x)\n",
    "#With the StandardScaler() function we obtain a numpy array, so we can get the pandas dataframe again:\n",
    "columns_x=['games','victories','ties','defeats','goals','yellowCards','yellowReds','redCards',\n",
    "           'refCountry','meanIAT','meanExp','height','weight','club','leagueCountry','position',\n",
    "           'nIAT','nExp','seIAT','seExp']\n",
    "x=pd.DataFrame(x,columns=columns_x)"
   ]
  },
  {
   "cell_type": "code",
   "execution_count": 36,
   "metadata": {
    "collapsed": false,
    "scrolled": false
   },
   "outputs": [
    {
     "name": "stdout",
     "output_type": "stream",
     "text": [
      "White players: 266\n",
      "Black players: 1313\n"
     ]
    }
   ],
   "source": [
    "print('White players: %i' % sum(y==b'1'))\n",
    "print('Black players: %i' % sum(y==b'0'))"
   ]
  },
  {
   "cell_type": "markdown",
   "metadata": {},
   "source": [
    "We can see that there is a huge difference between the number of black players and white players. If we see at the race_val column before discretizing (values more than 0.5 ->white people, values less than 0.5 black people) we still notice the difference. We will look to balance the classes in the training."
   ]
  },
  {
   "cell_type": "code",
   "execution_count": 37,
   "metadata": {
    "collapsed": false,
    "scrolled": true
   },
   "outputs": [
    {
     "data": {
      "text/plain": [
       "race_val\n",
       "0.000    424\n",
       "0.125    227\n",
       "0.250    470\n",
       "0.375     77\n",
       "0.500    115\n",
       "0.625     33\n",
       "0.750    101\n",
       "0.875     40\n",
       "1.000     92\n",
       "Name: race_val, dtype: int64"
      ]
     },
     "execution_count": 37,
     "metadata": {},
     "output_type": "execute_result"
    }
   ],
   "source": [
    "df_ml.groupby('race_val')['race_val'].count()"
   ]
  },
  {
   "cell_type": "markdown",
   "metadata": {},
   "source": [
    "## 1. Classification"
   ]
  },
  {
   "cell_type": "markdown",
   "metadata": {},
   "source": [
    "## Parameters"
   ]
  },
  {
   "cell_type": "markdown",
   "metadata": {},
   "source": [
    "For the classification part, we want to build the Random Forest Classifier with the RandomForestClassifier function, we could use the default parameters but if we look at the what the parameters are, we can get a better classifier with a better performace.\n",
    "\n",
    "We can vary the parameters value to see the differences with the classifier, we selected the following three as they seem to be the most important for us, the rest of the parameters will have the default values:\n",
    "\n",
    "* n_estimators: The number of trees in the forest.\n",
    "* max_features: The number of features to consider when looking for the best split.\n",
    "* max_depth : The maximum depth of the tree.\n",
    "    "
   ]
  },
  {
   "cell_type": "markdown",
   "metadata": {},
   "source": [
    "### n_estimators"
   ]
  },
  {
   "cell_type": "code",
   "execution_count": 38,
   "metadata": {
    "collapsed": false
   },
   "outputs": [],
   "source": [
    "#n_estimators parameter for the RandomForestClassifier\n",
    "\n",
    "#Let's see how the accuracy varies between 1 and 500 trees.\n",
    "n_estimators_values=np.linspace(1,500,10)\n",
    "acc_n_estimators=[]\n",
    "for i in range(len(n_estimators_values)):\n",
    "    rfc=RandomForestClassifier(n_estimators=int(n_estimators_values[i]))\n",
    "    #We will use the cross validation to see the accuracy of the corresponding random forest varying the n_estimators value\n",
    "    acc_n_estimators.append(np.mean(sklearn.cross_validation.cross_val_score(rfc, x, y, cv=10, scoring='accuracy')))"
   ]
  },
  {
   "cell_type": "code",
   "execution_count": 39,
   "metadata": {
    "collapsed": false,
    "scrolled": true
   },
   "outputs": [
    {
     "data": {
      "image/png": "[encoded data removed]",
      "text/plain": [
       "<matplotlib.figure.Figure at 0x114eba5c0>"
      ]
     },
     "metadata": {},
     "output_type": "display_data"
    }
   ],
   "source": [
    "#Plotting\n",
    "plt.figure(figsize=(5, 3))\n",
    "plt.title(\"Accuracy vs n_estimators\")\n",
    "plt.plot(n_estimators_values,acc_n_estimators)\n",
    "plt.xlabel('n_estimators')\n",
    "plt.ylabel('Accuracy')\n",
    "plt.show()"
   ]
  },
  {
   "cell_type": "markdown",
   "metadata": {
    "collapsed": false
   },
   "source": [
    "We can see that the graph is getting stabilized around the value of n_estimators=100, so we will use 100 trees for our random forest."
   ]
  },
  {
   "cell_type": "markdown",
   "metadata": {},
   "source": [
    "### Max_depth"
   ]
  },
  {
   "cell_type": "code",
   "execution_count": 57,
   "metadata": {
    "collapsed": false
   },
   "outputs": [],
   "source": [
    "#Max_depth parameter for the random forest classifier\n",
    "\n",
    "#Let's create a list with possible values for the max_depth\n",
    "max_depth_val=[1,5,10,20,30,40,50]\n",
    "acc_max_depth=[]\n",
    "for i in max_depth_val:\n",
    "    #We will use the n_estimators=100 as we already saw in the previous cells.\n",
    "    rfc=RandomForestClassifier(n_estimators=100,max_depth=i)\n",
    "    #Again, we will use the cross validation with k_fold=10 to obtain the accuracy of the random forest.\n",
    "    acc_max_depth.append(np.mean(sklearn.cross_validation.cross_val_score(rfc, x, y, cv=10,scoring='accuracy')))"
   ]
  },
  {
   "cell_type": "code",
   "execution_count": 58,
   "metadata": {
    "collapsed": false
   },
   "outputs": [
    {
     "data": {
      "image/png": "[encoded data removed]",
      "text/plain": [
       "<matplotlib.figure.Figure at 0x11a723c88>"
      ]
     },
     "metadata": {},
     "output_type": "display_data"
    }
   ],
   "source": [
    "#Plotting\n",
    "plt.title(\"Accuracy vs max_depth\")\n",
    "plt.plot(max_depth_val,acc_max_depth)\n",
    "plt.xlabel('max_depth value')\n",
    "plt.ylabel('Accuracy')\n",
    "plt.show()"
   ]
  },
  {
   "cell_type": "markdown",
   "metadata": {
    "collapsed": false
   },
   "source": [
    "We can see that the graph is getting stabilized by the value of 10, so we will keep that value for the max_depth to assign how much deep the tree is"
   ]
  },
  {
   "cell_type": "markdown",
   "metadata": {},
   "source": [
    "### Max_features"
   ]
  },
  {
   "cell_type": "code",
   "execution_count": 59,
   "metadata": {
    "collapsed": false
   },
   "outputs": [],
   "source": [
    "#Max_features parameter for the random forest classifier\n",
    "\n",
    "#We will vary the number of features from 1 to the maximum number of features we have in our dataframe\n",
    "max_features_val=range(1,x.shape[1],1)\n",
    "acc_max_features=[]\n",
    "for i in max_features_val:\n",
    "    #We will take the n_estimators=100 and max_depth=10 as we already seen in the previous cells they were the values\n",
    "    #we start seeing an stabilization for the accuracy.\n",
    "    rfc=RandomForestClassifier(n_estimators=100,max_depth=10,max_features=int(i))\n",
    "    #Once again we will use the cross validation with k_fold value=10 to see the accuracy.\n",
    "    acc_max_features.append(np.mean(sklearn.cross_validation.cross_val_score(rfc, x, y, cv=10,scoring='accuracy')))"
   ]
  },
  {
   "cell_type": "code",
   "execution_count": 76,
   "metadata": {
    "collapsed": false
   },
   "outputs": [
    {
     "data": {
      "image/png": "[encoded data removed]",
      "text/plain": [
       "<matplotlib.figure.Figure at 0x11c7f0b38>"
      ]
     },
     "metadata": {},
     "output_type": "display_data"
    }
   ],
   "source": [
    "#Plotting\n",
    "plt.title(\"Accuracy vs max_features\")\n",
    "plt.plot(max_features_val,acc_max_features)\n",
    "plt.xlim(0,20)\n",
    "plt.xlabel('max_features')\n",
    "plt.ylim(0.84,0.86)\n",
    "plt.ylabel('Accuracy')\n",
    "plt.show()"
   ]
  },
  {
   "cell_type": "code",
   "execution_count": 103,
   "metadata": {
    "collapsed": false
   },
   "outputs": [
    {
     "name": "stdout",
     "output_type": "stream",
     "text": [
      "Accuracy [mean]: 85.134457\n",
      "Accuracy for max_features= 3: 85.056869\n"
     ]
    }
   ],
   "source": [
    "print('Accuracy [mean]: %f' % (np.mean(acc_max_features)*100))\n",
    "print('Accuracy for max_features= 3: %f' % (acc_max_features[2]*100))"
   ]
  },
  {
   "cell_type": "markdown",
   "metadata": {},
   "source": [
    "We will take a value of max_features=3, as we can see in the graph that is the one in where the stabilization begins (and the closer to the mean of all the values we got for the stabilization, and after that the accuracy is changing a little bit."
   ]
  },
  {
   "cell_type": "markdown",
   "metadata": {},
   "source": [
    "## Training the Random Forest Classifier"
   ]
  },
  {
   "cell_type": "code",
   "execution_count": 42,
   "metadata": {
    "collapsed": false
   },
   "outputs": [],
   "source": [
    "#Training Random Forest with the parameters that were found\n",
    "rfc=RandomForestClassifier(n_estimators=100,max_depth=10,max_features=3)"
   ]
  },
  {
   "cell_type": "code",
   "execution_count": 114,
   "metadata": {
    "collapsed": false,
    "scrolled": true
   },
   "outputs": [
    {
     "data": {
      "text/plain": [
       "array([ 0.7875    ,  0.8875    ,  0.8375    ,  0.8625    ,  0.85      ,\n",
       "        0.8625    ,  0.82278481,  0.83544304,  0.86075949,  0.88607595,\n",
       "        0.78481013,  0.89873418,  0.82278481,  0.88461538,  0.84615385,\n",
       "        0.8974359 ,  0.83333333,  0.88461538,  0.87179487,  0.85897436])"
      ]
     },
     "execution_count": 114,
     "metadata": {},
     "output_type": "execute_result"
    }
   ],
   "source": [
    "#Taking a look at the cross validation to see if the model is overfitting or not (we are considering a k_fold=20)\n",
    "sklearn.cross_validation.cross_val_score(rfc, x, y, cv=20, scoring='accuracy')"
   ]
  },
  {
   "cell_type": "markdown",
   "metadata": {},
   "source": [
    "### Confusion Matrix"
   ]
  },
  {
   "cell_type": "code",
   "execution_count": 60,
   "metadata": {
    "collapsed": false
   },
   "outputs": [
    {
     "name": "stdout",
     "output_type": "stream",
     "text": [
      "Accuracy: 83.227848%\n"
     ]
    }
   ],
   "source": [
    "#Confusion matrix\n",
    "#We are going to get the confusion matrix to see how our model behaves, for that we are going to split the samples into \n",
    "#train data and test data at a 0.4 ratio, we will fit the train data into the random forest already created (rfc),\n",
    "#make some predictions and getting the confusion matrix and the accuracy\n",
    "X_train, X_test, y_train, y_test = train_test_split(x, y, test_size=0.40)\n",
    "rfc =rfc.fit(X_train, y_train)\n",
    "y_predict=rfc.predict(X_test)\n",
    "cm=confusion_matrix(y_test, y_predict)\n",
    "accuracy=sum(y_test==y_predict)/(len(y_test))*100\n",
    "print('Accuracy: %f%%' % accuracy)"
   ]
  },
  {
   "cell_type": "markdown",
   "metadata": {},
   "source": [
    "The `plot_confusion_matrix` function was adapted from: \n",
    "http://scikit-learn.org/stable/auto_examples/model_selection/plot_confusion_matrix.html#sphx-glr-auto-examples-model-selection-plot-confusion-matrix-py"
   ]
  },
  {
   "cell_type": "code",
   "execution_count": 61,
   "metadata": {
    "collapsed": true
   },
   "outputs": [],
   "source": [
    "def plot_confusion_matrix(cm,y_values):\n",
    "    plt.figure()\n",
    "    plt.imshow(cm, interpolation='nearest', cmap=plt.cm.Blues)\n",
    "    plt.title('Confusion Matrix')\n",
    "    tick_marks = np.arange(len(y_values))\n",
    "    plt.xticks(tick_marks,y_values)\n",
    "    plt.yticks(tick_marks,y_values)\n",
    "    thresh = cm.max() / 2.\n",
    "    for i, j in itertools.product(range(cm.shape[0]), range(cm.shape[1])):\n",
    "        plt.text(j, i, cm[i, j], horizontalalignment=\"center\",color=\"white\" if cm[i, j] > thresh else \"black\")\n",
    "    plt.tight_layout()\n",
    "    plt.ylabel('True label')\n",
    "    plt.xlabel('Predicted label')\n",
    "    plt.show()"
   ]
  },
  {
   "cell_type": "code",
   "execution_count": 62,
   "metadata": {
    "collapsed": false
   },
   "outputs": [
    {
     "data": {
      "image/png": "[encoded data removed]",
      "text/plain": [
       "<matplotlib.figure.Figure at 0x114cbfe10>"
      ]
     },
     "metadata": {},
     "output_type": "display_data"
    }
   ],
   "source": [
    "#we create a list with the two possible values of the labels (0 is for black people and 1 is for white people)\n",
    "y_values=['black player','white player'] \n",
    "\n",
    "plot_confusion_matrix(cm,y_values)"
   ]
  },
  {
   "cell_type": "markdown",
   "metadata": {},
   "source": [
    "we can see in the confusion Matrix, the model predicted most values for the black people (but we already saw that there are 1313 black players vs 266 white players), we can also see that in the sense that for a white player the model predicted a black player and that value is even greater that predicting correctly a white player. So the model has somehow a bias against the white players."
   ]
  },
  {
   "cell_type": "markdown",
   "metadata": {},
   "source": [
    "### Feature importance"
   ]
  },
  {
   "cell_type": "code",
   "execution_count": 156,
   "metadata": {
    "collapsed": false,
    "scrolled": true
   },
   "outputs": [
    {
     "name": "stdout",
     "output_type": "stream",
     "text": [
      "Feature ranking:\n",
      "1.- seIAT: 0.114233\n",
      "2.- seExp: 0.089840\n",
      "3.- meanExp: 0.085596\n",
      "4.- meanIAT: 0.078319\n",
      "5.- nIAT: 0.058703\n",
      "6.- nExp: 0.058446\n",
      "7.- refCountry: 0.050779\n",
      "8.- victories: 0.046319\n",
      "9.- goals: 0.044197\n",
      "10.- games: 0.043222\n",
      "11.- club: 0.042233\n",
      "12.- ties: 0.040597\n",
      "13.- yellowCards: 0.040326\n",
      "14.- leagueCountry: 0.039497\n",
      "15.- defeats: 0.037452\n",
      "16.- weight: 0.035705\n",
      "17.- height: 0.031506\n",
      "18.- position: 0.030633\n",
      "19.- redCards: 0.018054\n",
      "20.- yellowReds: 0.014346\n"
     ]
    }
   ],
   "source": [
    "#Feature importances\n",
    "rfc =rfc.fit(x, y)\n",
    "importances = rfc.feature_importances_\n",
    "indices=sorted(range(len(importances)), key=lambda k: importances[k],reverse=True)\n",
    "\n",
    "print(\"Feature ranking:\")\n",
    "for n_index in range(len(indices)):\n",
    "    print(\"%d.- %s: %f\" % (n_index + 1, columns_x[indices[n_index]], importances[indices[n_index]]))"
   ]
  },
  {
   "cell_type": "code",
   "execution_count": 157,
   "metadata": {
    "collapsed": false
   },
   "outputs": [
    {
     "data": {
      "image/png": "[encoded data removed]",
      "text/plain": [
       "<matplotlib.figure.Figure at 0x11ad971d0>"
      ]
     },
     "metadata": {},
     "output_type": "display_data"
    }
   ],
   "source": [
    "#Getting the standard deviaton of the feature importances:\n",
    "std = np.std([tree.feature_importances_ for tree in rfc.estimators_],axis=0)\n",
    "\n",
    "#Plotting the important features\n",
    "plt.figure(figsize=(27, 10))\n",
    "plt.title(\"Feature importances\")\n",
    "plt.bar(range(len(indices)), importances[indices],yerr=std[indices],align=\"center\",color='r')\n",
    "plt.xticks(range(len(indices)),(columns_x[i] for i in indices))\n",
    "plt.xlim([-1, len(indices)])\n",
    "plt.show()"
   ]
  },
  {
   "cell_type": "markdown",
   "metadata": {},
   "source": [
    "We can see that the most important features are those who contain \"biased\" values:\n",
    "\n",
    "* 1.- seIAT\n",
    "* 2.- seExp\n",
    "* 3.- meanExp\n",
    "* 4.- meanIAT\n",
    "* 5.- nIAT\n",
    "* 6.- nExp\n",
    "\n",
    "Let's drop them and see what we get."
   ]
  },
  {
   "cell_type": "code",
   "execution_count": 158,
   "metadata": {
    "collapsed": true
   },
   "outputs": [],
   "source": [
    "#Dropping the mentioned features\n",
    "x_no_bias=x.drop(['seIAT','seExp','meanExp','meanIAT','nExp','nIAT'], 1)\n",
    "x_no_bias_columns=x_no_bias.columns"
   ]
  },
  {
   "cell_type": "code",
   "execution_count": 160,
   "metadata": {
    "collapsed": false,
    "scrolled": true
   },
   "outputs": [
    {
     "data": {
      "text/plain": [
       "array([ 0.85      ,  0.825     ,  0.8375    ,  0.85      ,  0.85      ,\n",
       "        0.8375    ,  0.83544304,  0.84810127,  0.84810127,  0.86075949,\n",
       "        0.81012658,  0.88607595,  0.81012658,  0.85897436,  0.84615385,\n",
       "        0.85897436,  0.84615385,  0.85897436,  0.83333333,  0.85897436])"
      ]
     },
     "execution_count": 160,
     "metadata": {},
     "output_type": "execute_result"
    }
   ],
   "source": [
    "#Let's create a new  random forest classifier with the parameters founded previously\n",
    "rfc_no_bias=RandomForestClassifier(n_estimators=100,max_depth=10,max_features=3)\n",
    "#We perform the cross validation just to see the accuracy and if the model is overfitting or not.\n",
    "sklearn.cross_validation.cross_val_score(rfc_no_bias, x_no_bias, y, cv=20, scoring='accuracy')"
   ]
  },
  {
   "cell_type": "code",
   "execution_count": 164,
   "metadata": {
    "collapsed": false,
    "scrolled": true
   },
   "outputs": [
    {
     "name": "stdout",
     "output_type": "stream",
     "text": [
      "Feature ranking:\n",
      "1.- victories: 0.094018\n",
      "2.- refCountry: 0.090340\n",
      "3.- games: 0.086729\n",
      "4.- club: 0.085998\n",
      "5.- goals: 0.085159\n",
      "6.- defeats: 0.084242\n",
      "7.- yellowCards: 0.079403\n",
      "8.- leagueCountry: 0.075074\n",
      "9.- weight: 0.072123\n",
      "10.- ties: 0.069469\n",
      "11.- height: 0.063843\n",
      "12.- position: 0.053222\n",
      "13.- redCards: 0.030293\n",
      "14.- yellowReds: 0.030088\n"
     ]
    }
   ],
   "source": [
    "rfc_no_bias =rfc_no_bias.fit(x_no_bias, y)\n",
    "importances = rfc_no_bias.feature_importances_\n",
    "indices=sorted(range(len(importances)), key=lambda k: importances[k],reverse=True)\n",
    "\n",
    "print(\"Feature ranking:\")\n",
    "for n_index in range(len(indices)):\n",
    "    print(\"%d.- %s: %f\" % (n_index + 1, x_no_bias_columns[indices[n_index]], importances[indices[n_index]]))"
   ]
  },
  {
   "cell_type": "code",
   "execution_count": 165,
   "metadata": {
    "collapsed": false
   },
   "outputs": [
    {
     "data": {
      "image/png": "[encoded data removed]",
      "text/plain": [
       "<matplotlib.figure.Figure at 0x11b48bda0>"
      ]
     },
     "metadata": {},
     "output_type": "display_data"
    }
   ],
   "source": [
    "#Getting the standard deviaton of the feature importances:\n",
    "std_no_bias = np.std([tree.feature_importances_ for tree in rfc_no_bias.estimators_],axis=0)\n",
    "\n",
    "#Plotting the important features\n",
    "plt.figure(figsize=(27, 10))\n",
    "plt.title(\"Feature importances\")\n",
    "plt.bar(range(len(indices)), importances[indices],yerr=std_no_bias[indices],align=\"center\",color='r')\n",
    "plt.xticks(range(len(indices)),(columns_x[i] for i in indices))\n",
    "plt.xlim([-1, len(indices)])\n",
    "plt.show()"
   ]
  },
  {
   "cell_type": "markdown",
   "metadata": {},
   "source": [
    "It seems that the order of the important features did not change so much, we still see almost the same behavior for the rest of the features."
   ]
  },
  {
   "cell_type": "markdown",
   "metadata": {},
   "source": [
    "## Bonus: Plotting Learning Curves\n",
    "\n",
    "We plot the learning curves with different parameter sets, and notice which ones have high bias and which ones do not. We then explain why there is a high bias, and how being unbalanced increases the bias."
   ]
  },
  {
   "cell_type": "code",
   "execution_count": 46,
   "metadata": {
    "collapsed": true
   },
   "outputs": [],
   "source": [
    "from helpers import plot_learning_curve # adapted from scikit-learn documentation"
   ]
  },
  {
   "cell_type": "markdown",
   "metadata": {},
   "source": [
    "### Low Bias"
   ]
  },
  {
   "cell_type": "code",
   "execution_count": 57,
   "metadata": {
    "collapsed": false,
    "scrolled": true
   },
   "outputs": [
    {
     "data": {
      "text/plain": [
       "<module 'matplotlib.pyplot' from '/Users/tbfang/anaconda3/lib/python3.5/site-packages/matplotlib/pyplot.py'>"
      ]
     },
     "execution_count": 57,
     "metadata": {},
     "output_type": "execute_result"
    },
    {
     "data": {
      "image/png": "[encoded data removed]",
      "text/plain": [
       "<matplotlib.figure.Figure at 0x114bb04e0>"
      ]
     },
     "metadata": {},
     "output_type": "display_data"
    },
    {
     "data": {
      "image/png": "[encoded data removed]",
      "text/plain": [
       "<matplotlib.figure.Figure at 0x114cae9b0>"
      ]
     },
     "metadata": {},
     "output_type": "display_data"
    }
   ],
   "source": [
    "# Cross validation with 100 iterations to obtain smoother curves\n",
    "cv = ShuffleSplit(n_splits=100, test_size=0.2, random_state=0)\n",
    "\n",
    "# Plot 1\n",
    "# ------------------------------------\n",
    "title = \"Low Bias (n=100,max_depth=10,max_features=3, Unbalanced)\" # *Optimal parameters is determined in code in Section 1\n",
    "estimator = RandomForestClassifier(n_estimators=100,max_depth=10,max_features=3) # the one used above\n",
    "plot_learning_curve(estimator, title, x, y, ylim=(0.7, 1.01), cv=cv, n_jobs=4)\n",
    "\n",
    "# Plot 2\n",
    "# ------------------------------------\n",
    "title = \"Low Bias (n=100,max_depth=10,max_features=3, Balanced)\"\n",
    "estimator = rfc=RandomForestClassifier(n_estimators=100,max_depth=10,max_features=3,class_weight='balanced')\n",
    "plot_learning_curve(estimator, title, x, y, ylim=(0.7, 1.01), cv=cv, n_jobs=4)\n"
   ]
  },
  {
   "cell_type": "markdown",
   "metadata": {},
   "source": [
    "### High Bias"
   ]
  },
  {
   "cell_type": "markdown",
   "metadata": {},
   "source": [
    "There is a high bias when there is depth is low. A depth of 1 corresonds to a boolean function of one feature, so it does not represent the model well. This is especially evident when the class is balanaced. In that case, the model cannot simply output \"black\" for all users. (see below for explanation for balanced classes)."
   ]
  },
  {
   "cell_type": "code",
   "execution_count": 58,
   "metadata": {
    "collapsed": false,
    "scrolled": true
   },
   "outputs": [
    {
     "data": {
      "text/plain": [
       "<module 'matplotlib.pyplot' from '/Users/tbfang/anaconda3/lib/python3.5/site-packages/matplotlib/pyplot.py'>"
      ]
     },
     "execution_count": 58,
     "metadata": {},
     "output_type": "execute_result"
    },
    {
     "data": {
      "image/png": "[encoded data removed]",
      "text/plain": [
       "<matplotlib.figure.Figure at 0x11552bb00>"
      ]
     },
     "metadata": {},
     "output_type": "display_data"
    },
    {
     "data": {
      "image/png": "[encoded data removed]",
      "text/plain": [
       "<matplotlib.figure.Figure at 0x114bcb2b0>"
      ]
     },
     "metadata": {},
     "output_type": "display_data"
    }
   ],
   "source": [
    "# Plot 3\n",
    "# ------------------------------------\n",
    "title = \"High Bias (n=10,max_depth=1,max_features=3, Unbalanced)\"\n",
    "estimator = RandomForestClassifier(n_estimators=10,max_depth=1,max_features=3) \n",
    "plot_learning_curve(estimator, title, x, y, ylim=(0.7, 1.01), cv=cv, n_jobs=4)\n",
    "\n",
    "# Plot 4\n",
    "# ------------------------------------\n",
    "title = \"High Bias (n=10,max_depth=1,max_features=3, Balanced)\"\n",
    "estimator = RandomForestClassifier(n_estimators=10,max_depth=1,max_features=3, class_weight='balanced') \n",
    "plot_learning_curve(estimator, title, x, y, ylim=(0.5, 1.01), cv=cv, n_jobs=4)"
   ]
  },
  {
   "cell_type": "markdown",
   "metadata": {},
   "source": [
    "The bias is still high even when there are many trees sampled. See below plots."
   ]
  },
  {
   "cell_type": "code",
   "execution_count": 59,
   "metadata": {
    "collapsed": false
   },
   "outputs": [
    {
     "data": {
      "text/plain": [
       "<module 'matplotlib.pyplot' from '/Users/tbfang/anaconda3/lib/python3.5/site-packages/matplotlib/pyplot.py'>"
      ]
     },
     "execution_count": 59,
     "metadata": {},
     "output_type": "execute_result"
    },
    {
     "data": {
      "image/png": "[encoded data removed]",
      "text/plain": [
       "<matplotlib.figure.Figure at 0x1148e46a0>"
      ]
     },
     "metadata": {},
     "output_type": "display_data"
    },
    {
     "data": {
      "image/png": "[encoded data removed]",
      "text/plain": [
       "<matplotlib.figure.Figure at 0x1155ac2b0>"
      ]
     },
     "metadata": {},
     "output_type": "display_data"
    }
   ],
   "source": [
    "# Plot 5\n",
    "# ------------------------------------\n",
    "title = \"High Bias (n=100,max_depth=1,max_features=3, Unbalanced)\"\n",
    "estimator = RandomForestClassifier(n_estimators=100,max_depth=1,max_features=3) \n",
    "plot_learning_curve(estimator, title, x, y, ylim=(0.7, 1.01), cv=cv, n_jobs=4)\n",
    "\n",
    "# Plot 6\n",
    "# ------------------------------------\n",
    "title = \"High Bias (n=100,max_depth=1,max_features=3, Balanced)\"\n",
    "estimator = RandomForestClassifier(n_estimators=100,max_depth=1,max_features=3, class_weight='balanced') \n",
    "plot_learning_curve(estimator, title, x, y, ylim=(0.5, 1.01), cv=cv, n_jobs=4)"
   ]
  },
  {
   "cell_type": "markdown",
   "metadata": {},
   "source": [
    "The high bias happens when the depth is low, such as 1. The number of estimators do not impact whether a classifier is highly biased or not. If we balance our trees, we notice that there is very high bias and low accuracy scores with there is low depth. This is a good warning because when it is unbalanced, the curve predicts all players to be black."
   ]
  },
  {
   "cell_type": "markdown",
   "metadata": {},
   "source": [
    "### Note on Balance Class\n",
    "\n",
    "Balancing class size prevent the decision tree to bias towards one class. This is done using the `class_weight` parameter in `RandomForestClassifier`. \"The “balanced” mode uses the values of y to automatically adjust weights inversely proportional to class frequencies in the input data as `n_samples / (n_classes * np.bincount(y))` (source: Scikit-learn documentation)"
   ]
  },
  {
   "cell_type": "markdown",
   "metadata": {},
   "source": [
    "Recall that there is a large difference in size between white and black players. That means that if the forest predicts black players every single time, it will achieve an accuracy of  `1313/(266+1313) = 83.15%`."
   ]
  },
  {
   "cell_type": "code",
   "execution_count": null,
   "metadata": {
    "collapsed": true
   },
   "outputs": [],
   "source": [
    "print('White players: %i' % sum(y==b'1'))\n",
    "print('Black players: %i' % sum(y==b'0'))"
   ]
  },
  {
   "cell_type": "markdown",
   "metadata": {},
   "source": [
    "## 2. Clustering\n",
    "### Feature Removal"
   ]
  },
  {
   "cell_type": "code",
   "execution_count": null,
   "metadata": {
    "collapsed": true
   },
   "outputs": [],
   "source": []
  },
  {
   "cell_type": "code",
   "execution_count": null,
   "metadata": {
    "collapsed": true
   },
   "outputs": [],
   "source": []
  }
 ],
 "metadata": {
  "anaconda-cloud": {},
  "kernelspec": {
   "display_name": "Python 3",
   "language": "python",
   "name": "python3"
  },
  "language_info": {
   "codemirror_mode": {
    "name": "ipython",
    "version": 3
   },
   "file_extension": ".py",
   "mimetype": "text/x-python",
   "name": "python",
   "nbconvert_exporter": "python",
   "pygments_lexer": "ipython3",
   "version": "3.5.1"
  }
 },
 "nbformat": 4,
 "nbformat_minor": 0
}
