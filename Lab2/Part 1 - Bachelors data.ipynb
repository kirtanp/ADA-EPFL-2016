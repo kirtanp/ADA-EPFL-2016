{
 "cells": [
  {
   "cell_type": "markdown",
   "metadata": {},
   "source": [
    "# Time taken to complete degree\n",
    "Obtain all the data for the Bachelor students, starting from 2007. Keep only the students for which you have an entry for both Bachelor semestre 1 and Bachelor semestre 6. Compute how many months it took each student to go from the first to the sixth semester. Partition the data between male and female students, and compute the average -- is the difference in average statistically significant?"
   ]
  },
  {
   "cell_type": "code",
   "execution_count": 177,
   "metadata": {
    "collapsed": true
   },
   "outputs": [],
   "source": [
    "import requests as req\n",
    "import urllib\n",
    "import pandas as pd\n",
    "from bs4 import BeautifulSoup as bes\n",
    "import inspect\n",
    "import copy\n",
    "from tqdm import tqdm\n",
    "import numpy as np\n",
    "import pickle\n",
    "\n",
    "\n",
    "#Add the base url where the form is\n",
    "base_url = \"http://isa.epfl.ch/imoniteur_ISAP/!gedpublicreports.htm?ww_i_reportmodel=133685247\"\n",
    "full_url = \"http://isa.epfl.ch/imoniteur_ISAP/!GEDPUBLICREPORTS.filter?ww_b_list=1&ww_i_reportmodel=133685247&ww_c_langue=&ww_i_reportModelXsl=133685270&zz_x_UNITE_ACAD=&ww_x_UNITE_ACAD=249847&zz_x_PERIODE_ACAD=&ww_x_PERIODE_ACAD=213638028&zz_x_PERIODE_PEDAGO=&ww_x_PERIODE_PEDAGO=249108&zz_x_HIVERETE=&ww_x_HIVERETE=2936286&dummy=ok\""
   ]
  },
  {
   "cell_type": "markdown",
   "metadata": {},
   "source": [
    "Applying the filters to get the Bachelor semester 1 in informatique in 2015-16 gives the following url: \n",
    "```\n",
    "http://isa.epfl.ch/imoniteur_ISAP/!GEDPUBLICREPORTS.filter?ww_b_list=1&ww_i_reportmodel=133685247&ww_c_langue=&ww_i_reportModelXsl=133685270&zz_x_UNITE_ACAD=&ww_x_UNITE_ACAD=249847&zz_x_PERIODE_ACAD=&ww_x_PERIODE_ACAD=213638028&zz_x_PERIODE_PEDAGO=&ww_x_PERIODE_PEDAGO=249108&zz_x_HIVERETE=&ww_x_HIVERETE=2936286&dummy=ok\n",
    "```\n",
    "Feeding this url to postman interceptor gives us the following parameter values:\n",
    "```\n",
    "ww_b_list:1\n",
    "ww_i_reportmodel:133685247\n",
    "ww_c_langue:\n",
    "ww_i_reportModelXsl:133685270\n",
    "zz_x_UNITE_ACAD:\n",
    "ww_x_UNITE_ACAD:249847\n",
    "zz_x_PERIODE_ACAD:\n",
    "ww_x_PERIODE_ACAD:213638028\n",
    "zz_x_PERIODE_PEDAGO:\n",
    "ww_x_PERIODE_PEDAGO:249108\n",
    "zz_x_HIVERETE:\n",
    "ww_x_HIVERETE:2936286\n",
    "dummy:ok\n",
    "```\n",
    "We used inspect element  to get the url of the page that displays only the data table without the form. The url was as follows:\n",
    "```\n",
    "http://isa.epfl.ch/imoniteur_ISAP/!GEDPUBLICREPORTS.html?ww_x_GPS=1897032870&ww_i_reportModel=133685247&ww_i_reportModelXsl=133685270&ww_x_UNITE_ACAD=249847&ww_x_PERIODE_ACAD=213638028&ww_x_PERIODE_PEDAGO=249108&ww_x_HIVERETE=2936286\n",
    "```\n",
    "Feeding this url to postman interceptor gives us the following parameter values:\n",
    "```\n",
    "ww_x_GPS:1897032870\n",
    "ww_i_reportModel:133685247\n",
    "ww_i_reportModelXsl:133685270\n",
    "ww_x_UNITE_ACAD:249847\n",
    "ww_x_PERIODE_ACAD:213638028\n",
    "ww_x_PERIODE_PEDAGO:249108\n",
    "ww_x_HIVERETE:2936286\n",
    "```\n",
    "Looking at the HTML code, we can figure out what each of the parameters stands for:\n",
    "+ **ww_x_GPS**: There might be several lists which match our search. This specifies which list to open. giving -1 opens tous, which is all. So we set this to -1\n",
    "+ **ww_i_reportModel and ww_i_reportModelXsl**: Selecting whether to use HTML or excel. We always want to use HTML so we fix it to the values we got above in postman interceptor.\n",
    "+ **ww_x_UNITE_ACAD**: We are only considering 'Informatique' so we fix it to the value above found using interceptor, for informatique.\n",
    "+ **ww_x_PERIODE_ACAD**: We need to vary the academic period. We will get a dictionary for what value corresponds to which academic year from the HTML source using beautiful soup.\n",
    "+ **ww_x_PERIODE_PEDAGO**: We also need a dictionary for this just as we do for ww_x_PERIODE_ACAD.\n",
    "+ **ww_x_HIVERETE**: Same as above."
   ]
  },
  {
   "cell_type": "markdown",
   "metadata": {},
   "source": [
    "Now we need to get the dictionaries for the required fields"
   ]
  },
  {
   "cell_type": "code",
   "execution_count": 163,
   "metadata": {
    "collapsed": false
   },
   "outputs": [],
   "source": [
    "r = req.get( full_url ) \n",
    "soup = bes(r.text, 'lxml') #applies beautifulSoup on the HTML\n",
    "#print (soup.prettify())"
   ]
  },
  {
   "cell_type": "markdown",
   "metadata": {},
   "source": [
    "'option' corresponds to the dropdown menus in the form. We get a dictionary which relates each possibility in each of the drop down menus to the value of the query in the server."
   ]
  },
  {
   "cell_type": "code",
   "execution_count": 164,
   "metadata": {
    "collapsed": false
   },
   "outputs": [],
   "source": [
    "dicti = {}\n",
    "for select in soup.findAll('select'):\n",
    "    name = select['name'].strip()\n",
    "    dicti[name] = {}\n",
    "    for option in select.findAll('option'):\n",
    "        if(option['value'] != 'null'):\n",
    "            strng = option.string.strip()\n",
    "            dicti[name][strng] = option['value'].strip()"
   ]
  },
  {
   "cell_type": "markdown",
   "metadata": {},
   "source": [
    "This gives us the following dictionary."
   ]
  },
  {
   "cell_type": "code",
   "execution_count": 165,
   "metadata": {
    "collapsed": false
   },
   "outputs": [
    {
     "data": {
      "text/plain": [
       "{'ww_x_HIVERETE': {\"Semestre d'automne\": '2936286',\n",
       "  'Semestre de printemps': '2936295'},\n",
       " 'ww_x_PERIODE_ACAD': {'2007-2008': '978181',\n",
       "  '2008-2009': '978187',\n",
       "  '2009-2010': '978195',\n",
       "  '2010-2011': '39486325',\n",
       "  '2011-2012': '123455150',\n",
       "  '2012-2013': '123456101',\n",
       "  '2013-2014': '213637754',\n",
       "  '2014-2015': '213637922',\n",
       "  '2015-2016': '213638028',\n",
       "  '2016-2017': '355925344'},\n",
       " 'ww_x_PERIODE_PEDAGO': {'Bachelor semestre 1': '249108',\n",
       "  'Bachelor semestre 2': '249114',\n",
       "  'Bachelor semestre 3': '942155',\n",
       "  'Bachelor semestre 4': '942163',\n",
       "  'Bachelor semestre 5': '942120',\n",
       "  'Bachelor semestre 5b': '2226768',\n",
       "  'Bachelor semestre 6': '942175',\n",
       "  'Bachelor semestre 6b': '2226785',\n",
       "  'Master semestre 1': '2230106',\n",
       "  'Master semestre 2': '942192',\n",
       "  'Master semestre 3': '2230128',\n",
       "  'Master semestre 4': '2230140',\n",
       "  'Mineur semestre 1': '2335667',\n",
       "  'Mineur semestre 2': '2335676',\n",
       "  'Mise à niveau': '2063602308',\n",
       "  'Projet Master automne': '249127',\n",
       "  'Projet Master printemps': '3781783',\n",
       "  'Semestre automne': '953159',\n",
       "  'Semestre printemps': '2754553',\n",
       "  'Stage automne 3ème année': '953137',\n",
       "  'Stage automne 4ème année': '2226616',\n",
       "  'Stage printemps 3ème année': '983606',\n",
       "  'Stage printemps 4ème année': '2226626',\n",
       "  'Stage printemps master': '2227132'},\n",
       " 'ww_x_UNITE_ACAD': {'Architecture': '942293',\n",
       "  'Chimie et génie chimique': '246696',\n",
       "  'Cours de mathématiques spéciales': '943282',\n",
       "  'EME (EPFL Middle East)': '637841336',\n",
       "  'Génie civil': '942623',\n",
       "  'Génie mécanique': '944263',\n",
       "  'Génie électrique et électronique': '943936',\n",
       "  'Humanités digitales': '2054839157',\n",
       "  'Informatique': '249847',\n",
       "  'Ingénierie financière': '120623110',\n",
       "  'Management de la technologie': '946882',\n",
       "  'Mathématiques': '944590',\n",
       "  'Microtechnique': '945244',\n",
       "  'Physique': '945571',\n",
       "  'Science et génie des matériaux': '944917',\n",
       "  \"Sciences et ingénierie de l'environnement\": '942953',\n",
       "  'Sciences et technologies du vivant': '945901',\n",
       "  'Section FCUE': '1574548993',\n",
       "  'Systèmes de communication': '946228'}}"
      ]
     },
     "execution_count": 165,
     "metadata": {},
     "output_type": "execute_result"
    }
   ],
   "source": [
    "dicti"
   ]
  },
  {
   "cell_type": "markdown",
   "metadata": {},
   "source": [
    "We know from postman interceptor the parameters in the above dictionary are not enough to make the request to the server. We are missing three parameters which are fixed. We now add them to te dictionary."
   ]
  },
  {
   "cell_type": "code",
   "execution_count": 166,
   "metadata": {
    "collapsed": true
   },
   "outputs": [],
   "source": [
    "gps = 'ww_x_GPS'\n",
    "dicti[gps] = {}\n",
    "r1 = 'ww_i_reportModel'\n",
    "dicti[r1] = {}\n",
    "r2 = 'ww_i_reportModelXsl'\n",
    "dicti[r2] = {}\n",
    "dicti['ww_x_GPS']['tous'] = '-1'  #for 'tous'. fixed\n",
    "dicti['ww_i_reportModel']['html'] = '133685247'  #fixed\n",
    "dicti['ww_i_reportModelXsl']['xls'] = '133685270'  #fixed to HTML"
   ]
  },
  {
   "cell_type": "markdown",
   "metadata": {},
   "source": [
    "We restrict the dictionary to keep only values we are interested in."
   ]
  },
  {
   "cell_type": "code",
   "execution_count": 167,
   "metadata": {
    "collapsed": false
   },
   "outputs": [],
   "source": [
    "# 'ww_x_HIVERETE' is redundant\n",
    "del dicti['ww_x_HIVERETE'] \n",
    "\n",
    "#keep only informatique for 'ww_x_UNITE_ACAD'\n",
    "for key in list(dicti['ww_x_UNITE_ACAD']): \n",
    "    if(key != 'Informatique'):\n",
    "        del dicti['ww_x_UNITE_ACAD'][key]\n",
    "        \n",
    "#keeps only the bachelor semesters\n",
    "for key in list(dicti['ww_x_PERIODE_PEDAGO']): \n",
    "    if(key.startswith('Bachelor') == False):\n",
    "        del dicti['ww_x_PERIODE_PEDAGO'][key]"
   ]
  },
  {
   "cell_type": "markdown",
   "metadata": {},
   "source": [
    "Our dictionary now has precisely only the entries that we need."
   ]
  },
  {
   "cell_type": "code",
   "execution_count": 168,
   "metadata": {
    "collapsed": false
   },
   "outputs": [
    {
     "data": {
      "text/plain": [
       "{'ww_i_reportModel': {'html': '133685247'},\n",
       " 'ww_i_reportModelXsl': {'xls': '133685270'},\n",
       " 'ww_x_GPS': {'tous': '-1'},\n",
       " 'ww_x_PERIODE_ACAD': {'2007-2008': '978181',\n",
       "  '2008-2009': '978187',\n",
       "  '2009-2010': '978195',\n",
       "  '2010-2011': '39486325',\n",
       "  '2011-2012': '123455150',\n",
       "  '2012-2013': '123456101',\n",
       "  '2013-2014': '213637754',\n",
       "  '2014-2015': '213637922',\n",
       "  '2015-2016': '213638028',\n",
       "  '2016-2017': '355925344'},\n",
       " 'ww_x_PERIODE_PEDAGO': {'Bachelor semestre 1': '249108',\n",
       "  'Bachelor semestre 2': '249114',\n",
       "  'Bachelor semestre 3': '942155',\n",
       "  'Bachelor semestre 4': '942163',\n",
       "  'Bachelor semestre 5': '942120',\n",
       "  'Bachelor semestre 5b': '2226768',\n",
       "  'Bachelor semestre 6': '942175',\n",
       "  'Bachelor semestre 6b': '2226785'},\n",
       " 'ww_x_UNITE_ACAD': {'Informatique': '249847'}}"
      ]
     },
     "execution_count": 168,
     "metadata": {},
     "output_type": "execute_result"
    }
   ],
   "source": [
    "dicti"
   ]
  },
  {
   "cell_type": "markdown",
   "metadata": {},
   "source": [
    "Also, we dont need the tags of the values anymore, so we change the dictionary to have the values simply as a list. This makes it easier to iterate over all possibilities for the parameters."
   ]
  },
  {
   "cell_type": "code",
   "execution_count": 169,
   "metadata": {
    "collapsed": false
   },
   "outputs": [],
   "source": [
    "new_dict = {}\n",
    "for key, value in dicti.items():\n",
    "    temp = []\n",
    "    for k, v in dicti[key].items():\n",
    "        temp.append(v)\n",
    "    new_dict[key] = copy.copy(temp)"
   ]
  },
  {
   "cell_type": "markdown",
   "metadata": {},
   "source": [
    "Now we have a dictionary that we can start using to generate the requests. A query corresponds to one possible set of parameters. We generate a list of all the possible set of parameters that we are interested in for this question.\n",
    "\n",
    "Note that we need to vary only 'ww_x_PERIODE_PEDAGO' and 'ww_x_PERIODE_ACAD' as 'ww_x_HIVERETE is redundant and the other values are fixed."
   ]
  },
  {
   "cell_type": "code",
   "execution_count": 170,
   "metadata": {
    "collapsed": false
   },
   "outputs": [
    {
     "data": {
      "text/plain": [
       "{'ww_i_reportModel': ['133685247'],\n",
       " 'ww_i_reportModelXsl': ['133685270'],\n",
       " 'ww_x_GPS': ['-1'],\n",
       " 'ww_x_PERIODE_ACAD': ['213638028',\n",
       "  '123456101',\n",
       "  '978195',\n",
       "  '39486325',\n",
       "  '213637754',\n",
       "  '213637922',\n",
       "  '978181',\n",
       "  '123455150',\n",
       "  '978187',\n",
       "  '355925344'],\n",
       " 'ww_x_PERIODE_PEDAGO': ['2226768',\n",
       "  '2226785',\n",
       "  '942155',\n",
       "  '249114',\n",
       "  '942120',\n",
       "  '942175',\n",
       "  '942163',\n",
       "  '249108'],\n",
       " 'ww_x_UNITE_ACAD': ['249847']}"
      ]
     },
     "execution_count": 170,
     "metadata": {},
     "output_type": "execute_result"
    }
   ],
   "source": [
    "new_dict"
   ]
  },
  {
   "cell_type": "markdown",
   "metadata": {},
   "source": [
    "The following code gives us a set of parameters that we can use along with the requests library to generate the necessary queries. We construct this using the above dictionary. Basically we get all possible combinations for the possibilities for each parameter which we need to pass to requests.get."
   ]
  },
  {
   "cell_type": "code",
   "execution_count": 171,
   "metadata": {
    "collapsed": false
   },
   "outputs": [],
   "source": [
    "import itertools \n",
    "\n",
    "combinations = [[{key: value} for (key, value) in zip(new_dict, values)] \n",
    "                for values in itertools.product(*new_dict.values())]\n",
    "\n",
    "params = []\n",
    "\n",
    "for i in range(len(combinations)):\n",
    "    temp = combinations[i][0].copy()\n",
    "    for j in range(1,len(combinations[i])):\n",
    "        temp.update(combinations[i][j])\n",
    "    params.append(temp)"
   ]
  },
  {
   "cell_type": "code",
   "execution_count": 172,
   "metadata": {
    "collapsed": true
   },
   "outputs": [],
   "source": [
    "def get_key(dicti, value):\n",
    "    for k, v in dicti.items():\n",
    "        if v == value:\n",
    "            return k"
   ]
  },
  {
   "cell_type": "markdown",
   "metadata": {},
   "source": [
    "Now we have the parameters for all qeuries we are interested in as a list. We now do the queries to get a list of dataframes."
   ]
  },
  {
   "cell_type": "code",
   "execution_count": 173,
   "metadata": {
    "collapsed": false
   },
   "outputs": [
    {
     "name": "stderr",
     "output_type": "stream",
     "text": []
    }
   ],
   "source": [
    "# No need to run this since it has been pickeled\n",
    "'''\n",
    "yr = 'ww_x_PERIODE_ACAD'\n",
    "sem = 'ww_x_PERIODE_PEDAGO'\n",
    "\n",
    "df_list = []\n",
    "query = 'http://isa.epfl.ch/imoniteur_ISAP/!GEDPUBLICREPORTS.html?'\n",
    "for param in tqdm(params):\n",
    "    r = req.get(query, param)\n",
    "    try:\n",
    "        df = pd.read_html(r.url,header=0,skiprows=1)[0]\n",
    "    except:\n",
    "        continue\n",
    "    \n",
    "    #We were getting two lists for some queries. This is so that the lists are combined properly. Other\n",
    "    df = df[ (df['Civilité'] == 'Monsieur') | (df['Civilité'] == 'Madame') ]     \n",
    "    df = df.dropna(1)\n",
    "        \n",
    "    year_val = param[yr]\n",
    "    df['Year'] = get_key( dicti[yr], year_val)\n",
    "    \n",
    "    sem_val = param[sem]\n",
    "    df['Semester'] = get_key( dicti[sem], sem_val)\n",
    "    df_list.append(df)\n",
    "'''"
   ]
  },
  {
   "cell_type": "code",
   "execution_count": 174,
   "metadata": {
    "collapsed": false
   },
   "outputs": [],
   "source": [
    "#Concat the dataFrames to get one big dataframe\n",
    "df_bachelor = pd.concat(df_list,ignore_index=True)"
   ]
  },
  {
   "cell_type": "code",
   "execution_count": 175,
   "metadata": {
    "collapsed": false
   },
   "outputs": [],
   "source": [
    "#Conver 'No Sciper' to int\n",
    "df_bachelor['No Sciper'] = df_bachelor['No Sciper'].apply(lambda x: int(x))"
   ]
  },
  {
   "cell_type": "markdown",
   "metadata": {},
   "source": [
    "### Pickling the DataFrame list\n",
    "\n",
    "Since the list of DataFrame is computationally intensive, and we do not want to send the request to servers everytime, we saved the dataframes into another file, df_bachelor.p"
   ]
  },
  {
   "cell_type": "code",
   "execution_count": 178,
   "metadata": {
    "collapsed": false
   },
   "outputs": [],
   "source": [
    "# saving the file\n",
    "'pickle.dump(df_bachelor, open( \"df_bachelor.p\", \"wb\" ) )'\n",
    "#needs to be dumped only once"
   ]
  },
  {
   "cell_type": "code",
   "execution_count": 187,
   "metadata": {
    "collapsed": true
   },
   "outputs": [],
   "source": [
    "# opening the file\n",
    "df_bachelor = pickle.load( open( \"df_bachelor.p\", \"rb\" ) )"
   ]
  },
  {
   "cell_type": "code",
   "execution_count": 227,
   "metadata": {
    "collapsed": false
   },
   "outputs": [
    {
     "data": {
      "text/html": [
       "<div>\n",
       "<table border=\"1\" class=\"dataframe\">\n",
       "  <thead>\n",
       "    <tr style=\"text-align: right;\">\n",
       "      <th></th>\n",
       "      <th>Civilité</th>\n",
       "      <th>Nom Prénom</th>\n",
       "      <th>Statut</th>\n",
       "      <th>No Sciper</th>\n",
       "      <th>Year</th>\n",
       "      <th>Semester</th>\n",
       "    </tr>\n",
       "  </thead>\n",
       "  <tbody>\n",
       "  </tbody>\n",
       "</table>\n",
       "</div>"
      ],
      "text/plain": [
       "Empty DataFrame\n",
       "Columns: [Civilité, Nom Prénom, Statut, No Sciper, Year, Semester]\n",
       "Index: []"
      ]
     },
     "execution_count": 227,
     "metadata": {},
     "output_type": "execute_result"
    }
   ],
   "source": [
    "df = df_bachelor\n",
    "\n",
    "# We cond=firm that there are no entries for Bachelor semestre 6b and 5b\n",
    "test = df[(df['Semester'] == 'Bachelor semestre 5b') | (df['Semester'] == 'Bachelor semestre 6b')]\n",
    "test"
   ]
  },
  {
   "cell_type": "markdown",
   "metadata": {
    "collapsed": false
   },
   "source": [
    "# Analysis\n",
    "New we have the dataframe with all the data which we need to work with. We now start with the analysis of the data. Our assumptions are as follows:\n",
    "+ We only include students for whom we have both bachelor semester 1, and either bachelor semester 5 or 6 until the previous academic year. So we do not include students doing their 5th semester this semester. \n",
    "+ The bachelor only starts in the Autumn semester. So the first semester of bachelor cannot be Bachelor semester 2.\n",
    "+ We do not account for leaves."
   ]
  },
  {
   "cell_type": "markdown",
   "metadata": {
    "collapsed": false
   },
   "source": [
    "We start by adding rows for first semester and last semester and removing students who have not completed the degree. We assume that those who do not have a record for semester 6 did not complete the degree."
   ]
  },
  {
   "cell_type": "code",
   "execution_count": 228,
   "metadata": {
    "collapsed": false
   },
   "outputs": [],
   "source": [
    "#The main dataFrame we are working with\n",
    "df = df.sort_values(by=['Nom Prénom', 'Year', 'Semester'])"
   ]
  },
  {
   "cell_type": "code",
   "execution_count": 229,
   "metadata": {
    "collapsed": false
   },
   "outputs": [],
   "source": [
    "#Semester number\n",
    "df['Semester'] = df['Semester'].str[18].astype(int)\n",
    "\n",
    "#0 if autumn semester and 1 if spring semester\n",
    "df['Sem type'] = (df['Semester'] + 1)%2\n",
    "\n",
    "# NOTE: If this cell is run more than once it will give an error since an str would have been converted to int"
   ]
  },
  {
   "cell_type": "code",
   "execution_count": 230,
   "metadata": {
    "collapsed": false
   },
   "outputs": [],
   "source": [
    "#Denote each academic year by only a single year, which is the starting year\n",
    "df['Year'] = df['Year'].str[0:4].astype(int)\n"
   ]
  },
  {
   "cell_type": "code",
   "execution_count": 231,
   "metadata": {
    "collapsed": false
   },
   "outputs": [
    {
     "data": {
      "text/html": [
       "<div>\n",
       "<table border=\"1\" class=\"dataframe\">\n",
       "  <thead>\n",
       "    <tr style=\"text-align: right;\">\n",
       "      <th></th>\n",
       "      <th>Civilité</th>\n",
       "      <th>Nom Prénom</th>\n",
       "      <th>Statut</th>\n",
       "      <th>No Sciper</th>\n",
       "      <th>Year</th>\n",
       "      <th>Semester</th>\n",
       "      <th>Sem type</th>\n",
       "    </tr>\n",
       "  </thead>\n",
       "  <tbody>\n",
       "    <tr>\n",
       "      <th>4043</th>\n",
       "      <td>Monsieur</td>\n",
       "      <td>Aapro Niccolò</td>\n",
       "      <td>Présent</td>\n",
       "      <td>170617</td>\n",
       "      <td>2007</td>\n",
       "      <td>3</td>\n",
       "      <td>0</td>\n",
       "    </tr>\n",
       "    <tr>\n",
       "      <th>4255</th>\n",
       "      <td>Monsieur</td>\n",
       "      <td>Aapro Niccolò</td>\n",
       "      <td>Congé</td>\n",
       "      <td>170617</td>\n",
       "      <td>2007</td>\n",
       "      <td>4</td>\n",
       "      <td>1</td>\n",
       "    </tr>\n",
       "    <tr>\n",
       "      <th>3801</th>\n",
       "      <td>Monsieur</td>\n",
       "      <td>Abate Bryan Jeremy</td>\n",
       "      <td>Présent</td>\n",
       "      <td>246671</td>\n",
       "      <td>2014</td>\n",
       "      <td>1</td>\n",
       "      <td>0</td>\n",
       "    </tr>\n",
       "    <tr>\n",
       "      <th>3300</th>\n",
       "      <td>Monsieur</td>\n",
       "      <td>Abate Bryan Jeremy</td>\n",
       "      <td>Présent</td>\n",
       "      <td>246671</td>\n",
       "      <td>2014</td>\n",
       "      <td>2</td>\n",
       "      <td>1</td>\n",
       "    </tr>\n",
       "    <tr>\n",
       "      <th>0</th>\n",
       "      <td>Monsieur</td>\n",
       "      <td>Abate Bryan Jeremy</td>\n",
       "      <td>Présent</td>\n",
       "      <td>246671</td>\n",
       "      <td>2015</td>\n",
       "      <td>3</td>\n",
       "      <td>0</td>\n",
       "    </tr>\n",
       "  </tbody>\n",
       "</table>\n",
       "</div>"
      ],
      "text/plain": [
       "      Civilité          Nom Prénom   Statut  No Sciper  Year  Semester  \\\n",
       "4043  Monsieur       Aapro Niccolò  Présent     170617  2007         3   \n",
       "4255  Monsieur       Aapro Niccolò    Congé     170617  2007         4   \n",
       "3801  Monsieur  Abate Bryan Jeremy  Présent     246671  2014         1   \n",
       "3300  Monsieur  Abate Bryan Jeremy  Présent     246671  2014         2   \n",
       "0     Monsieur  Abate Bryan Jeremy  Présent     246671  2015         3   \n",
       "\n",
       "      Sem type  \n",
       "4043         0  \n",
       "4255         1  \n",
       "3801         0  \n",
       "3300         1  \n",
       "0            0  "
      ]
     },
     "execution_count": 231,
     "metadata": {},
     "output_type": "execute_result"
    }
   ],
   "source": [
    "df = df.sort_values(by=['Nom Prénom', 'Year', 'Semester'])\n",
    "df.head()"
   ]
  },
  {
   "cell_type": "code",
   "execution_count": 232,
   "metadata": {
    "collapsed": true
   },
   "outputs": [],
   "source": [
    "# orgnaization\n",
    "\n",
    "#DataFrame for getting the first sem bachelor semester. Recall that the dataFrame has been sorted by year and semester\n",
    "first_row = df.groupby('Nom Prénom').first()\n",
    "first_row.rename(columns={'Year':'first_year', 'Semester':'first_semester'}, inplace=True)\n",
    "first_row = first_row[['Civilité','first_year','first_semester' ]]\n",
    "first_row.reset_index(inplace=True)\n"
   ]
  },
  {
   "cell_type": "code",
   "execution_count": 233,
   "metadata": {
    "collapsed": false
   },
   "outputs": [],
   "source": [
    "# dataFrame for last sem of Bachelor semester \n",
    "last_row = df.groupby('Nom Prénom').last()\n",
    "last_row.rename(columns={'Year':'last_year', 'Semester':'last_semester'}, inplace=True)\n",
    "last_row = last_row[['Civilité','last_year','last_semester', 'Sem type' ]]\n",
    "last_row.reset_index(inplace=True)"
   ]
  },
  {
   "cell_type": "code",
   "execution_count": 234,
   "metadata": {
    "collapsed": false
   },
   "outputs": [],
   "source": [
    "#The first sem should be Bachelor Semester 1 \n",
    "first_row = first_row[first_row['first_semester'] == 1]\n"
   ]
  },
  {
   "cell_type": "code",
   "execution_count": 235,
   "metadata": {
    "collapsed": false
   },
   "outputs": [],
   "source": [
    "# The last sem should be bachelor sem 5 or 6 but if it is 5, it should not be in 2016\n",
    "last_row = last_row[ (last_row['last_semester'] == 6 ) | (last_row['last_semester'] == 5 ) ]\n",
    "last_row = last_row[ last_row['last_year'] != 2016 ]"
   ]
  },
  {
   "cell_type": "code",
   "execution_count": 236,
   "metadata": {
    "collapsed": false
   },
   "outputs": [],
   "source": [
    "#We do an inner join of last_row and first_row so that only students in both tables remain\n",
    "df_dur = pd.merge(first_row, last_row, how='inner', on='Nom Prénom' )\n",
    "\n"
   ]
  },
  {
   "cell_type": "markdown",
   "metadata": {},
   "source": [
    "# Calculating duration\n",
    "We calculate the duration in months, assuming one semester is 6 months. So  we have number of months = (last_year - first_year)x12. We need to add 6 months to this to get the number we expect because starting in sem 1, year i and finishing in sem 1, year j is 2(j-i)+1 semesters. So we add 6 months to take care of this +1. But this is not enough because we also have to take into account the semester in which the student finished. If he/she finished in the spring semester we need to add 6 more months."
   ]
  },
  {
   "cell_type": "code",
   "execution_count": 237,
   "metadata": {
    "collapsed": false
   },
   "outputs": [
    {
     "data": {
      "text/html": [
       "<div>\n",
       "<table border=\"1\" class=\"dataframe\">\n",
       "  <thead>\n",
       "    <tr style=\"text-align: right;\">\n",
       "      <th></th>\n",
       "      <th>Nom Prénom</th>\n",
       "      <th>Civilité_x</th>\n",
       "      <th>first_year</th>\n",
       "      <th>first_semester</th>\n",
       "      <th>Civilité_y</th>\n",
       "      <th>last_year</th>\n",
       "      <th>last_semester</th>\n",
       "      <th>Sem type</th>\n",
       "      <th>Duration in Months</th>\n",
       "    </tr>\n",
       "  </thead>\n",
       "  <tbody>\n",
       "    <tr>\n",
       "      <th>0</th>\n",
       "      <td>Aiulfi Loris Sandro</td>\n",
       "      <td>Monsieur</td>\n",
       "      <td>2010</td>\n",
       "      <td>1</td>\n",
       "      <td>Monsieur</td>\n",
       "      <td>2015</td>\n",
       "      <td>6</td>\n",
       "      <td>1</td>\n",
       "      <td>72</td>\n",
       "    </tr>\n",
       "    <tr>\n",
       "      <th>1</th>\n",
       "      <td>Alfonso Peterssen Alfonso</td>\n",
       "      <td>Monsieur</td>\n",
       "      <td>2013</td>\n",
       "      <td>1</td>\n",
       "      <td>Monsieur</td>\n",
       "      <td>2015</td>\n",
       "      <td>6</td>\n",
       "      <td>1</td>\n",
       "      <td>36</td>\n",
       "    </tr>\n",
       "    <tr>\n",
       "      <th>3</th>\n",
       "      <td>Amorim Afonso Caldeira Da Silva Pedro Maria</td>\n",
       "      <td>Monsieur</td>\n",
       "      <td>2011</td>\n",
       "      <td>1</td>\n",
       "      <td>Monsieur</td>\n",
       "      <td>2014</td>\n",
       "      <td>6</td>\n",
       "      <td>1</td>\n",
       "      <td>48</td>\n",
       "    </tr>\n",
       "    <tr>\n",
       "      <th>6</th>\n",
       "      <td>Andreina Sébastien Laurent</td>\n",
       "      <td>Monsieur</td>\n",
       "      <td>2011</td>\n",
       "      <td>1</td>\n",
       "      <td>Monsieur</td>\n",
       "      <td>2014</td>\n",
       "      <td>6</td>\n",
       "      <td>1</td>\n",
       "      <td>48</td>\n",
       "    </tr>\n",
       "    <tr>\n",
       "      <th>7</th>\n",
       "      <td>Angel Axel</td>\n",
       "      <td>Monsieur</td>\n",
       "      <td>2010</td>\n",
       "      <td>1</td>\n",
       "      <td>Monsieur</td>\n",
       "      <td>2012</td>\n",
       "      <td>6</td>\n",
       "      <td>1</td>\n",
       "      <td>36</td>\n",
       "    </tr>\n",
       "    <tr>\n",
       "      <th>8</th>\n",
       "      <td>Angerand Grégoire Georges Jacques</td>\n",
       "      <td>Monsieur</td>\n",
       "      <td>2011</td>\n",
       "      <td>1</td>\n",
       "      <td>Monsieur</td>\n",
       "      <td>2015</td>\n",
       "      <td>6</td>\n",
       "      <td>1</td>\n",
       "      <td>60</td>\n",
       "    </tr>\n",
       "    <tr>\n",
       "      <th>9</th>\n",
       "      <td>Antognini Marco</td>\n",
       "      <td>Monsieur</td>\n",
       "      <td>2009</td>\n",
       "      <td>1</td>\n",
       "      <td>Monsieur</td>\n",
       "      <td>2012</td>\n",
       "      <td>6</td>\n",
       "      <td>1</td>\n",
       "      <td>48</td>\n",
       "    </tr>\n",
       "    <tr>\n",
       "      <th>10</th>\n",
       "      <td>Arnfred Jonas</td>\n",
       "      <td>Monsieur</td>\n",
       "      <td>2008</td>\n",
       "      <td>1</td>\n",
       "      <td>Monsieur</td>\n",
       "      <td>2010</td>\n",
       "      <td>6</td>\n",
       "      <td>1</td>\n",
       "      <td>36</td>\n",
       "    </tr>\n",
       "    <tr>\n",
       "      <th>11</th>\n",
       "      <td>Arévalo Christian</td>\n",
       "      <td>Monsieur</td>\n",
       "      <td>2007</td>\n",
       "      <td>1</td>\n",
       "      <td>Monsieur</td>\n",
       "      <td>2009</td>\n",
       "      <td>6</td>\n",
       "      <td>1</td>\n",
       "      <td>36</td>\n",
       "    </tr>\n",
       "    <tr>\n",
       "      <th>12</th>\n",
       "      <td>Aubelle Flavien</td>\n",
       "      <td>Monsieur</td>\n",
       "      <td>2007</td>\n",
       "      <td>1</td>\n",
       "      <td>Monsieur</td>\n",
       "      <td>2011</td>\n",
       "      <td>6</td>\n",
       "      <td>1</td>\n",
       "      <td>60</td>\n",
       "    </tr>\n",
       "    <tr>\n",
       "      <th>13</th>\n",
       "      <td>Augsburger Damien</td>\n",
       "      <td>Monsieur</td>\n",
       "      <td>2009</td>\n",
       "      <td>1</td>\n",
       "      <td>Monsieur</td>\n",
       "      <td>2011</td>\n",
       "      <td>6</td>\n",
       "      <td>1</td>\n",
       "      <td>36</td>\n",
       "    </tr>\n",
       "    <tr>\n",
       "      <th>14</th>\n",
       "      <td>Babst Timo Philip</td>\n",
       "      <td>Monsieur</td>\n",
       "      <td>2010</td>\n",
       "      <td>1</td>\n",
       "      <td>Monsieur</td>\n",
       "      <td>2012</td>\n",
       "      <td>6</td>\n",
       "      <td>1</td>\n",
       "      <td>36</td>\n",
       "    </tr>\n",
       "    <tr>\n",
       "      <th>16</th>\n",
       "      <td>Baeriswyl Jonathan</td>\n",
       "      <td>Monsieur</td>\n",
       "      <td>2007</td>\n",
       "      <td>1</td>\n",
       "      <td>Monsieur</td>\n",
       "      <td>2010</td>\n",
       "      <td>6</td>\n",
       "      <td>1</td>\n",
       "      <td>48</td>\n",
       "    </tr>\n",
       "    <tr>\n",
       "      <th>18</th>\n",
       "      <td>Balle Daniel</td>\n",
       "      <td>Monsieur</td>\n",
       "      <td>2012</td>\n",
       "      <td>1</td>\n",
       "      <td>Monsieur</td>\n",
       "      <td>2015</td>\n",
       "      <td>5</td>\n",
       "      <td>0</td>\n",
       "      <td>42</td>\n",
       "    </tr>\n",
       "    <tr>\n",
       "      <th>19</th>\n",
       "      <td>Balmau Oana Maria</td>\n",
       "      <td>Madame</td>\n",
       "      <td>2009</td>\n",
       "      <td>1</td>\n",
       "      <td>Madame</td>\n",
       "      <td>2011</td>\n",
       "      <td>6</td>\n",
       "      <td>1</td>\n",
       "      <td>36</td>\n",
       "    </tr>\n",
       "    <tr>\n",
       "      <th>20</th>\n",
       "      <td>Barben Loïc</td>\n",
       "      <td>Monsieur</td>\n",
       "      <td>2009</td>\n",
       "      <td>1</td>\n",
       "      <td>Monsieur</td>\n",
       "      <td>2011</td>\n",
       "      <td>6</td>\n",
       "      <td>1</td>\n",
       "      <td>36</td>\n",
       "    </tr>\n",
       "    <tr>\n",
       "      <th>21</th>\n",
       "      <td>Barroco Michael</td>\n",
       "      <td>Monsieur</td>\n",
       "      <td>2007</td>\n",
       "      <td>1</td>\n",
       "      <td>Monsieur</td>\n",
       "      <td>2010</td>\n",
       "      <td>6</td>\n",
       "      <td>1</td>\n",
       "      <td>48</td>\n",
       "    </tr>\n",
       "    <tr>\n",
       "      <th>22</th>\n",
       "      <td>Barthe Sidney</td>\n",
       "      <td>Monsieur</td>\n",
       "      <td>2011</td>\n",
       "      <td>1</td>\n",
       "      <td>Monsieur</td>\n",
       "      <td>2015</td>\n",
       "      <td>5</td>\n",
       "      <td>0</td>\n",
       "      <td>54</td>\n",
       "    </tr>\n",
       "    <tr>\n",
       "      <th>23</th>\n",
       "      <td>Bastin Cédric</td>\n",
       "      <td>Monsieur</td>\n",
       "      <td>2010</td>\n",
       "      <td>1</td>\n",
       "      <td>Monsieur</td>\n",
       "      <td>2012</td>\n",
       "      <td>6</td>\n",
       "      <td>1</td>\n",
       "      <td>36</td>\n",
       "    </tr>\n",
       "    <tr>\n",
       "      <th>24</th>\n",
       "      <td>Beaud Guillaume François Paul</td>\n",
       "      <td>Monsieur</td>\n",
       "      <td>2011</td>\n",
       "      <td>1</td>\n",
       "      <td>Monsieur</td>\n",
       "      <td>2014</td>\n",
       "      <td>6</td>\n",
       "      <td>1</td>\n",
       "      <td>48</td>\n",
       "    </tr>\n",
       "    <tr>\n",
       "      <th>25</th>\n",
       "      <td>Beau Joris</td>\n",
       "      <td>Monsieur</td>\n",
       "      <td>2010</td>\n",
       "      <td>1</td>\n",
       "      <td>Monsieur</td>\n",
       "      <td>2012</td>\n",
       "      <td>6</td>\n",
       "      <td>1</td>\n",
       "      <td>36</td>\n",
       "    </tr>\n",
       "    <tr>\n",
       "      <th>26</th>\n",
       "      <td>Beguet Eric</td>\n",
       "      <td>Monsieur</td>\n",
       "      <td>2010</td>\n",
       "      <td>1</td>\n",
       "      <td>Monsieur</td>\n",
       "      <td>2012</td>\n",
       "      <td>6</td>\n",
       "      <td>1</td>\n",
       "      <td>36</td>\n",
       "    </tr>\n",
       "    <tr>\n",
       "      <th>27</th>\n",
       "      <td>Beguet Romain Michel</td>\n",
       "      <td>Monsieur</td>\n",
       "      <td>2012</td>\n",
       "      <td>1</td>\n",
       "      <td>Monsieur</td>\n",
       "      <td>2014</td>\n",
       "      <td>6</td>\n",
       "      <td>1</td>\n",
       "      <td>36</td>\n",
       "    </tr>\n",
       "    <tr>\n",
       "      <th>28</th>\n",
       "      <td>Benhamadi Yassine</td>\n",
       "      <td>Monsieur</td>\n",
       "      <td>2010</td>\n",
       "      <td>1</td>\n",
       "      <td>Monsieur</td>\n",
       "      <td>2013</td>\n",
       "      <td>6</td>\n",
       "      <td>1</td>\n",
       "      <td>48</td>\n",
       "    </tr>\n",
       "    <tr>\n",
       "      <th>29</th>\n",
       "      <td>Bennani-Smires Kamil</td>\n",
       "      <td>Monsieur</td>\n",
       "      <td>2010</td>\n",
       "      <td>1</td>\n",
       "      <td>Monsieur</td>\n",
       "      <td>2014</td>\n",
       "      <td>5</td>\n",
       "      <td>0</td>\n",
       "      <td>54</td>\n",
       "    </tr>\n",
       "    <tr>\n",
       "      <th>30</th>\n",
       "      <td>Berdat Johan</td>\n",
       "      <td>Monsieur</td>\n",
       "      <td>2010</td>\n",
       "      <td>1</td>\n",
       "      <td>Monsieur</td>\n",
       "      <td>2012</td>\n",
       "      <td>6</td>\n",
       "      <td>1</td>\n",
       "      <td>36</td>\n",
       "    </tr>\n",
       "    <tr>\n",
       "      <th>31</th>\n",
       "      <td>Berney Léonard</td>\n",
       "      <td>Monsieur</td>\n",
       "      <td>2010</td>\n",
       "      <td>1</td>\n",
       "      <td>Monsieur</td>\n",
       "      <td>2013</td>\n",
       "      <td>5</td>\n",
       "      <td>0</td>\n",
       "      <td>42</td>\n",
       "    </tr>\n",
       "    <tr>\n",
       "      <th>32</th>\n",
       "      <td>Bertrand Christophe</td>\n",
       "      <td>Monsieur</td>\n",
       "      <td>2012</td>\n",
       "      <td>1</td>\n",
       "      <td>Monsieur</td>\n",
       "      <td>2014</td>\n",
       "      <td>6</td>\n",
       "      <td>1</td>\n",
       "      <td>36</td>\n",
       "    </tr>\n",
       "    <tr>\n",
       "      <th>33</th>\n",
       "      <td>Billardon Baptiste Olivier Jacques</td>\n",
       "      <td>Monsieur</td>\n",
       "      <td>2012</td>\n",
       "      <td>1</td>\n",
       "      <td>Monsieur</td>\n",
       "      <td>2014</td>\n",
       "      <td>6</td>\n",
       "      <td>1</td>\n",
       "      <td>36</td>\n",
       "    </tr>\n",
       "    <tr>\n",
       "      <th>34</th>\n",
       "      <td>Bindschaedler Vincent</td>\n",
       "      <td>Monsieur</td>\n",
       "      <td>2007</td>\n",
       "      <td>1</td>\n",
       "      <td>Monsieur</td>\n",
       "      <td>2009</td>\n",
       "      <td>6</td>\n",
       "      <td>1</td>\n",
       "      <td>36</td>\n",
       "    </tr>\n",
       "    <tr>\n",
       "      <th>...</th>\n",
       "      <td>...</td>\n",
       "      <td>...</td>\n",
       "      <td>...</td>\n",
       "      <td>...</td>\n",
       "      <td>...</td>\n",
       "      <td>...</td>\n",
       "      <td>...</td>\n",
       "      <td>...</td>\n",
       "      <td>...</td>\n",
       "    </tr>\n",
       "    <tr>\n",
       "      <th>368</th>\n",
       "      <td>Vallone Joël</td>\n",
       "      <td>Monsieur</td>\n",
       "      <td>2009</td>\n",
       "      <td>1</td>\n",
       "      <td>Monsieur</td>\n",
       "      <td>2011</td>\n",
       "      <td>6</td>\n",
       "      <td>1</td>\n",
       "      <td>36</td>\n",
       "    </tr>\n",
       "    <tr>\n",
       "      <th>370</th>\n",
       "      <td>Vanini Erico</td>\n",
       "      <td>Monsieur</td>\n",
       "      <td>2009</td>\n",
       "      <td>1</td>\n",
       "      <td>Monsieur</td>\n",
       "      <td>2011</td>\n",
       "      <td>6</td>\n",
       "      <td>1</td>\n",
       "      <td>36</td>\n",
       "    </tr>\n",
       "    <tr>\n",
       "      <th>371</th>\n",
       "      <td>Vassor Martin Thomas</td>\n",
       "      <td>Monsieur</td>\n",
       "      <td>2012</td>\n",
       "      <td>1</td>\n",
       "      <td>Monsieur</td>\n",
       "      <td>2014</td>\n",
       "      <td>6</td>\n",
       "      <td>1</td>\n",
       "      <td>36</td>\n",
       "    </tr>\n",
       "    <tr>\n",
       "      <th>372</th>\n",
       "      <td>Vasta Rivo</td>\n",
       "      <td>Monsieur</td>\n",
       "      <td>2009</td>\n",
       "      <td>1</td>\n",
       "      <td>Monsieur</td>\n",
       "      <td>2011</td>\n",
       "      <td>6</td>\n",
       "      <td>1</td>\n",
       "      <td>36</td>\n",
       "    </tr>\n",
       "    <tr>\n",
       "      <th>373</th>\n",
       "      <td>Vautherin Jonas</td>\n",
       "      <td>Monsieur</td>\n",
       "      <td>2007</td>\n",
       "      <td>1</td>\n",
       "      <td>Monsieur</td>\n",
       "      <td>2009</td>\n",
       "      <td>6</td>\n",
       "      <td>1</td>\n",
       "      <td>36</td>\n",
       "    </tr>\n",
       "    <tr>\n",
       "      <th>374</th>\n",
       "      <td>Verstegen Noortje</td>\n",
       "      <td>Madame</td>\n",
       "      <td>2011</td>\n",
       "      <td>1</td>\n",
       "      <td>Madame</td>\n",
       "      <td>2013</td>\n",
       "      <td>6</td>\n",
       "      <td>1</td>\n",
       "      <td>36</td>\n",
       "    </tr>\n",
       "    <tr>\n",
       "      <th>375</th>\n",
       "      <td>Vessaz Florian</td>\n",
       "      <td>Monsieur</td>\n",
       "      <td>2010</td>\n",
       "      <td>1</td>\n",
       "      <td>Monsieur</td>\n",
       "      <td>2013</td>\n",
       "      <td>5</td>\n",
       "      <td>0</td>\n",
       "      <td>42</td>\n",
       "    </tr>\n",
       "    <tr>\n",
       "      <th>376</th>\n",
       "      <td>Vessaz Yannick</td>\n",
       "      <td>Monsieur</td>\n",
       "      <td>2012</td>\n",
       "      <td>1</td>\n",
       "      <td>Monsieur</td>\n",
       "      <td>2014</td>\n",
       "      <td>6</td>\n",
       "      <td>1</td>\n",
       "      <td>36</td>\n",
       "    </tr>\n",
       "    <tr>\n",
       "      <th>377</th>\n",
       "      <td>Veuthey Alexandre Bernard Robert</td>\n",
       "      <td>Monsieur</td>\n",
       "      <td>2012</td>\n",
       "      <td>1</td>\n",
       "      <td>Monsieur</td>\n",
       "      <td>2014</td>\n",
       "      <td>6</td>\n",
       "      <td>1</td>\n",
       "      <td>36</td>\n",
       "    </tr>\n",
       "    <tr>\n",
       "      <th>378</th>\n",
       "      <td>Viaccoz Thierry</td>\n",
       "      <td>Monsieur</td>\n",
       "      <td>2009</td>\n",
       "      <td>1</td>\n",
       "      <td>Monsieur</td>\n",
       "      <td>2011</td>\n",
       "      <td>6</td>\n",
       "      <td>1</td>\n",
       "      <td>36</td>\n",
       "    </tr>\n",
       "    <tr>\n",
       "      <th>379</th>\n",
       "      <td>Videla André</td>\n",
       "      <td>Monsieur</td>\n",
       "      <td>2012</td>\n",
       "      <td>1</td>\n",
       "      <td>Monsieur</td>\n",
       "      <td>2015</td>\n",
       "      <td>5</td>\n",
       "      <td>0</td>\n",
       "      <td>42</td>\n",
       "    </tr>\n",
       "    <tr>\n",
       "      <th>381</th>\n",
       "      <td>Vion Roger</td>\n",
       "      <td>Monsieur</td>\n",
       "      <td>2009</td>\n",
       "      <td>1</td>\n",
       "      <td>Monsieur</td>\n",
       "      <td>2013</td>\n",
       "      <td>6</td>\n",
       "      <td>1</td>\n",
       "      <td>60</td>\n",
       "    </tr>\n",
       "    <tr>\n",
       "      <th>383</th>\n",
       "      <td>Voirol Nicolas Charles Yves</td>\n",
       "      <td>Monsieur</td>\n",
       "      <td>2008</td>\n",
       "      <td>1</td>\n",
       "      <td>Monsieur</td>\n",
       "      <td>2010</td>\n",
       "      <td>6</td>\n",
       "      <td>1</td>\n",
       "      <td>36</td>\n",
       "    </tr>\n",
       "    <tr>\n",
       "      <th>384</th>\n",
       "      <td>Von Aarburg Raphaël Richard</td>\n",
       "      <td>Monsieur</td>\n",
       "      <td>2010</td>\n",
       "      <td>1</td>\n",
       "      <td>Monsieur</td>\n",
       "      <td>2012</td>\n",
       "      <td>6</td>\n",
       "      <td>1</td>\n",
       "      <td>36</td>\n",
       "    </tr>\n",
       "    <tr>\n",
       "      <th>385</th>\n",
       "      <td>Vostriakov Alexander</td>\n",
       "      <td>Monsieur</td>\n",
       "      <td>2009</td>\n",
       "      <td>1</td>\n",
       "      <td>Monsieur</td>\n",
       "      <td>2013</td>\n",
       "      <td>6</td>\n",
       "      <td>1</td>\n",
       "      <td>60</td>\n",
       "    </tr>\n",
       "    <tr>\n",
       "      <th>386</th>\n",
       "      <td>Walch Pierre</td>\n",
       "      <td>Monsieur</td>\n",
       "      <td>2011</td>\n",
       "      <td>1</td>\n",
       "      <td>Monsieur</td>\n",
       "      <td>2013</td>\n",
       "      <td>6</td>\n",
       "      <td>1</td>\n",
       "      <td>36</td>\n",
       "    </tr>\n",
       "    <tr>\n",
       "      <th>388</th>\n",
       "      <td>Watrin Thibaut</td>\n",
       "      <td>Monsieur</td>\n",
       "      <td>2008</td>\n",
       "      <td>1</td>\n",
       "      <td>Monsieur</td>\n",
       "      <td>2011</td>\n",
       "      <td>5</td>\n",
       "      <td>0</td>\n",
       "      <td>42</td>\n",
       "    </tr>\n",
       "    <tr>\n",
       "      <th>389</th>\n",
       "      <td>Weber Martin Takeya</td>\n",
       "      <td>Monsieur</td>\n",
       "      <td>2010</td>\n",
       "      <td>1</td>\n",
       "      <td>Monsieur</td>\n",
       "      <td>2015</td>\n",
       "      <td>5</td>\n",
       "      <td>0</td>\n",
       "      <td>66</td>\n",
       "    </tr>\n",
       "    <tr>\n",
       "      <th>390</th>\n",
       "      <td>Weiskopf Robin</td>\n",
       "      <td>Monsieur</td>\n",
       "      <td>2012</td>\n",
       "      <td>1</td>\n",
       "      <td>Monsieur</td>\n",
       "      <td>2015</td>\n",
       "      <td>6</td>\n",
       "      <td>1</td>\n",
       "      <td>48</td>\n",
       "    </tr>\n",
       "    <tr>\n",
       "      <th>391</th>\n",
       "      <td>Wenger Amos</td>\n",
       "      <td>Monsieur</td>\n",
       "      <td>2009</td>\n",
       "      <td>1</td>\n",
       "      <td>Monsieur</td>\n",
       "      <td>2012</td>\n",
       "      <td>6</td>\n",
       "      <td>1</td>\n",
       "      <td>48</td>\n",
       "    </tr>\n",
       "    <tr>\n",
       "      <th>393</th>\n",
       "      <td>Widmer Florian</td>\n",
       "      <td>Monsieur</td>\n",
       "      <td>2008</td>\n",
       "      <td>1</td>\n",
       "      <td>Monsieur</td>\n",
       "      <td>2010</td>\n",
       "      <td>6</td>\n",
       "      <td>1</td>\n",
       "      <td>36</td>\n",
       "    </tr>\n",
       "    <tr>\n",
       "      <th>394</th>\n",
       "      <td>Wirz Leonardo Enrique</td>\n",
       "      <td>Monsieur</td>\n",
       "      <td>2012</td>\n",
       "      <td>1</td>\n",
       "      <td>Monsieur</td>\n",
       "      <td>2015</td>\n",
       "      <td>6</td>\n",
       "      <td>1</td>\n",
       "      <td>48</td>\n",
       "    </tr>\n",
       "    <tr>\n",
       "      <th>395</th>\n",
       "      <td>Zablotchi Mihail Igor</td>\n",
       "      <td>Monsieur</td>\n",
       "      <td>2009</td>\n",
       "      <td>1</td>\n",
       "      <td>Monsieur</td>\n",
       "      <td>2011</td>\n",
       "      <td>6</td>\n",
       "      <td>1</td>\n",
       "      <td>36</td>\n",
       "    </tr>\n",
       "    <tr>\n",
       "      <th>396</th>\n",
       "      <td>Zellweger Fabien André</td>\n",
       "      <td>Monsieur</td>\n",
       "      <td>2011</td>\n",
       "      <td>1</td>\n",
       "      <td>Monsieur</td>\n",
       "      <td>2015</td>\n",
       "      <td>5</td>\n",
       "      <td>0</td>\n",
       "      <td>54</td>\n",
       "    </tr>\n",
       "    <tr>\n",
       "      <th>397</th>\n",
       "      <td>Zellweger Vincent</td>\n",
       "      <td>Monsieur</td>\n",
       "      <td>2010</td>\n",
       "      <td>1</td>\n",
       "      <td>Monsieur</td>\n",
       "      <td>2013</td>\n",
       "      <td>6</td>\n",
       "      <td>1</td>\n",
       "      <td>48</td>\n",
       "    </tr>\n",
       "    <tr>\n",
       "      <th>399</th>\n",
       "      <td>Zhou Yunpeng</td>\n",
       "      <td>Monsieur</td>\n",
       "      <td>2008</td>\n",
       "      <td>1</td>\n",
       "      <td>Monsieur</td>\n",
       "      <td>2010</td>\n",
       "      <td>6</td>\n",
       "      <td>1</td>\n",
       "      <td>36</td>\n",
       "    </tr>\n",
       "    <tr>\n",
       "      <th>400</th>\n",
       "      <td>Zimmermann Marc</td>\n",
       "      <td>Monsieur</td>\n",
       "      <td>2008</td>\n",
       "      <td>1</td>\n",
       "      <td>Monsieur</td>\n",
       "      <td>2010</td>\n",
       "      <td>6</td>\n",
       "      <td>1</td>\n",
       "      <td>36</td>\n",
       "    </tr>\n",
       "    <tr>\n",
       "      <th>401</th>\n",
       "      <td>Zoller Roman</td>\n",
       "      <td>Monsieur</td>\n",
       "      <td>2007</td>\n",
       "      <td>1</td>\n",
       "      <td>Monsieur</td>\n",
       "      <td>2009</td>\n",
       "      <td>6</td>\n",
       "      <td>1</td>\n",
       "      <td>36</td>\n",
       "    </tr>\n",
       "    <tr>\n",
       "      <th>402</th>\n",
       "      <td>Zommerfelds Christian Georges</td>\n",
       "      <td>Monsieur</td>\n",
       "      <td>2010</td>\n",
       "      <td>1</td>\n",
       "      <td>Monsieur</td>\n",
       "      <td>2012</td>\n",
       "      <td>6</td>\n",
       "      <td>1</td>\n",
       "      <td>36</td>\n",
       "    </tr>\n",
       "    <tr>\n",
       "      <th>403</th>\n",
       "      <td>Zürn Christophe</td>\n",
       "      <td>Monsieur</td>\n",
       "      <td>2008</td>\n",
       "      <td>1</td>\n",
       "      <td>Monsieur</td>\n",
       "      <td>2010</td>\n",
       "      <td>6</td>\n",
       "      <td>1</td>\n",
       "      <td>36</td>\n",
       "    </tr>\n",
       "  </tbody>\n",
       "</table>\n",
       "<p>370 rows × 9 columns</p>\n",
       "</div>"
      ],
      "text/plain": [
       "                                      Nom Prénom Civilité_x  first_year  \\\n",
       "0                            Aiulfi Loris Sandro   Monsieur        2010   \n",
       "1                      Alfonso Peterssen Alfonso   Monsieur        2013   \n",
       "3    Amorim Afonso Caldeira Da Silva Pedro Maria   Monsieur        2011   \n",
       "6                     Andreina Sébastien Laurent   Monsieur        2011   \n",
       "7                                     Angel Axel   Monsieur        2010   \n",
       "8              Angerand Grégoire Georges Jacques   Monsieur        2011   \n",
       "9                                Antognini Marco   Monsieur        2009   \n",
       "10                                 Arnfred Jonas   Monsieur        2008   \n",
       "11                             Arévalo Christian   Monsieur        2007   \n",
       "12                               Aubelle Flavien   Monsieur        2007   \n",
       "13                             Augsburger Damien   Monsieur        2009   \n",
       "14                             Babst Timo Philip   Monsieur        2010   \n",
       "16                            Baeriswyl Jonathan   Monsieur        2007   \n",
       "18                                  Balle Daniel   Monsieur        2012   \n",
       "19                             Balmau Oana Maria     Madame        2009   \n",
       "20                                   Barben Loïc   Monsieur        2009   \n",
       "21                               Barroco Michael   Monsieur        2007   \n",
       "22                                 Barthe Sidney   Monsieur        2011   \n",
       "23                                 Bastin Cédric   Monsieur        2010   \n",
       "24                 Beaud Guillaume François Paul   Monsieur        2011   \n",
       "25                                    Beau Joris   Monsieur        2010   \n",
       "26                                   Beguet Eric   Monsieur        2010   \n",
       "27                          Beguet Romain Michel   Monsieur        2012   \n",
       "28                             Benhamadi Yassine   Monsieur        2010   \n",
       "29                          Bennani-Smires Kamil   Monsieur        2010   \n",
       "30                                  Berdat Johan   Monsieur        2010   \n",
       "31                                Berney Léonard   Monsieur        2010   \n",
       "32                           Bertrand Christophe   Monsieur        2012   \n",
       "33            Billardon Baptiste Olivier Jacques   Monsieur        2012   \n",
       "34                         Bindschaedler Vincent   Monsieur        2007   \n",
       "..                                           ...        ...         ...   \n",
       "368                                 Vallone Joël   Monsieur        2009   \n",
       "370                                 Vanini Erico   Monsieur        2009   \n",
       "371                         Vassor Martin Thomas   Monsieur        2012   \n",
       "372                                   Vasta Rivo   Monsieur        2009   \n",
       "373                              Vautherin Jonas   Monsieur        2007   \n",
       "374                            Verstegen Noortje     Madame        2011   \n",
       "375                               Vessaz Florian   Monsieur        2010   \n",
       "376                               Vessaz Yannick   Monsieur        2012   \n",
       "377             Veuthey Alexandre Bernard Robert   Monsieur        2012   \n",
       "378                              Viaccoz Thierry   Monsieur        2009   \n",
       "379                                 Videla André   Monsieur        2012   \n",
       "381                                   Vion Roger   Monsieur        2009   \n",
       "383                  Voirol Nicolas Charles Yves   Monsieur        2008   \n",
       "384                  Von Aarburg Raphaël Richard   Monsieur        2010   \n",
       "385                         Vostriakov Alexander   Monsieur        2009   \n",
       "386                                 Walch Pierre   Monsieur        2011   \n",
       "388                               Watrin Thibaut   Monsieur        2008   \n",
       "389                          Weber Martin Takeya   Monsieur        2010   \n",
       "390                               Weiskopf Robin   Monsieur        2012   \n",
       "391                                  Wenger Amos   Monsieur        2009   \n",
       "393                               Widmer Florian   Monsieur        2008   \n",
       "394                        Wirz Leonardo Enrique   Monsieur        2012   \n",
       "395                        Zablotchi Mihail Igor   Monsieur        2009   \n",
       "396                       Zellweger Fabien André   Monsieur        2011   \n",
       "397                            Zellweger Vincent   Monsieur        2010   \n",
       "399                                 Zhou Yunpeng   Monsieur        2008   \n",
       "400                              Zimmermann Marc   Monsieur        2008   \n",
       "401                                 Zoller Roman   Monsieur        2007   \n",
       "402                Zommerfelds Christian Georges   Monsieur        2010   \n",
       "403                              Zürn Christophe   Monsieur        2008   \n",
       "\n",
       "     first_semester Civilité_y  last_year  last_semester  Sem type  \\\n",
       "0                 1   Monsieur       2015              6         1   \n",
       "1                 1   Monsieur       2015              6         1   \n",
       "3                 1   Monsieur       2014              6         1   \n",
       "6                 1   Monsieur       2014              6         1   \n",
       "7                 1   Monsieur       2012              6         1   \n",
       "8                 1   Monsieur       2015              6         1   \n",
       "9                 1   Monsieur       2012              6         1   \n",
       "10                1   Monsieur       2010              6         1   \n",
       "11                1   Monsieur       2009              6         1   \n",
       "12                1   Monsieur       2011              6         1   \n",
       "13                1   Monsieur       2011              6         1   \n",
       "14                1   Monsieur       2012              6         1   \n",
       "16                1   Monsieur       2010              6         1   \n",
       "18                1   Monsieur       2015              5         0   \n",
       "19                1     Madame       2011              6         1   \n",
       "20                1   Monsieur       2011              6         1   \n",
       "21                1   Monsieur       2010              6         1   \n",
       "22                1   Monsieur       2015              5         0   \n",
       "23                1   Monsieur       2012              6         1   \n",
       "24                1   Monsieur       2014              6         1   \n",
       "25                1   Monsieur       2012              6         1   \n",
       "26                1   Monsieur       2012              6         1   \n",
       "27                1   Monsieur       2014              6         1   \n",
       "28                1   Monsieur       2013              6         1   \n",
       "29                1   Monsieur       2014              5         0   \n",
       "30                1   Monsieur       2012              6         1   \n",
       "31                1   Monsieur       2013              5         0   \n",
       "32                1   Monsieur       2014              6         1   \n",
       "33                1   Monsieur       2014              6         1   \n",
       "34                1   Monsieur       2009              6         1   \n",
       "..              ...        ...        ...            ...       ...   \n",
       "368               1   Monsieur       2011              6         1   \n",
       "370               1   Monsieur       2011              6         1   \n",
       "371               1   Monsieur       2014              6         1   \n",
       "372               1   Monsieur       2011              6         1   \n",
       "373               1   Monsieur       2009              6         1   \n",
       "374               1     Madame       2013              6         1   \n",
       "375               1   Monsieur       2013              5         0   \n",
       "376               1   Monsieur       2014              6         1   \n",
       "377               1   Monsieur       2014              6         1   \n",
       "378               1   Monsieur       2011              6         1   \n",
       "379               1   Monsieur       2015              5         0   \n",
       "381               1   Monsieur       2013              6         1   \n",
       "383               1   Monsieur       2010              6         1   \n",
       "384               1   Monsieur       2012              6         1   \n",
       "385               1   Monsieur       2013              6         1   \n",
       "386               1   Monsieur       2013              6         1   \n",
       "388               1   Monsieur       2011              5         0   \n",
       "389               1   Monsieur       2015              5         0   \n",
       "390               1   Monsieur       2015              6         1   \n",
       "391               1   Monsieur       2012              6         1   \n",
       "393               1   Monsieur       2010              6         1   \n",
       "394               1   Monsieur       2015              6         1   \n",
       "395               1   Monsieur       2011              6         1   \n",
       "396               1   Monsieur       2015              5         0   \n",
       "397               1   Monsieur       2013              6         1   \n",
       "399               1   Monsieur       2010              6         1   \n",
       "400               1   Monsieur       2010              6         1   \n",
       "401               1   Monsieur       2009              6         1   \n",
       "402               1   Monsieur       2012              6         1   \n",
       "403               1   Monsieur       2010              6         1   \n",
       "\n",
       "     Duration in Months  \n",
       "0                    72  \n",
       "1                    36  \n",
       "3                    48  \n",
       "6                    48  \n",
       "7                    36  \n",
       "8                    60  \n",
       "9                    48  \n",
       "10                   36  \n",
       "11                   36  \n",
       "12                   60  \n",
       "13                   36  \n",
       "14                   36  \n",
       "16                   48  \n",
       "18                   42  \n",
       "19                   36  \n",
       "20                   36  \n",
       "21                   48  \n",
       "22                   54  \n",
       "23                   36  \n",
       "24                   48  \n",
       "25                   36  \n",
       "26                   36  \n",
       "27                   36  \n",
       "28                   48  \n",
       "29                   54  \n",
       "30                   36  \n",
       "31                   42  \n",
       "32                   36  \n",
       "33                   36  \n",
       "34                   36  \n",
       "..                  ...  \n",
       "368                  36  \n",
       "370                  36  \n",
       "371                  36  \n",
       "372                  36  \n",
       "373                  36  \n",
       "374                  36  \n",
       "375                  42  \n",
       "376                  36  \n",
       "377                  36  \n",
       "378                  36  \n",
       "379                  42  \n",
       "381                  60  \n",
       "383                  36  \n",
       "384                  36  \n",
       "385                  60  \n",
       "386                  36  \n",
       "388                  42  \n",
       "389                  66  \n",
       "390                  48  \n",
       "391                  48  \n",
       "393                  36  \n",
       "394                  48  \n",
       "395                  36  \n",
       "396                  54  \n",
       "397                  48  \n",
       "399                  36  \n",
       "400                  36  \n",
       "401                  36  \n",
       "402                  36  \n",
       "403                  36  \n",
       "\n",
       "[370 rows x 9 columns]"
      ]
     },
     "execution_count": 237,
     "metadata": {},
     "output_type": "execute_result"
    }
   ],
   "source": [
    "df_dur['Duration in Months'] = (df_dur['last_year'] - df_dur['first_year'])*12 + (df_dur['Sem type'] + 1)*6 \n",
    "# We remove students with duration less than 36 months\n",
    "df_dur = df_dur[df_dur['Duration in Months'] >= 36 ]\n",
    "df_dur"
   ]
  },
  {
   "cell_type": "code",
   "execution_count": 238,
   "metadata": {
    "collapsed": false
   },
   "outputs": [],
   "source": [
    "# CLean table\n",
    "del df_dur['Civilité_x']\n",
    "df_dur.rename(columns={'Civilité_y':'Civilité'}, inplace=True)\n"
   ]
  },
  {
   "cell_type": "code",
   "execution_count": 239,
   "metadata": {
    "collapsed": false
   },
   "outputs": [
    {
     "name": "stdout",
     "output_type": "stream",
     "text": [
      "mean = 42.30810810810811 ;median = 36.0\n"
     ]
    }
   ],
   "source": [
    "# Get the mean and median for the total population\n",
    "spec_general = df_dur['Duration in Months']\n",
    "print('mean =',  spec_general.mean(), ';median =',  spec_general.median())\n"
   ]
  },
  {
   "cell_type": "code",
   "execution_count": 240,
   "metadata": {
    "collapsed": false
   },
   "outputs": [
    {
     "data": {
      "text/plain": [
       "<matplotlib.axes._subplots.AxesSubplot at 0x7f560857bf98>"
      ]
     },
     "execution_count": 240,
     "metadata": {},
     "output_type": "execute_result"
    },
    {
     "data": {
      "image/png": "[encoded data removed]",
      "text/plain": [
       "<matplotlib.figure.Figure at 0x7f56085ee908>"
      ]
     },
     "metadata": {},
     "output_type": "display_data"
    }
   ],
   "source": [
    "#Plot frequency of time taken\n",
    "spec_general.hist(bins = 20, range=[6, 75])\n"
   ]
  },
  {
   "cell_type": "markdown",
   "metadata": {},
   "source": [
    "# Females\n",
    "Statistical analysis for female students"
   ]
  },
  {
   "cell_type": "code",
   "execution_count": 241,
   "metadata": {
    "collapsed": false
   },
   "outputs": [
    {
     "name": "stdout",
     "output_type": "stream",
     "text": [
      "mean = 38.76923076923077 ;median = 36.0\n"
     ]
    }
   ],
   "source": [
    "import matplotlib.pyplot as plt\n",
    "import matplotlib\n",
    "matplotlib.style.use('ggplot')\n",
    "%matplotlib inline\n",
    "\n",
    "madames = df_dur[df_dur['Civilité'] == 'Madame']\n",
    "print('mean =',  madames['Duration in Months'].mean(), ';median =',  madames['Duration in Months'].median())\n"
   ]
  },
  {
   "cell_type": "code",
   "execution_count": 243,
   "metadata": {
    "collapsed": false
   },
   "outputs": [
    {
     "data": {
      "text/plain": [
       "<matplotlib.axes._subplots.AxesSubplot at 0x7f5608480940>"
      ]
     },
     "execution_count": 243,
     "metadata": {},
     "output_type": "execute_result"
    },
    {
     "data": {
      "image/png": "[encoded data removed]",
      "text/plain": [
       "<matplotlib.figure.Figure at 0x7f560845fc18>"
      ]
     },
     "metadata": {},
     "output_type": "display_data"
    }
   ],
   "source": [
    "madames['Duration in Months'].hist(bins = 10, range=[30, 66])\n"
   ]
  },
  {
   "cell_type": "markdown",
   "metadata": {},
   "source": [
    "# Males\n",
    "Statistical analysis for male students"
   ]
  },
  {
   "cell_type": "code",
   "execution_count": 244,
   "metadata": {
    "collapsed": false
   },
   "outputs": [
    {
     "name": "stdout",
     "output_type": "stream",
     "text": [
      "mean = 42.575581395348834 ;median = 36.0\n"
     ]
    }
   ],
   "source": [
    "monsieurs = df_dur[df_dur['Civilité'] == 'Monsieur']\n",
    "print('mean =',  monsieurs['Duration in Months'].mean(), ';median =',  monsieurs['Duration in Months'].median())\n"
   ]
  },
  {
   "cell_type": "code",
   "execution_count": 246,
   "metadata": {
    "collapsed": false
   },
   "outputs": [
    {
     "data": {
      "text/plain": [
       "<matplotlib.axes._subplots.AxesSubplot at 0x7f5608391400>"
      ]
     },
     "execution_count": 246,
     "metadata": {},
     "output_type": "execute_result"
    },
    {
     "data": {
      "image/png": "[encoded data removed]",
      "text/plain": [
       "<matplotlib.figure.Figure at 0x7f560846e518>"
      ]
     },
     "metadata": {},
     "output_type": "display_data"
    }
   ],
   "source": [
    "monsieurs['Duration in Months'].hist(bins = 10, range=[30, 66])\n"
   ]
  },
  {
   "cell_type": "markdown",
   "metadata": {},
   "source": [
    "# Hypothesis testing\n",
    "We want to check whether the the difference in average time taken by males and females to complete the degree is statistically significant. The null hypothesis is that the male and the female population have equal means. For this we use the Welch's T-Test. According to wikipedia this test 'is more reliable when the two samples have unequal variances and unequal sample sizes' which is the case for us."
   ]
  },
  {
   "cell_type": "code",
   "execution_count": 247,
   "metadata": {
    "collapsed": true
   },
   "outputs": [],
   "source": [
    "import scipy.stats as stats"
   ]
  },
  {
   "cell_type": "code",
   "execution_count": 248,
   "metadata": {
    "collapsed": false
   },
   "outputs": [
    {
     "data": {
      "text/plain": [
       "Ttest_indResult(statistic=-3.3969905960391378, pvalue=0.0016239632567067307)"
      ]
     },
     "execution_count": 248,
     "metadata": {},
     "output_type": "execute_result"
    }
   ],
   "source": [
    "stats.ttest_ind(a = madames['Duration in Months'], b= monsieurs['Duration in Months'], equal_var=False)"
   ]
  },
  {
   "cell_type": "markdown",
   "metadata": {},
   "source": [
    "Since the p-value is less than 0.05, we conclude that we must reject the null hypothesis. The difference in average is therefore statistically significant."
   ]
  }
 ],
 "metadata": {
  "anaconda-cloud": {},
  "kernelspec": {
   "display_name": "Python [default]",
   "language": "python",
   "name": "python3"
  },
  "language_info": {
   "codemirror_mode": {
    "name": "ipython",
    "version": 3
   },
   "file_extension": ".py",
   "mimetype": "text/x-python",
   "name": "python",
   "nbconvert_exporter": "python",
   "pygments_lexer": "ipython3",
   "version": "3.5.2"
  }
 },
 "nbformat": 4,
 "nbformat_minor": 1
}
