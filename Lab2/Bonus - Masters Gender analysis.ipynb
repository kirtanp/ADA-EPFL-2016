{
 "cells": [
  {
   "cell_type": "markdown",
   "metadata": {},
   "source": [
    "# Bonus"
   ]
  },
  {
   "cell_type": "code",
   "execution_count": 1,
   "metadata": {
    "collapsed": false
   },
   "outputs": [],
   "source": [
    "import requests\n",
    "import urllib\n",
    "import pandas as pd\n",
    "from bs4 import BeautifulSoup\n",
    "import numpy as np\n",
    "import scipy.stats as stats\n",
    "import matplotlib.pyplot as plt\n",
    "import math\n",
    "import pickle\n",
    "import copy"
   ]
  },
  {
   "cell_type": "markdown",
   "metadata": {
    "collapsed": false,
    "scrolled": true
   },
   "source": [
    "We simply get the dataframe we made for the masters part."
   ]
  },
  {
   "cell_type": "code",
   "execution_count": 5,
   "metadata": {
    "collapsed": false
   },
   "outputs": [],
   "source": [
    "# opening the file\n",
    "df_masters = pickle.load( open( \"df_masters.p\", \"rb\" ) )"
   ]
  },
  {
   "cell_type": "code",
   "execution_count": 7,
   "metadata": {
    "collapsed": false,
    "scrolled": true
   },
   "outputs": [
    {
     "data": {
      "text/html": [
       "<div>\n",
       "<table border=\"1\" class=\"dataframe\">\n",
       "  <thead>\n",
       "    <tr style=\"text-align: right;\">\n",
       "      <th></th>\n",
       "      <th>Civilité</th>\n",
       "      <th>Nom Prénom</th>\n",
       "      <th>Statut</th>\n",
       "      <th>No Sciper</th>\n",
       "      <th>Periode academique</th>\n",
       "      <th>Periode pedagogique</th>\n",
       "      <th>Type de semestre</th>\n",
       "    </tr>\n",
       "  </thead>\n",
       "  <tbody>\n",
       "    <tr>\n",
       "      <th>240</th>\n",
       "      <td>Madame</td>\n",
       "      <td>Abbadi Hajar</td>\n",
       "      <td>Présent</td>\n",
       "      <td>238067</td>\n",
       "      <td>2013-2014</td>\n",
       "      <td>Master semestre 1</td>\n",
       "      <td>Semestre d'automne</td>\n",
       "    </tr>\n",
       "    <tr>\n",
       "      <th>1925</th>\n",
       "      <td>Madame</td>\n",
       "      <td>Abbadi Hajar</td>\n",
       "      <td>Présent</td>\n",
       "      <td>238067</td>\n",
       "      <td>2013-2014</td>\n",
       "      <td>Master semestre 2</td>\n",
       "      <td>Semestre de printemps</td>\n",
       "    </tr>\n",
       "    <tr>\n",
       "      <th>1454</th>\n",
       "      <td>Madame</td>\n",
       "      <td>Abbadi Hajar</td>\n",
       "      <td>Présent</td>\n",
       "      <td>238067</td>\n",
       "      <td>2014-2015</td>\n",
       "      <td>Master semestre 3</td>\n",
       "      <td>Semestre d'automne</td>\n",
       "    </tr>\n",
       "    <tr>\n",
       "      <th>938</th>\n",
       "      <td>Monsieur</td>\n",
       "      <td>Abelenda Diego</td>\n",
       "      <td>Présent</td>\n",
       "      <td>170646</td>\n",
       "      <td>2010-2011</td>\n",
       "      <td>Master semestre 1</td>\n",
       "      <td>Semestre d'automne</td>\n",
       "    </tr>\n",
       "    <tr>\n",
       "      <th>2693</th>\n",
       "      <td>Monsieur</td>\n",
       "      <td>Abelenda Diego</td>\n",
       "      <td>Présent</td>\n",
       "      <td>170646</td>\n",
       "      <td>2010-2011</td>\n",
       "      <td>Master semestre 2</td>\n",
       "      <td>Semestre de printemps</td>\n",
       "    </tr>\n",
       "  </tbody>\n",
       "</table>\n",
       "</div>"
      ],
      "text/plain": [
       "      Civilité      Nom Prénom   Statut  No Sciper Periode academique  \\\n",
       "240     Madame    Abbadi Hajar  Présent     238067          2013-2014   \n",
       "1925    Madame    Abbadi Hajar  Présent     238067          2013-2014   \n",
       "1454    Madame    Abbadi Hajar  Présent     238067          2014-2015   \n",
       "938   Monsieur  Abelenda Diego  Présent     170646          2010-2011   \n",
       "2693  Monsieur  Abelenda Diego  Présent     170646          2010-2011   \n",
       "\n",
       "     Periode pedagogique       Type de semestre  \n",
       "240    Master semestre 1     Semestre d'automne  \n",
       "1925   Master semestre 2  Semestre de printemps  \n",
       "1454   Master semestre 3     Semestre d'automne  \n",
       "938    Master semestre 1     Semestre d'automne  \n",
       "2693   Master semestre 2  Semestre de printemps  "
      ]
     },
     "execution_count": 7,
     "metadata": {},
     "output_type": "execute_result"
    }
   ],
   "source": [
    "# DataFrame with all the students ordered by timeline, this is to see each student's enrollment history.\n",
    "df_masters = df_masters.sort_values(by=['Nom Prénom', 'Periode academique', 'Type de semestre']).dropna(axis=1)\n",
    "df_masters.head()"
   ]
  },
  {
   "cell_type": "code",
   "execution_count": 8,
   "metadata": {
    "collapsed": false,
    "scrolled": false
   },
   "outputs": [
    {
     "data": {
      "text/plain": [
       "Periode pedagogique\n",
       "Master semestre 1           948\n",
       "Master semestre 2          1062\n",
       "Master semestre 3           706\n",
       "Projet Master automne        86\n",
       "Projet Master printemps      42\n",
       "Name: Nom Prénom, dtype: int64"
      ]
     },
     "execution_count": 8,
     "metadata": {},
     "output_type": "execute_result"
    }
   ],
   "source": [
    "# Examining the number of students in each group\n",
    "df_masters.groupby('Periode pedagogique').count()['Nom Prénom']"
   ]
  },
  {
   "cell_type": "markdown",
   "metadata": {},
   "source": [
    "# Assumptions and method for calculating average stay\n",
    "Same as in the masters part"
   ]
  },
  {
   "cell_type": "code",
   "execution_count": 10,
   "metadata": {
    "collapsed": false
   },
   "outputs": [],
   "source": [
    "df = df_masters"
   ]
  },
  {
   "cell_type": "code",
   "execution_count": 11,
   "metadata": {
    "collapsed": false,
    "scrolled": true
   },
   "outputs": [],
   "source": [
    "df = df[df['Periode pedagogique'].isin(['Master semestre 1','Master semestre 2', 'Master semestre 3'])].sort_values(by=['Nom Prénom', 'Periode academique', 'Type de semestre'])"
   ]
  },
  {
   "cell_type": "code",
   "execution_count": 12,
   "metadata": {
    "collapsed": false,
    "scrolled": false
   },
   "outputs": [],
   "source": [
    "# extracting year and semester\n",
    "df['year'] = df['Periode academique'].str[0:4].astype(int)\n",
    "df['semester'] = np.where(df['Type de semestre'] == \"Semestre d'automne\", 0,1)\n",
    "df = df[df['Periode pedagogique'].isin(['Master semestre 1','Master semestre 2', 'Master semestre 3'])].sort_values(by=['Nom Prénom', 'Periode academique', 'Type de semestre'])"
   ]
  },
  {
   "cell_type": "code",
   "execution_count": 14,
   "metadata": {
    "collapsed": false
   },
   "outputs": [],
   "source": [
    "# orgnaization\n",
    "\n",
    "#First master semester df\n",
    "first_row = df.groupby('Nom Prénom').first()\n",
    "first_row.rename(columns={'year':'first_year', 'semester':'first_semester'}, inplace=True)\n",
    "first_row = first_row[['Civilité','first_year','first_semester']]\n",
    "first_row.reset_index(inplace=True)\n",
    "\n",
    "#Last master semester df\n",
    "last_row = df.groupby('Nom Prénom').last()\n",
    "last_row.rename(columns={'year':'last_year', 'semester':'last_semester'}, inplace=True)\n",
    "last_row = last_row[['Civilité','last_year','last_semester']]\n",
    "last_row.reset_index(inplace=True)"
   ]
  },
  {
   "cell_type": "code",
   "execution_count": 15,
   "metadata": {
    "collapsed": false,
    "scrolled": true
   },
   "outputs": [],
   "source": [
    "# df_dur is the DataFrame with all the necessary information, combining gender, along with the average stay\n",
    "df_dur = first_row.merge(last_row)"
   ]
  },
  {
   "cell_type": "markdown",
   "metadata": {},
   "source": [
    "# Duration Calculation\n",
    "Same as in Part 2"
   ]
  },
  {
   "cell_type": "code",
   "execution_count": 16,
   "metadata": {
    "collapsed": false
   },
   "outputs": [],
   "source": [
    "df_dur['Duration in Months'] = (df_dur['last_year'] - df_dur['first_year'])*12 + (df_dur['last_semester'] - df_dur['first_semester'] + 1)*6 + 6 "
   ]
  },
  {
   "cell_type": "code",
   "execution_count": 17,
   "metadata": {
    "collapsed": false,
    "scrolled": true
   },
   "outputs": [
    {
     "data": {
      "text/html": [
       "<div>\n",
       "<table border=\"1\" class=\"dataframe\">\n",
       "  <thead>\n",
       "    <tr style=\"text-align: right;\">\n",
       "      <th></th>\n",
       "      <th>Nom Prénom</th>\n",
       "      <th>Civilité</th>\n",
       "      <th>first_year</th>\n",
       "      <th>first_semester</th>\n",
       "      <th>last_year</th>\n",
       "      <th>last_semester</th>\n",
       "      <th>Duration in Months</th>\n",
       "    </tr>\n",
       "  </thead>\n",
       "  <tbody>\n",
       "    <tr>\n",
       "      <th>0</th>\n",
       "      <td>Abbadi Hajar</td>\n",
       "      <td>Madame</td>\n",
       "      <td>2013</td>\n",
       "      <td>0</td>\n",
       "      <td>2014</td>\n",
       "      <td>0</td>\n",
       "      <td>24</td>\n",
       "    </tr>\n",
       "    <tr>\n",
       "      <th>1</th>\n",
       "      <td>Abelenda Diego</td>\n",
       "      <td>Monsieur</td>\n",
       "      <td>2010</td>\n",
       "      <td>0</td>\n",
       "      <td>2011</td>\n",
       "      <td>1</td>\n",
       "      <td>30</td>\n",
       "    </tr>\n",
       "    <tr>\n",
       "      <th>2</th>\n",
       "      <td>Abi Akar Nora</td>\n",
       "      <td>Madame</td>\n",
       "      <td>2015</td>\n",
       "      <td>0</td>\n",
       "      <td>2016</td>\n",
       "      <td>0</td>\n",
       "      <td>24</td>\n",
       "    </tr>\n",
       "    <tr>\n",
       "      <th>3</th>\n",
       "      <td>Adamsons Valdis</td>\n",
       "      <td>Monsieur</td>\n",
       "      <td>2016</td>\n",
       "      <td>0</td>\n",
       "      <td>2016</td>\n",
       "      <td>0</td>\n",
       "      <td>12</td>\n",
       "    </tr>\n",
       "    <tr>\n",
       "      <th>4</th>\n",
       "      <td>Adams Marc Alain</td>\n",
       "      <td>Monsieur</td>\n",
       "      <td>2016</td>\n",
       "      <td>0</td>\n",
       "      <td>2016</td>\n",
       "      <td>0</td>\n",
       "      <td>12</td>\n",
       "    </tr>\n",
       "  </tbody>\n",
       "</table>\n",
       "</div>"
      ],
      "text/plain": [
       "         Nom Prénom  Civilité  first_year  first_semester  last_year  \\\n",
       "0      Abbadi Hajar    Madame        2013               0       2014   \n",
       "1    Abelenda Diego  Monsieur        2010               0       2011   \n",
       "2     Abi Akar Nora    Madame        2015               0       2016   \n",
       "3   Adamsons Valdis  Monsieur        2016               0       2016   \n",
       "4  Adams Marc Alain  Monsieur        2016               0       2016   \n",
       "\n",
       "   last_semester  Duration in Months  \n",
       "0              0                  24  \n",
       "1              1                  30  \n",
       "2              0                  24  \n",
       "3              0                  12  \n",
       "4              0                  12  "
      ]
     },
     "execution_count": 17,
     "metadata": {},
     "output_type": "execute_result"
    }
   ],
   "source": [
    "df_dur.head()"
   ]
  },
  {
   "cell_type": "code",
   "execution_count": 18,
   "metadata": {
    "collapsed": false
   },
   "outputs": [
    {
     "data": {
      "text/plain": [
       "<matplotlib.axes._subplots.AxesSubplot at 0x7f7464a33ef0>"
      ]
     },
     "execution_count": 18,
     "metadata": {},
     "output_type": "execute_result"
    },
    {
     "data": {
      "image/png": "[encoded data removed]",
      "text/plain": [
       "<matplotlib.figure.Figure at 0x7f7464a25f28>"
      ]
     },
     "metadata": {},
     "output_type": "display_data"
    }
   ],
   "source": [
    "import matplotlib.pyplot as plt\n",
    "import matplotlib\n",
    "matplotlib.style.use('ggplot')\n",
    "%matplotlib inline\n",
    "\n",
    "df_dur['Duration in Months'].hist(bins = 15, range=[10, 40])"
   ]
  },
  {
   "cell_type": "markdown",
   "metadata": {},
   "source": [
    "# Females"
   ]
  },
  {
   "cell_type": "code",
   "execution_count": 19,
   "metadata": {
    "collapsed": false
   },
   "outputs": [
    {
     "name": "stdout",
     "output_type": "stream",
     "text": [
      "mean = 22.772727272727273 ;median = 24.0\n"
     ]
    }
   ],
   "source": [
    "madames = df_dur[df_dur['Civilité'] == 'Madame']\n",
    "print('mean =',  madames['Duration in Months'].mean(), ';median =',  madames['Duration in Months'].median())\n"
   ]
  },
  {
   "cell_type": "code",
   "execution_count": 20,
   "metadata": {
    "collapsed": false
   },
   "outputs": [
    {
     "data": {
      "text/plain": [
       "<matplotlib.axes._subplots.AxesSubplot at 0x7f7464a5c390>"
      ]
     },
     "execution_count": 20,
     "metadata": {},
     "output_type": "execute_result"
    },
    {
     "data": {
      "image/png": "[encoded data removed]",
      "text/plain": [
       "<matplotlib.figure.Figure at 0x7f7464a70cf8>"
      ]
     },
     "metadata": {},
     "output_type": "display_data"
    }
   ],
   "source": [
    "madames['Duration in Months'].hist(bins = 10, range=[10, 40])\n"
   ]
  },
  {
   "cell_type": "markdown",
   "metadata": {},
   "source": [
    "# Males"
   ]
  },
  {
   "cell_type": "code",
   "execution_count": 21,
   "metadata": {
    "collapsed": false
   },
   "outputs": [
    {
     "name": "stdout",
     "output_type": "stream",
     "text": [
      "mean = 22.734597156398106 ;median = 24.0\n"
     ]
    }
   ],
   "source": [
    "monsieurs = df_dur[df_dur['Civilité'] == 'Monsieur']\n",
    "print('mean =',  monsieurs['Duration in Months'].mean(), ';median =',  monsieurs['Duration in Months'].median())\n"
   ]
  },
  {
   "cell_type": "code",
   "execution_count": 23,
   "metadata": {
    "collapsed": false
   },
   "outputs": [
    {
     "data": {
      "text/plain": [
       "<matplotlib.axes._subplots.AxesSubplot at 0x7f74623316d8>"
      ]
     },
     "execution_count": 23,
     "metadata": {},
     "output_type": "execute_result"
    },
    {
     "data": {
      "image/png": "[encoded data removed]",
      "text/plain": [
       "<matplotlib.figure.Figure at 0x7f74622ca828>"
      ]
     },
     "metadata": {},
     "output_type": "display_data"
    }
   ],
   "source": [
    "monsieurs['Duration in Months'].hist(bins = 10, range=[10, 40])\n"
   ]
  },
  {
   "cell_type": "markdown",
   "metadata": {},
   "source": [
    "# Hypothesis testing\n",
    "We want to check whether the the difference in average time taken by males and females to complete the degree is statistically significant. The null hypothesis is that the male and the female population have equal means. For this we use the Welch's T-Test. According to wikipedia this test 'is more reliable when the two samples have unequal variances and unequal sample sizes' which is the case for us."
   ]
  },
  {
   "cell_type": "code",
   "execution_count": 24,
   "metadata": {
    "collapsed": true
   },
   "outputs": [],
   "source": [
    "import scipy.stats as stats"
   ]
  },
  {
   "cell_type": "code",
   "execution_count": 25,
   "metadata": {
    "collapsed": false
   },
   "outputs": [
    {
     "data": {
      "text/plain": [
       "Ttest_indResult(statistic=0.05381065020459775, pvalue=0.95714809952665525)"
      ]
     },
     "execution_count": 25,
     "metadata": {},
     "output_type": "execute_result"
    }
   ],
   "source": [
    "stats.ttest_ind(a = madames['Duration in Months'], b= monsieurs['Duration in Months'], equal_var=False)"
   ]
  },
  {
   "cell_type": "markdown",
   "metadata": {},
   "source": [
    "The p-value is too high for the difference to be statistically significant, unlike in the Bachelors case."
   ]
  },
  {
   "cell_type": "markdown",
   "metadata": {},
   "source": [
    "# Plotting"
   ]
  },
  {
   "cell_type": "code",
   "execution_count": 57,
   "metadata": {
    "collapsed": false
   },
   "outputs": [
    {
     "data": {
      "image/png": "[encoded data removed]",
      "text/plain": [
       "<matplotlib.figure.Figure at 0x7f7461f605f8>"
      ]
     },
     "metadata": {},
     "output_type": "display_data"
    }
   ],
   "source": [
    "female = pd.DataFrame( madames.groupby('first_year').count()['Nom Prénom'] )\n",
    "t1 = female.plot()"
   ]
  },
  {
   "cell_type": "code",
   "execution_count": 64,
   "metadata": {
    "collapsed": false
   },
   "outputs": [
    {
     "data": {
      "text/plain": [
       "<matplotlib.axes._subplots.AxesSubplot at 0x7f7461e85b38>"
      ]
     },
     "execution_count": 64,
     "metadata": {},
     "output_type": "execute_result"
    },
    {
     "data": {
      "image/png": "[encoded data removed]",
      "text/plain": [
       "<matplotlib.figure.Figure at 0x7f7461f31a58>"
      ]
     },
     "metadata": {},
     "output_type": "display_data"
    }
   ],
   "source": [
    "male = pd.DataFrame( monsieurs.groupby('first_year').count()['Nom Prénom']  )\n",
    "male.plot()"
   ]
  },
  {
   "cell_type": "markdown",
   "metadata": {},
   "source": [
    "We can see that the trends are similar."
   ]
  },
  {
   "cell_type": "code",
   "execution_count": null,
   "metadata": {
    "collapsed": true
   },
   "outputs": [],
   "source": []
  }
 ],
 "metadata": {
  "anaconda-cloud": {},
  "kernelspec": {
   "display_name": "Python [default]",
   "language": "python",
   "name": "python3"
  },
  "language_info": {
   "codemirror_mode": {
    "name": "ipython",
    "version": 3
   },
   "file_extension": ".py",
   "mimetype": "text/x-python",
   "name": "python",
   "nbconvert_exporter": "python",
   "pygments_lexer": "ipython3",
   "version": "3.5.2"
  }
 },
 "nbformat": 4,
 "nbformat_minor": 0
}
