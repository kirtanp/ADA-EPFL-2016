{
 "cells": [
  {
   "cell_type": "markdown",
   "metadata": {},
   "source": [
    "# Task 2\n",
    "Perform a similar operation to what described above, this time for Master students. Notice that this data is more tricky, as there are many missing records in the IS-Academia database. Therefore, try to guess how much time a master student spent at EPFL by at least checking the distance in months between Master semestre 1 and Master semestre 2. If the Mineur field is not empty, the student should also appear registered in Master semestre 3. Last but not the least, don't forget to check if the student has an entry also in the Projet Master tables. Once you can handle well this data, compute the \"average stay at EPFL\" for master students. Now extract all the students with a Spécialisation and compute the \"average stay\" per each category of that attribute -- compared to the general average, can you find any specialization for which the difference in average is statistically significant?"
   ]
  },
  {
   "cell_type": "code",
   "execution_count": 148,
   "metadata": {
    "collapsed": false
   },
   "outputs": [],
   "source": [
    "import requests\n",
    "import urllib\n",
    "import pandas as pd\n",
    "from bs4 import BeautifulSoup\n",
    "import numpy as np\n",
    "import scipy.stats as stats\n",
    "import matplotlib.pyplot as plt\n",
    "import math\n",
    "import pickle\n",
    "import copy"
   ]
  },
  {
   "cell_type": "markdown",
   "metadata": {},
   "source": [
    "# A. Generating a DataFrame with all the information from Master's students\n",
    "1. Creating a dictionary for all the parameters\n",
    "2. Creating a new dictionary for \"Période Pédagogique\"\n",
    "3. Obtaining the DataFrames"
   ]
  },
  {
   "cell_type": "markdown",
   "metadata": {},
   "source": [
    "## A1. Creating a dictionary for all the parameters\n",
    "\n",
    "We will **follow the same procedure as we did in the task 1** when we worked with the data of the bachelor students.\n",
    "We will still using the following values of the some of the parameters, this because, those will not change for getting the all the urlss and therefore, the reports:\n",
    "\n",
    "* ww_x_GPS=-1                    \"For 'tous' fixed\"\n",
    "* ww_i_reportModel=133685247     \"fixed\"\n",
    "* ww_i_reportModelXsl=133685270  \"fixed to HTML\"\n",
    "* ww_x_UNITE_ACAD=249847         \"fixed to informatique\"\n",
    "\n",
    "This part is the same as in the Bachelor's part"
   ]
  },
  {
   "cell_type": "code",
   "execution_count": 149,
   "metadata": {
    "collapsed": true
   },
   "outputs": [],
   "source": [
    "#Add the base url where the form is\n",
    "base_url = \"http://isa.epfl.ch/imoniteur_ISAP/!gedpublicreports.htm?ww_i_reportmodel=133685247\"\n",
    "full_url = \"http://isa.epfl.ch/imoniteur_ISAP/!GEDPUBLICREPORTS.filter?ww_b_list=1&ww_i_reportmodel=133685247&ww_c_langue=&ww_i_reportModelXsl=133685270&zz_x_UNITE_ACAD=&ww_x_UNITE_ACAD=249847&zz_x_PERIODE_ACAD=&ww_x_PERIODE_ACAD=213638028&zz_x_PERIODE_PEDAGO=&ww_x_PERIODE_PEDAGO=249108&zz_x_HIVERETE=&ww_x_HIVERETE=2936286&dummy=ok\""
   ]
  },
  {
   "cell_type": "code",
   "execution_count": 150,
   "metadata": {
    "collapsed": false
   },
   "outputs": [],
   "source": [
    "ww_x_GPS = '-1'  #for 'tous' fixed\n",
    "ww_i_reportModel = '133685247'  #fixed\n",
    "ww_i_reportModelXsl = '133685270'  #fixed to HTML\n",
    "ww_x_UNITE_ACAD = '249847'  #fixed to informatique"
   ]
  },
  {
   "cell_type": "code",
   "execution_count": 151,
   "metadata": {
    "collapsed": true
   },
   "outputs": [],
   "source": [
    "r = requests.get( full_url )\n",
    "soup = BeautifulSoup(r.text, 'lxml')"
   ]
  },
  {
   "cell_type": "code",
   "execution_count": 152,
   "metadata": {
    "collapsed": false
   },
   "outputs": [],
   "source": [
    "dicti = {}\n",
    "for select in soup.findAll('select'):\n",
    "    name = select['name'].strip()\n",
    "    dicti[name] = {}\n",
    "    for option in select.findAll('option'):\n",
    "        #print( option.string, option['value'])\n",
    "        if(option['value'] != 'null'):\n",
    "            strng = option.string.strip()\n",
    "            dicti[name][strng] = option['value'].strip()"
   ]
  },
  {
   "cell_type": "code",
   "execution_count": 153,
   "metadata": {
    "collapsed": false
   },
   "outputs": [
    {
     "data": {
      "text/plain": [
       "{'ww_x_HIVERETE': {\"Semestre d'automne\": '2936286',\n",
       "  'Semestre de printemps': '2936295'},\n",
       " 'ww_x_PERIODE_ACAD': {'2007-2008': '978181',\n",
       "  '2008-2009': '978187',\n",
       "  '2009-2010': '978195',\n",
       "  '2010-2011': '39486325',\n",
       "  '2011-2012': '123455150',\n",
       "  '2012-2013': '123456101',\n",
       "  '2013-2014': '213637754',\n",
       "  '2014-2015': '213637922',\n",
       "  '2015-2016': '213638028',\n",
       "  '2016-2017': '355925344'},\n",
       " 'ww_x_PERIODE_PEDAGO': {'Bachelor semestre 1': '249108',\n",
       "  'Bachelor semestre 2': '249114',\n",
       "  'Bachelor semestre 3': '942155',\n",
       "  'Bachelor semestre 4': '942163',\n",
       "  'Bachelor semestre 5': '942120',\n",
       "  'Bachelor semestre 5b': '2226768',\n",
       "  'Bachelor semestre 6': '942175',\n",
       "  'Bachelor semestre 6b': '2226785',\n",
       "  'Master semestre 1': '2230106',\n",
       "  'Master semestre 2': '942192',\n",
       "  'Master semestre 3': '2230128',\n",
       "  'Master semestre 4': '2230140',\n",
       "  'Mineur semestre 1': '2335667',\n",
       "  'Mineur semestre 2': '2335676',\n",
       "  'Mise à niveau': '2063602308',\n",
       "  'Projet Master automne': '249127',\n",
       "  'Projet Master printemps': '3781783',\n",
       "  'Semestre automne': '953159',\n",
       "  'Semestre printemps': '2754553',\n",
       "  'Stage automne 3ème année': '953137',\n",
       "  'Stage automne 4ème année': '2226616',\n",
       "  'Stage printemps 3ème année': '983606',\n",
       "  'Stage printemps 4ème année': '2226626',\n",
       "  'Stage printemps master': '2227132'},\n",
       " 'ww_x_UNITE_ACAD': {'Architecture': '942293',\n",
       "  'Chimie et génie chimique': '246696',\n",
       "  'Cours de mathématiques spéciales': '943282',\n",
       "  'EME (EPFL Middle East)': '637841336',\n",
       "  'Génie civil': '942623',\n",
       "  'Génie mécanique': '944263',\n",
       "  'Génie électrique et électronique': '943936',\n",
       "  'Humanités digitales': '2054839157',\n",
       "  'Informatique': '249847',\n",
       "  'Ingénierie financière': '120623110',\n",
       "  'Management de la technologie': '946882',\n",
       "  'Mathématiques': '944590',\n",
       "  'Microtechnique': '945244',\n",
       "  'Physique': '945571',\n",
       "  'Science et génie des matériaux': '944917',\n",
       "  \"Sciences et ingénierie de l'environnement\": '942953',\n",
       "  'Sciences et technologies du vivant': '945901',\n",
       "  'Section FCUE': '1574548993',\n",
       "  'Systèmes de communication': '946228'}}"
      ]
     },
     "execution_count": 153,
     "metadata": {},
     "output_type": "execute_result"
    }
   ],
   "source": [
    "dicti"
   ]
  },
  {
   "cell_type": "markdown",
   "metadata": {},
   "source": [
    "## A2. Creating a new dictionary for \"Période Pédagogique\"\n",
    "\n",
    "We need to create a new dictionary for the parameter \"Période Pédagogique\", this because we will only focus on the Master students and that parameter contains values for both master and bachelor. We will obtain this new dictionary from the previous one (the general one, \"dict\") and we will only consider the following values:\n",
    "    \n",
    "* Master semestre 1\n",
    "* Master semestre 2\n",
    "* Master semestre 3\n",
    "* Master semestre 4\n",
    "* Mineur semestre 1\n",
    "* Mineur semestre 2\n",
    "* Projet Master automne\n",
    "* Projet Master printemps\n",
    "* Stage printemps master"
   ]
  },
  {
   "cell_type": "code",
   "execution_count": 60,
   "metadata": {
    "collapsed": false
   },
   "outputs": [],
   "source": [
    "master_period_keys=['Master semestre 1','Master semestre 2','Master semestre 3','Master semestre 4',\n",
    "               'Mineur semestre 1','Mineur semestre 2','Projet Master automne',\n",
    "               'Projet Master printemps','Stage printemps master']\n",
    "ww_x_PERIODE_PEDAGO_masters={key: dicti['ww_x_PERIODE_PEDAGO'][key] for key in master_period_keys}"
   ]
  },
  {
   "cell_type": "code",
   "execution_count": 61,
   "metadata": {
    "collapsed": false,
    "scrolled": false
   },
   "outputs": [
    {
     "data": {
      "text/plain": [
       "{'Master semestre 1': '2230106',\n",
       " 'Master semestre 2': '942192',\n",
       " 'Master semestre 3': '2230128',\n",
       " 'Master semestre 4': '2230140',\n",
       " 'Mineur semestre 1': '2335667',\n",
       " 'Mineur semestre 2': '2335676',\n",
       " 'Projet Master automne': '249127',\n",
       " 'Projet Master printemps': '3781783',\n",
       " 'Stage printemps master': '2227132'}"
      ]
     },
     "execution_count": 61,
     "metadata": {},
     "output_type": "execute_result"
    }
   ],
   "source": [
    "ww_x_PERIODE_PEDAGO_masters"
   ]
  },
  {
   "cell_type": "markdown",
   "metadata": {},
   "source": [
    "## A3. Obtaining the DataFrames\n",
    "\n",
    "We will move trough the diferent permutations between the three parameters that we are interested (the other 4, as metioned before, are fixed):\n",
    "\n",
    "* ww_x_PERIODE_ACAD \"Période académique\"\n",
    "* ww_x_PERIODE_PEDAGO \"Période pédagogique\"\n",
    "* ww_x_HIVERETE \"Type de semestre\"\n",
    "\n",
    "We need to obtain the corresponding URL for each permutation and then we have to see whether the URL contains information (tables) or not, this in order to not have an error during the loops."
   ]
  },
  {
   "cell_type": "markdown",
   "metadata": {},
   "source": [
    "### No need to run the following cell!"
   ]
  },
  {
   "cell_type": "code",
   "execution_count": 154,
   "metadata": {
    "collapsed": false
   },
   "outputs": [],
   "source": [
    "#Counter for all the DataFrames\n",
    "count_df=0  \n",
    "\n",
    "#we create a list to store all the valid DataFrames\n",
    "list_df_masters=[] \n",
    "\n",
    "#We define a new dictionary to get all the possible URLs that we are going to use, \n",
    "#notice that we are fixing some values as we mentioned before\n",
    "params={}\n",
    "params['ww_x_GPS']=ww_x_GPS #fixed\n",
    "params['ww_i_reportModel']=ww_i_reportModel #fixed\n",
    "params['ww_i_reportModelXsl']=ww_i_reportModelXsl #fixed\n",
    "params['ww_x_UNITE_ACAD']=ww_x_UNITE_ACAD #fixed\n",
    "params['ww_x_PERIODE_ACAD']='null' #this value will vary\n",
    "params['ww_x_PERIODE_PEDAGO']='null' #this will vary\n",
    "params['ww_x_HIVERETE']='null' #this value will vary\n",
    "\n",
    "#We move trough the \"Type de semestre\" parameter\n",
    "for semester_type_key, semester_type_value in dict['ww_x_HIVERETE'].items(): \n",
    "    \n",
    "    #We move through the \"Période pédagogique\" parameter \n",
    "    for teaching_period_key,teaching_period_value in ww_x_PERIODE_PEDAGO_masters.items(): \n",
    "        \n",
    "        #We move through the \"Période académique\" parameter\n",
    "        for academic_period_key,academic_period_value in dict['ww_x_PERIODE_ACAD'].items(): \n",
    "            \n",
    "            #We change the values for the three parameters so that we can get the new URL with the corresponding report\n",
    "            params['ww_x_HIVERETE']=semester_type_value\n",
    "            params['ww_x_PERIODE_PEDAGO']=teaching_period_value\n",
    "            params['ww_x_PERIODE_ACAD']=academic_period_value\n",
    "            \n",
    "            #We get the HTML information with the new parameters for the URL\n",
    "            urls=requests.get('http://isa.epfl.ch/imoniteur_ISAP/!GEDPUBLICREPORTS.html?',params) \n",
    "            \n",
    "            try: #We need to see if the URL generates a report with tables to generate the DataFrame\n",
    "                list_df_masters.append(pd.read_html(urls.url,header=0,skiprows=1,flavor='lxml')[0])\n",
    "            except: \n",
    "                flag=0 #The flag has a \"0\" value if it finds a report with no information (no tables), this in order to not continue counting the dataframes. in this step no dataframe was created\n",
    "            else:\n",
    "                flag=1 #The flag has a \"1\" value if it finds a report with information (tables). in this point a dataFrame was created with the information of the corresponding report\n",
    "            if flag==1: #If the dataframe was generated, then we need to add the columns with the academic period \"Periode academique\", teaching period \"periode pedagofique\" and semester type \"Type de semestre\"\n",
    "                list_df_masters[count_df]['Periode academique']=academic_period_key\n",
    "                list_df_masters[count_df]['Periode pedagogique']=teaching_period_key\n",
    "                list_df_masters[count_df]['Type de semestre']=semester_type_key\n",
    "                count_df=count_df+1 #We need to count how many dataframes are being created. "
   ]
  },
  {
   "cell_type": "code",
   "execution_count": 87,
   "metadata": {
    "collapsed": false
   },
   "outputs": [
    {
     "data": {
      "text/plain": [
       "'df_masters=pd.concat(list_df_masters,ignore_index=True)'"
      ]
     },
     "execution_count": 87,
     "metadata": {},
     "output_type": "execute_result"
    }
   ],
   "source": [
    "#Finally, we concatenate all the dataframes from the list of dataframes to create one single DataFrame with all the information\n",
    "'df_masters=pd.concat(list_df_masters,ignore_index=True)'"
   ]
  },
  {
   "cell_type": "markdown",
   "metadata": {},
   "source": [
    "### Pickling the DataFrame list\n",
    "\n",
    "Since the list of DataFrame is computationally intensive, and we do not want to send the request to servers everytime, we saved the dataframes into another file, df_masters.p"
   ]
  },
  {
   "cell_type": "markdown",
   "metadata": {},
   "source": [
    "The following cells do not need to be ran since df_masters is pickled already."
   ]
  },
  {
   "cell_type": "code",
   "execution_count": 88,
   "metadata": {
    "collapsed": false,
    "scrolled": true
   },
   "outputs": [],
   "source": [
    "# saving the file\n",
    "'pickle.dump(df_masters, open( \"df_masters.p\", \"wb\" ) )'"
   ]
  },
  {
   "cell_type": "code",
   "execution_count": 89,
   "metadata": {
    "collapsed": false
   },
   "outputs": [],
   "source": [
    "# opening the file\n",
    "df_masters = pickle.load( open( \"df_masters.p\", \"rb\" ) )"
   ]
  },
  {
   "cell_type": "code",
   "execution_count": 90,
   "metadata": {
    "collapsed": false,
    "scrolled": true
   },
   "outputs": [
    {
     "data": {
      "text/html": [
       "<div>\n",
       "<table border=\"1\" class=\"dataframe\">\n",
       "  <thead>\n",
       "    <tr style=\"text-align: right;\">\n",
       "      <th></th>\n",
       "      <th>Civilité</th>\n",
       "      <th>Nom Prénom</th>\n",
       "      <th>Statut</th>\n",
       "      <th>No Sciper</th>\n",
       "      <th>Periode academique</th>\n",
       "      <th>Periode pedagogique</th>\n",
       "      <th>Type de semestre</th>\n",
       "    </tr>\n",
       "  </thead>\n",
       "  <tbody>\n",
       "    <tr>\n",
       "      <th>240</th>\n",
       "      <td>Madame</td>\n",
       "      <td>Abbadi Hajar</td>\n",
       "      <td>Présent</td>\n",
       "      <td>238067</td>\n",
       "      <td>2013-2014</td>\n",
       "      <td>Master semestre 1</td>\n",
       "      <td>Semestre d'automne</td>\n",
       "    </tr>\n",
       "    <tr>\n",
       "      <th>1925</th>\n",
       "      <td>Madame</td>\n",
       "      <td>Abbadi Hajar</td>\n",
       "      <td>Présent</td>\n",
       "      <td>238067</td>\n",
       "      <td>2013-2014</td>\n",
       "      <td>Master semestre 2</td>\n",
       "      <td>Semestre de printemps</td>\n",
       "    </tr>\n",
       "    <tr>\n",
       "      <th>1454</th>\n",
       "      <td>Madame</td>\n",
       "      <td>Abbadi Hajar</td>\n",
       "      <td>Présent</td>\n",
       "      <td>238067</td>\n",
       "      <td>2014-2015</td>\n",
       "      <td>Master semestre 3</td>\n",
       "      <td>Semestre d'automne</td>\n",
       "    </tr>\n",
       "    <tr>\n",
       "      <th>938</th>\n",
       "      <td>Monsieur</td>\n",
       "      <td>Abelenda Diego</td>\n",
       "      <td>Présent</td>\n",
       "      <td>170646</td>\n",
       "      <td>2010-2011</td>\n",
       "      <td>Master semestre 1</td>\n",
       "      <td>Semestre d'automne</td>\n",
       "    </tr>\n",
       "    <tr>\n",
       "      <th>2693</th>\n",
       "      <td>Monsieur</td>\n",
       "      <td>Abelenda Diego</td>\n",
       "      <td>Présent</td>\n",
       "      <td>170646</td>\n",
       "      <td>2010-2011</td>\n",
       "      <td>Master semestre 2</td>\n",
       "      <td>Semestre de printemps</td>\n",
       "    </tr>\n",
       "    <tr>\n",
       "      <th>1034</th>\n",
       "      <td>Monsieur</td>\n",
       "      <td>Abelenda Diego</td>\n",
       "      <td>Présent</td>\n",
       "      <td>170646</td>\n",
       "      <td>2011-2012</td>\n",
       "      <td>Master semestre 3</td>\n",
       "      <td>Semestre d'automne</td>\n",
       "    </tr>\n",
       "    <tr>\n",
       "      <th>1740</th>\n",
       "      <td>Monsieur</td>\n",
       "      <td>Abelenda Diego</td>\n",
       "      <td>Présent</td>\n",
       "      <td>170646</td>\n",
       "      <td>2011-2012</td>\n",
       "      <td>Master semestre 2</td>\n",
       "      <td>Semestre de printemps</td>\n",
       "    </tr>\n",
       "    <tr>\n",
       "      <th>415</th>\n",
       "      <td>Madame</td>\n",
       "      <td>Abi Akar Nora</td>\n",
       "      <td>Présent</td>\n",
       "      <td>251253</td>\n",
       "      <td>2015-2016</td>\n",
       "      <td>Master semestre 1</td>\n",
       "      <td>Semestre d'automne</td>\n",
       "    </tr>\n",
       "    <tr>\n",
       "      <th>2150</th>\n",
       "      <td>Madame</td>\n",
       "      <td>Abi Akar Nora</td>\n",
       "      <td>Présent</td>\n",
       "      <td>251253</td>\n",
       "      <td>2015-2016</td>\n",
       "      <td>Master semestre 2</td>\n",
       "      <td>Semestre de printemps</td>\n",
       "    </tr>\n",
       "    <tr>\n",
       "      <th>1535</th>\n",
       "      <td>Madame</td>\n",
       "      <td>Abi Akar Nora</td>\n",
       "      <td>Présent</td>\n",
       "      <td>251253</td>\n",
       "      <td>2016-2017</td>\n",
       "      <td>Master semestre 3</td>\n",
       "      <td>Semestre d'automne</td>\n",
       "    </tr>\n",
       "    <tr>\n",
       "      <th>740</th>\n",
       "      <td>Monsieur</td>\n",
       "      <td>Adamsons Valdis</td>\n",
       "      <td>Présent</td>\n",
       "      <td>273101</td>\n",
       "      <td>2016-2017</td>\n",
       "      <td>Master semestre 1</td>\n",
       "      <td>Semestre d'automne</td>\n",
       "    </tr>\n",
       "    <tr>\n",
       "      <th>739</th>\n",
       "      <td>Monsieur</td>\n",
       "      <td>Adams Marc Alain</td>\n",
       "      <td>Présent</td>\n",
       "      <td>271331</td>\n",
       "      <td>2016-2017</td>\n",
       "      <td>Master semestre 1</td>\n",
       "      <td>Semestre d'automne</td>\n",
       "    </tr>\n",
       "    <tr>\n",
       "      <th>344</th>\n",
       "      <td>Monsieur</td>\n",
       "      <td>Aeberhard François-Xavier</td>\n",
       "      <td>Présent</td>\n",
       "      <td>153066</td>\n",
       "      <td>2007-2008</td>\n",
       "      <td>Master semestre 1</td>\n",
       "      <td>Semestre d'automne</td>\n",
       "    </tr>\n",
       "    <tr>\n",
       "      <th>2063</th>\n",
       "      <td>Monsieur</td>\n",
       "      <td>Aeberhard François-Xavier</td>\n",
       "      <td>Présent</td>\n",
       "      <td>153066</td>\n",
       "      <td>2007-2008</td>\n",
       "      <td>Master semestre 2</td>\n",
       "      <td>Semestre de printemps</td>\n",
       "    </tr>\n",
       "    <tr>\n",
       "      <th>1652</th>\n",
       "      <td>Monsieur</td>\n",
       "      <td>Aeberhard François-Xavier</td>\n",
       "      <td>Présent</td>\n",
       "      <td>153066</td>\n",
       "      <td>2008-2009</td>\n",
       "      <td>Master semestre 3</td>\n",
       "      <td>Semestre d'automne</td>\n",
       "    </tr>\n",
       "    <tr>\n",
       "      <th>2629</th>\n",
       "      <td>Monsieur</td>\n",
       "      <td>Aeberhard François-Xavier</td>\n",
       "      <td>Stage</td>\n",
       "      <td>153066</td>\n",
       "      <td>2008-2009</td>\n",
       "      <td>Master semestre 2</td>\n",
       "      <td>Semestre de printemps</td>\n",
       "    </tr>\n",
       "    <tr>\n",
       "      <th>1101</th>\n",
       "      <td>Monsieur</td>\n",
       "      <td>Aeberhard François-Xavier</td>\n",
       "      <td>Présent</td>\n",
       "      <td>153066</td>\n",
       "      <td>2009-2010</td>\n",
       "      <td>Master semestre 3</td>\n",
       "      <td>Semestre d'automne</td>\n",
       "    </tr>\n",
       "    <tr>\n",
       "      <th>1863</th>\n",
       "      <td>Monsieur</td>\n",
       "      <td>Aeberhard François-Xavier</td>\n",
       "      <td>Présent</td>\n",
       "      <td>153066</td>\n",
       "      <td>2009-2010</td>\n",
       "      <td>Master semestre 2</td>\n",
       "      <td>Semestre de printemps</td>\n",
       "    </tr>\n",
       "    <tr>\n",
       "      <th>416</th>\n",
       "      <td>Madame</td>\n",
       "      <td>Aeby Prisca</td>\n",
       "      <td>Présent</td>\n",
       "      <td>225654</td>\n",
       "      <td>2015-2016</td>\n",
       "      <td>Master semestre 1</td>\n",
       "      <td>Semestre d'automne</td>\n",
       "    </tr>\n",
       "    <tr>\n",
       "      <th>2151</th>\n",
       "      <td>Madame</td>\n",
       "      <td>Aeby Prisca</td>\n",
       "      <td>Présent</td>\n",
       "      <td>225654</td>\n",
       "      <td>2015-2016</td>\n",
       "      <td>Master semestre 2</td>\n",
       "      <td>Semestre de printemps</td>\n",
       "    </tr>\n",
       "    <tr>\n",
       "      <th>1536</th>\n",
       "      <td>Madame</td>\n",
       "      <td>Aeby Prisca</td>\n",
       "      <td>Présent</td>\n",
       "      <td>225654</td>\n",
       "      <td>2016-2017</td>\n",
       "      <td>Master semestre 3</td>\n",
       "      <td>Semestre d'automne</td>\n",
       "    </tr>\n",
       "    <tr>\n",
       "      <th>741</th>\n",
       "      <td>Monsieur</td>\n",
       "      <td>Agapiou Stylianos</td>\n",
       "      <td>Présent</td>\n",
       "      <td>267543</td>\n",
       "      <td>2016-2017</td>\n",
       "      <td>Master semestre 1</td>\n",
       "      <td>Semestre d'automne</td>\n",
       "    </tr>\n",
       "    <tr>\n",
       "      <th>345</th>\n",
       "      <td>Madame</td>\n",
       "      <td>Agarwal Megha</td>\n",
       "      <td>Présent</td>\n",
       "      <td>180027</td>\n",
       "      <td>2007-2008</td>\n",
       "      <td>Master semestre 1</td>\n",
       "      <td>Semestre d'automne</td>\n",
       "    </tr>\n",
       "    <tr>\n",
       "      <th>2064</th>\n",
       "      <td>Madame</td>\n",
       "      <td>Agarwal Megha</td>\n",
       "      <td>Présent</td>\n",
       "      <td>180027</td>\n",
       "      <td>2007-2008</td>\n",
       "      <td>Master semestre 2</td>\n",
       "      <td>Semestre de printemps</td>\n",
       "    </tr>\n",
       "    <tr>\n",
       "      <th>79</th>\n",
       "      <td>Madame</td>\n",
       "      <td>Agarwal Megha</td>\n",
       "      <td>Stage</td>\n",
       "      <td>180027</td>\n",
       "      <td>2008-2009</td>\n",
       "      <td>Projet Master automne</td>\n",
       "      <td>Semestre d'automne</td>\n",
       "    </tr>\n",
       "    <tr>\n",
       "      <th>241</th>\n",
       "      <td>Monsieur</td>\n",
       "      <td>Ahmed Fayzan</td>\n",
       "      <td>Présent</td>\n",
       "      <td>235799</td>\n",
       "      <td>2013-2014</td>\n",
       "      <td>Master semestre 1</td>\n",
       "      <td>Semestre d'automne</td>\n",
       "    </tr>\n",
       "    <tr>\n",
       "      <th>1926</th>\n",
       "      <td>Monsieur</td>\n",
       "      <td>Ahmed Fayzan</td>\n",
       "      <td>Présent</td>\n",
       "      <td>235799</td>\n",
       "      <td>2013-2014</td>\n",
       "      <td>Master semestre 2</td>\n",
       "      <td>Semestre de printemps</td>\n",
       "    </tr>\n",
       "    <tr>\n",
       "      <th>1455</th>\n",
       "      <td>Monsieur</td>\n",
       "      <td>Ahmed Fayzan</td>\n",
       "      <td>Présent</td>\n",
       "      <td>235799</td>\n",
       "      <td>2014-2015</td>\n",
       "      <td>Master semestre 3</td>\n",
       "      <td>Semestre d'automne</td>\n",
       "    </tr>\n",
       "    <tr>\n",
       "      <th>742</th>\n",
       "      <td>Monsieur</td>\n",
       "      <td>Aiulfi Loris Sandro</td>\n",
       "      <td>Présent</td>\n",
       "      <td>202293</td>\n",
       "      <td>2016-2017</td>\n",
       "      <td>Master semestre 1</td>\n",
       "      <td>Semestre d'automne</td>\n",
       "    </tr>\n",
       "    <tr>\n",
       "      <th>743</th>\n",
       "      <td>Monsieur</td>\n",
       "      <td>Alfonso Peterssen Alfonso</td>\n",
       "      <td>Présent</td>\n",
       "      <td>228219</td>\n",
       "      <td>2016-2017</td>\n",
       "      <td>Master semestre 1</td>\n",
       "      <td>Semestre d'automne</td>\n",
       "    </tr>\n",
       "    <tr>\n",
       "      <th>...</th>\n",
       "      <td>...</td>\n",
       "      <td>...</td>\n",
       "      <td>...</td>\n",
       "      <td>...</td>\n",
       "      <td>...</td>\n",
       "      <td>...</td>\n",
       "      <td>...</td>\n",
       "    </tr>\n",
       "    <tr>\n",
       "      <th>2474</th>\n",
       "      <td>Monsieur</td>\n",
       "      <td>Zoller Roman</td>\n",
       "      <td>Présent</td>\n",
       "      <td>178682</td>\n",
       "      <td>2012-2013</td>\n",
       "      <td>Master semestre 2</td>\n",
       "      <td>Semestre de printemps</td>\n",
       "    </tr>\n",
       "    <tr>\n",
       "      <th>343</th>\n",
       "      <td>Monsieur</td>\n",
       "      <td>Zommerfelds Christian Georges</td>\n",
       "      <td>Présent</td>\n",
       "      <td>203457</td>\n",
       "      <td>2013-2014</td>\n",
       "      <td>Master semestre 1</td>\n",
       "      <td>Semestre d'automne</td>\n",
       "    </tr>\n",
       "    <tr>\n",
       "      <th>2062</th>\n",
       "      <td>Monsieur</td>\n",
       "      <td>Zommerfelds Christian Georges</td>\n",
       "      <td>Stage</td>\n",
       "      <td>203457</td>\n",
       "      <td>2013-2014</td>\n",
       "      <td>Master semestre 2</td>\n",
       "      <td>Semestre de printemps</td>\n",
       "    </tr>\n",
       "    <tr>\n",
       "      <th>1534</th>\n",
       "      <td>Monsieur</td>\n",
       "      <td>Zommerfelds Christian Georges</td>\n",
       "      <td>Congé</td>\n",
       "      <td>203457</td>\n",
       "      <td>2014-2015</td>\n",
       "      <td>Master semestre 3</td>\n",
       "      <td>Semestre d'automne</td>\n",
       "    </tr>\n",
       "    <tr>\n",
       "      <th>2626</th>\n",
       "      <td>Monsieur</td>\n",
       "      <td>Zommerfelds Christian Georges</td>\n",
       "      <td>Présent</td>\n",
       "      <td>203457</td>\n",
       "      <td>2014-2015</td>\n",
       "      <td>Master semestre 2</td>\n",
       "      <td>Semestre de printemps</td>\n",
       "    </tr>\n",
       "    <tr>\n",
       "      <th>1366</th>\n",
       "      <td>Monsieur</td>\n",
       "      <td>Zommerfelds Christian Georges</td>\n",
       "      <td>Présent</td>\n",
       "      <td>203457</td>\n",
       "      <td>2015-2016</td>\n",
       "      <td>Master semestre 3</td>\n",
       "      <td>Semestre d'automne</td>\n",
       "    </tr>\n",
       "    <tr>\n",
       "      <th>936</th>\n",
       "      <td>Monsieur</td>\n",
       "      <td>Zotos Panteleimon</td>\n",
       "      <td>Présent</td>\n",
       "      <td>183628</td>\n",
       "      <td>2008-2009</td>\n",
       "      <td>Master semestre 1</td>\n",
       "      <td>Semestre d'automne</td>\n",
       "    </tr>\n",
       "    <tr>\n",
       "      <th>2691</th>\n",
       "      <td>Monsieur</td>\n",
       "      <td>Zotos Panteleimon</td>\n",
       "      <td>Présent</td>\n",
       "      <td>183628</td>\n",
       "      <td>2008-2009</td>\n",
       "      <td>Master semestre 2</td>\n",
       "      <td>Semestre de printemps</td>\n",
       "    </tr>\n",
       "    <tr>\n",
       "      <th>877</th>\n",
       "      <td>Monsieur</td>\n",
       "      <td>Zoveralli Marco</td>\n",
       "      <td>Présent</td>\n",
       "      <td>267476</td>\n",
       "      <td>2016-2017</td>\n",
       "      <td>Master semestre 1</td>\n",
       "      <td>Semestre d'automne</td>\n",
       "    </tr>\n",
       "    <tr>\n",
       "      <th>414</th>\n",
       "      <td>Monsieur</td>\n",
       "      <td>Zufferey Damien</td>\n",
       "      <td>Présent</td>\n",
       "      <td>166264</td>\n",
       "      <td>2007-2008</td>\n",
       "      <td>Master semestre 1</td>\n",
       "      <td>Semestre d'automne</td>\n",
       "    </tr>\n",
       "    <tr>\n",
       "      <th>2149</th>\n",
       "      <td>Monsieur</td>\n",
       "      <td>Zufferey Damien</td>\n",
       "      <td>Présent</td>\n",
       "      <td>166264</td>\n",
       "      <td>2007-2008</td>\n",
       "      <td>Master semestre 2</td>\n",
       "      <td>Semestre de printemps</td>\n",
       "    </tr>\n",
       "    <tr>\n",
       "      <th>1699</th>\n",
       "      <td>Monsieur</td>\n",
       "      <td>Zufferey Damien</td>\n",
       "      <td>Présent</td>\n",
       "      <td>166264</td>\n",
       "      <td>2008-2009</td>\n",
       "      <td>Master semestre 3</td>\n",
       "      <td>Semestre d'automne</td>\n",
       "    </tr>\n",
       "    <tr>\n",
       "      <th>937</th>\n",
       "      <td>Monsieur</td>\n",
       "      <td>Züger Walter</td>\n",
       "      <td>Congé</td>\n",
       "      <td>171042</td>\n",
       "      <td>2008-2009</td>\n",
       "      <td>Master semestre 1</td>\n",
       "      <td>Semestre d'automne</td>\n",
       "    </tr>\n",
       "    <tr>\n",
       "      <th>2692</th>\n",
       "      <td>Monsieur</td>\n",
       "      <td>Züger Walter</td>\n",
       "      <td>Congé</td>\n",
       "      <td>171042</td>\n",
       "      <td>2008-2009</td>\n",
       "      <td>Master semestre 2</td>\n",
       "      <td>Semestre de printemps</td>\n",
       "    </tr>\n",
       "    <tr>\n",
       "      <th>187</th>\n",
       "      <td>Monsieur</td>\n",
       "      <td>Zürn Christophe</td>\n",
       "      <td>Congé</td>\n",
       "      <td>178942</td>\n",
       "      <td>2011-2012</td>\n",
       "      <td>Master semestre 1</td>\n",
       "      <td>Semestre d'automne</td>\n",
       "    </tr>\n",
       "    <tr>\n",
       "      <th>1862</th>\n",
       "      <td>Monsieur</td>\n",
       "      <td>Zürn Christophe</td>\n",
       "      <td>Congé</td>\n",
       "      <td>178942</td>\n",
       "      <td>2011-2012</td>\n",
       "      <td>Master semestre 2</td>\n",
       "      <td>Semestre de printemps</td>\n",
       "    </tr>\n",
       "    <tr>\n",
       "      <th>1453</th>\n",
       "      <td>Monsieur</td>\n",
       "      <td>Zürn Christophe</td>\n",
       "      <td>Présent</td>\n",
       "      <td>178942</td>\n",
       "      <td>2012-2013</td>\n",
       "      <td>Master semestre 3</td>\n",
       "      <td>Semestre d'automne</td>\n",
       "    </tr>\n",
       "    <tr>\n",
       "      <th>2475</th>\n",
       "      <td>Monsieur</td>\n",
       "      <td>Zürn Christophe</td>\n",
       "      <td>Stage</td>\n",
       "      <td>178942</td>\n",
       "      <td>2012-2013</td>\n",
       "      <td>Master semestre 2</td>\n",
       "      <td>Semestre de printemps</td>\n",
       "    </tr>\n",
       "    <tr>\n",
       "      <th>1209</th>\n",
       "      <td>Monsieur</td>\n",
       "      <td>Zürn Christophe</td>\n",
       "      <td>Présent</td>\n",
       "      <td>178942</td>\n",
       "      <td>2013-2014</td>\n",
       "      <td>Master semestre 3</td>\n",
       "      <td>Semestre d'automne</td>\n",
       "    </tr>\n",
       "    <tr>\n",
       "      <th>769</th>\n",
       "      <td>Monsieur</td>\n",
       "      <td>del Marmol Syméon Marie J.</td>\n",
       "      <td>Présent</td>\n",
       "      <td>273163</td>\n",
       "      <td>2016-2017</td>\n",
       "      <td>Master semestre 1</td>\n",
       "      <td>Semestre d'automne</td>\n",
       "    </tr>\n",
       "    <tr>\n",
       "      <th>237</th>\n",
       "      <td>Monsieur</td>\n",
       "      <td>van Boetzelaer Walid</td>\n",
       "      <td>Congé</td>\n",
       "      <td>170530</td>\n",
       "      <td>2009-2010</td>\n",
       "      <td>Master semestre 1</td>\n",
       "      <td>Semestre d'automne</td>\n",
       "    </tr>\n",
       "    <tr>\n",
       "      <th>1922</th>\n",
       "      <td>Monsieur</td>\n",
       "      <td>van Boetzelaer Walid</td>\n",
       "      <td>Congé</td>\n",
       "      <td>170530</td>\n",
       "      <td>2009-2010</td>\n",
       "      <td>Master semestre 2</td>\n",
       "      <td>Semestre de printemps</td>\n",
       "    </tr>\n",
       "    <tr>\n",
       "      <th>1025</th>\n",
       "      <td>Monsieur</td>\n",
       "      <td>van Boetzelaer Walid</td>\n",
       "      <td>Présent</td>\n",
       "      <td>170530</td>\n",
       "      <td>2010-2011</td>\n",
       "      <td>Master semestre 1</td>\n",
       "      <td>Semestre d'automne</td>\n",
       "    </tr>\n",
       "    <tr>\n",
       "      <th>2792</th>\n",
       "      <td>Monsieur</td>\n",
       "      <td>van Boetzelaer Walid</td>\n",
       "      <td>Présent</td>\n",
       "      <td>170530</td>\n",
       "      <td>2010-2011</td>\n",
       "      <td>Master semestre 2</td>\n",
       "      <td>Semestre de printemps</td>\n",
       "    </tr>\n",
       "    <tr>\n",
       "      <th>176</th>\n",
       "      <td>Monsieur</td>\n",
       "      <td>van Boetzelaer Walid</td>\n",
       "      <td>Présent</td>\n",
       "      <td>170530</td>\n",
       "      <td>2011-2012</td>\n",
       "      <td>Master semestre 1</td>\n",
       "      <td>Semestre d'automne</td>\n",
       "    </tr>\n",
       "    <tr>\n",
       "      <th>1845</th>\n",
       "      <td>Monsieur</td>\n",
       "      <td>van Boetzelaer Walid</td>\n",
       "      <td>Présent</td>\n",
       "      <td>170530</td>\n",
       "      <td>2011-2012</td>\n",
       "      <td>Master semestre 2</td>\n",
       "      <td>Semestre de printemps</td>\n",
       "    </tr>\n",
       "    <tr>\n",
       "      <th>221</th>\n",
       "      <td>Monsieur</td>\n",
       "      <td>Önal Cagri</td>\n",
       "      <td>Présent</td>\n",
       "      <td>191354</td>\n",
       "      <td>2009-2010</td>\n",
       "      <td>Master semestre 1</td>\n",
       "      <td>Semestre d'automne</td>\n",
       "    </tr>\n",
       "    <tr>\n",
       "      <th>1904</th>\n",
       "      <td>Monsieur</td>\n",
       "      <td>Önal Cagri</td>\n",
       "      <td>Présent</td>\n",
       "      <td>191354</td>\n",
       "      <td>2009-2010</td>\n",
       "      <td>Master semestre 2</td>\n",
       "      <td>Semestre de printemps</td>\n",
       "    </tr>\n",
       "    <tr>\n",
       "      <th>1726</th>\n",
       "      <td>Monsieur</td>\n",
       "      <td>Önal Cagri</td>\n",
       "      <td>Présent</td>\n",
       "      <td>191354</td>\n",
       "      <td>2010-2011</td>\n",
       "      <td>Master semestre 3</td>\n",
       "      <td>Semestre d'automne</td>\n",
       "    </tr>\n",
       "    <tr>\n",
       "      <th>2767</th>\n",
       "      <td>Monsieur</td>\n",
       "      <td>Önal Cagri</td>\n",
       "      <td>Congé</td>\n",
       "      <td>191354</td>\n",
       "      <td>2010-2011</td>\n",
       "      <td>Master semestre 2</td>\n",
       "      <td>Semestre de printemps</td>\n",
       "    </tr>\n",
       "  </tbody>\n",
       "</table>\n",
       "<p>2844 rows × 7 columns</p>\n",
       "</div>"
      ],
      "text/plain": [
       "      Civilité                     Nom Prénom   Statut  No Sciper  \\\n",
       "240     Madame                   Abbadi Hajar  Présent     238067   \n",
       "1925    Madame                   Abbadi Hajar  Présent     238067   \n",
       "1454    Madame                   Abbadi Hajar  Présent     238067   \n",
       "938   Monsieur                 Abelenda Diego  Présent     170646   \n",
       "2693  Monsieur                 Abelenda Diego  Présent     170646   \n",
       "1034  Monsieur                 Abelenda Diego  Présent     170646   \n",
       "1740  Monsieur                 Abelenda Diego  Présent     170646   \n",
       "415     Madame                  Abi Akar Nora  Présent     251253   \n",
       "2150    Madame                  Abi Akar Nora  Présent     251253   \n",
       "1535    Madame                  Abi Akar Nora  Présent     251253   \n",
       "740   Monsieur                Adamsons Valdis  Présent     273101   \n",
       "739   Monsieur               Adams Marc Alain  Présent     271331   \n",
       "344   Monsieur      Aeberhard François-Xavier  Présent     153066   \n",
       "2063  Monsieur      Aeberhard François-Xavier  Présent     153066   \n",
       "1652  Monsieur      Aeberhard François-Xavier  Présent     153066   \n",
       "2629  Monsieur      Aeberhard François-Xavier    Stage     153066   \n",
       "1101  Monsieur      Aeberhard François-Xavier  Présent     153066   \n",
       "1863  Monsieur      Aeberhard François-Xavier  Présent     153066   \n",
       "416     Madame                    Aeby Prisca  Présent     225654   \n",
       "2151    Madame                    Aeby Prisca  Présent     225654   \n",
       "1536    Madame                    Aeby Prisca  Présent     225654   \n",
       "741   Monsieur              Agapiou Stylianos  Présent     267543   \n",
       "345     Madame                  Agarwal Megha  Présent     180027   \n",
       "2064    Madame                  Agarwal Megha  Présent     180027   \n",
       "79      Madame                  Agarwal Megha    Stage     180027   \n",
       "241   Monsieur                   Ahmed Fayzan  Présent     235799   \n",
       "1926  Monsieur                   Ahmed Fayzan  Présent     235799   \n",
       "1455  Monsieur                   Ahmed Fayzan  Présent     235799   \n",
       "742   Monsieur            Aiulfi Loris Sandro  Présent     202293   \n",
       "743   Monsieur      Alfonso Peterssen Alfonso  Présent     228219   \n",
       "...        ...                            ...      ...        ...   \n",
       "2474  Monsieur                   Zoller Roman  Présent     178682   \n",
       "343   Monsieur  Zommerfelds Christian Georges  Présent     203457   \n",
       "2062  Monsieur  Zommerfelds Christian Georges    Stage     203457   \n",
       "1534  Monsieur  Zommerfelds Christian Georges    Congé     203457   \n",
       "2626  Monsieur  Zommerfelds Christian Georges  Présent     203457   \n",
       "1366  Monsieur  Zommerfelds Christian Georges  Présent     203457   \n",
       "936   Monsieur              Zotos Panteleimon  Présent     183628   \n",
       "2691  Monsieur              Zotos Panteleimon  Présent     183628   \n",
       "877   Monsieur                Zoveralli Marco  Présent     267476   \n",
       "414   Monsieur                Zufferey Damien  Présent     166264   \n",
       "2149  Monsieur                Zufferey Damien  Présent     166264   \n",
       "1699  Monsieur                Zufferey Damien  Présent     166264   \n",
       "937   Monsieur                   Züger Walter    Congé     171042   \n",
       "2692  Monsieur                   Züger Walter    Congé     171042   \n",
       "187   Monsieur                Zürn Christophe    Congé     178942   \n",
       "1862  Monsieur                Zürn Christophe    Congé     178942   \n",
       "1453  Monsieur                Zürn Christophe  Présent     178942   \n",
       "2475  Monsieur                Zürn Christophe    Stage     178942   \n",
       "1209  Monsieur                Zürn Christophe  Présent     178942   \n",
       "769   Monsieur     del Marmol Syméon Marie J.  Présent     273163   \n",
       "237   Monsieur           van Boetzelaer Walid    Congé     170530   \n",
       "1922  Monsieur           van Boetzelaer Walid    Congé     170530   \n",
       "1025  Monsieur           van Boetzelaer Walid  Présent     170530   \n",
       "2792  Monsieur           van Boetzelaer Walid  Présent     170530   \n",
       "176   Monsieur           van Boetzelaer Walid  Présent     170530   \n",
       "1845  Monsieur           van Boetzelaer Walid  Présent     170530   \n",
       "221   Monsieur                     Önal Cagri  Présent     191354   \n",
       "1904  Monsieur                     Önal Cagri  Présent     191354   \n",
       "1726  Monsieur                     Önal Cagri  Présent     191354   \n",
       "2767  Monsieur                     Önal Cagri    Congé     191354   \n",
       "\n",
       "     Periode academique    Periode pedagogique       Type de semestre  \n",
       "240           2013-2014      Master semestre 1     Semestre d'automne  \n",
       "1925          2013-2014      Master semestre 2  Semestre de printemps  \n",
       "1454          2014-2015      Master semestre 3     Semestre d'automne  \n",
       "938           2010-2011      Master semestre 1     Semestre d'automne  \n",
       "2693          2010-2011      Master semestre 2  Semestre de printemps  \n",
       "1034          2011-2012      Master semestre 3     Semestre d'automne  \n",
       "1740          2011-2012      Master semestre 2  Semestre de printemps  \n",
       "415           2015-2016      Master semestre 1     Semestre d'automne  \n",
       "2150          2015-2016      Master semestre 2  Semestre de printemps  \n",
       "1535          2016-2017      Master semestre 3     Semestre d'automne  \n",
       "740           2016-2017      Master semestre 1     Semestre d'automne  \n",
       "739           2016-2017      Master semestre 1     Semestre d'automne  \n",
       "344           2007-2008      Master semestre 1     Semestre d'automne  \n",
       "2063          2007-2008      Master semestre 2  Semestre de printemps  \n",
       "1652          2008-2009      Master semestre 3     Semestre d'automne  \n",
       "2629          2008-2009      Master semestre 2  Semestre de printemps  \n",
       "1101          2009-2010      Master semestre 3     Semestre d'automne  \n",
       "1863          2009-2010      Master semestre 2  Semestre de printemps  \n",
       "416           2015-2016      Master semestre 1     Semestre d'automne  \n",
       "2151          2015-2016      Master semestre 2  Semestre de printemps  \n",
       "1536          2016-2017      Master semestre 3     Semestre d'automne  \n",
       "741           2016-2017      Master semestre 1     Semestre d'automne  \n",
       "345           2007-2008      Master semestre 1     Semestre d'automne  \n",
       "2064          2007-2008      Master semestre 2  Semestre de printemps  \n",
       "79            2008-2009  Projet Master automne     Semestre d'automne  \n",
       "241           2013-2014      Master semestre 1     Semestre d'automne  \n",
       "1926          2013-2014      Master semestre 2  Semestre de printemps  \n",
       "1455          2014-2015      Master semestre 3     Semestre d'automne  \n",
       "742           2016-2017      Master semestre 1     Semestre d'automne  \n",
       "743           2016-2017      Master semestre 1     Semestre d'automne  \n",
       "...                 ...                    ...                    ...  \n",
       "2474          2012-2013      Master semestre 2  Semestre de printemps  \n",
       "343           2013-2014      Master semestre 1     Semestre d'automne  \n",
       "2062          2013-2014      Master semestre 2  Semestre de printemps  \n",
       "1534          2014-2015      Master semestre 3     Semestre d'automne  \n",
       "2626          2014-2015      Master semestre 2  Semestre de printemps  \n",
       "1366          2015-2016      Master semestre 3     Semestre d'automne  \n",
       "936           2008-2009      Master semestre 1     Semestre d'automne  \n",
       "2691          2008-2009      Master semestre 2  Semestre de printemps  \n",
       "877           2016-2017      Master semestre 1     Semestre d'automne  \n",
       "414           2007-2008      Master semestre 1     Semestre d'automne  \n",
       "2149          2007-2008      Master semestre 2  Semestre de printemps  \n",
       "1699          2008-2009      Master semestre 3     Semestre d'automne  \n",
       "937           2008-2009      Master semestre 1     Semestre d'automne  \n",
       "2692          2008-2009      Master semestre 2  Semestre de printemps  \n",
       "187           2011-2012      Master semestre 1     Semestre d'automne  \n",
       "1862          2011-2012      Master semestre 2  Semestre de printemps  \n",
       "1453          2012-2013      Master semestre 3     Semestre d'automne  \n",
       "2475          2012-2013      Master semestre 2  Semestre de printemps  \n",
       "1209          2013-2014      Master semestre 3     Semestre d'automne  \n",
       "769           2016-2017      Master semestre 1     Semestre d'automne  \n",
       "237           2009-2010      Master semestre 1     Semestre d'automne  \n",
       "1922          2009-2010      Master semestre 2  Semestre de printemps  \n",
       "1025          2010-2011      Master semestre 1     Semestre d'automne  \n",
       "2792          2010-2011      Master semestre 2  Semestre de printemps  \n",
       "176           2011-2012      Master semestre 1     Semestre d'automne  \n",
       "1845          2011-2012      Master semestre 2  Semestre de printemps  \n",
       "221           2009-2010      Master semestre 1     Semestre d'automne  \n",
       "1904          2009-2010      Master semestre 2  Semestre de printemps  \n",
       "1726          2010-2011      Master semestre 3     Semestre d'automne  \n",
       "2767          2010-2011      Master semestre 2  Semestre de printemps  \n",
       "\n",
       "[2844 rows x 7 columns]"
      ]
     },
     "execution_count": 90,
     "metadata": {},
     "output_type": "execute_result"
    }
   ],
   "source": [
    "# DataFrame with all the students ordered by timeline, this is to see each student's enrollment history.\n",
    "df_masters.sort_values(by=['Nom Prénom', 'Periode academique', 'Type de semestre']).dropna(axis=1)"
   ]
  },
  {
   "cell_type": "code",
   "execution_count": 121,
   "metadata": {
    "collapsed": false,
    "scrolled": false
   },
   "outputs": [
    {
     "data": {
      "text/plain": [
       "Periode pedagogique\n",
       "Master semestre 1           948\n",
       "Master semestre 2          1062\n",
       "Master semestre 3           706\n",
       "Projet Master automne        86\n",
       "Projet Master printemps      42\n",
       "Name: Nom Prénom, dtype: int64"
      ]
     },
     "execution_count": 121,
     "metadata": {},
     "output_type": "execute_result"
    }
   ],
   "source": [
    "# Examining the number of students in each group\n",
    "df_masters.groupby('Periode pedagogique').count()['Nom Prénom']"
   ]
  },
  {
   "cell_type": "markdown",
   "metadata": {},
   "source": [
    "# B. Extracting information from DataFrame\n",
    "1. Assumptions and demonstrating them\n",
    "2. Calculating length of stay of each student\n",
    "3. Statistical test of difference"
   ]
  },
  {
   "cell_type": "markdown",
   "metadata": {},
   "source": [
    "## B1. Assumptions\n",
    "1. We will include students that have started in 2016-2017, and ended in 2007-2008, even though we do not have complete data. Thus, Master's student's length will be shortened. However, since this shift applies to all specialization and gender, we keep this. This gives us more data, thus more possibilities for statistical significance.\n",
    "2. If mineur is not empty, the student is also registered in Semester 3. I have tested this assumption (see following cell)\n",
    "3. Everyone does a master's thesis (it is mandatory) http://ic.epfl.ch/computer-science/study-plan_master. There are values in the table, but only 58 values in 2016-2017, while around 2 in others. Since it is mandatory for everyone, I will add 6 months to the length of the Master's degree and ignore the table values."
   ]
  },
  {
   "cell_type": "code",
   "execution_count": 122,
   "metadata": {
    "collapsed": true
   },
   "outputs": [],
   "source": [
    "df_minors = df_masters[df_masters.Mineur.notnull() & (df_masters['Periode academique'] != '2016-2017')].dropna(axis=1)\n",
    "df_minors = df_masters[df_masters.Mineur.notnull() &\n",
    "                       (df_masters['Periode academique'] != '2016-2017')\n",
    "                      ].dropna(axis=1)\n",
    "df_minors_sem3 = df_masters[df_masters.Mineur.notnull() &\n",
    "                       (df_masters['Periode academique'] != '2016-2017') &\n",
    "                       (df_masters['Periode pedagogique'] == 'Master semestre 3')\n",
    "                      ].dropna(axis=1)"
   ]
  },
  {
   "cell_type": "code",
   "execution_count": 123,
   "metadata": {
    "collapsed": false,
    "scrolled": false
   },
   "outputs": [
    {
     "name": "stdout",
     "output_type": "stream",
     "text": [
      "Num of students with minor: 81\n",
      "Num of students with minor and sem 3: 75\n"
     ]
    }
   ],
   "source": [
    "print('Num of students with minor:', df_minors['Nom Prénom'].unique().shape[0])\n",
    "print('Num of students with minor and sem 3:', df_minors_sem3.shape[0])"
   ]
  },
  {
   "cell_type": "markdown",
   "metadata": {},
   "source": [
    "## B2. Average Stay of Student\n",
    "\n",
    "Find the time elapsed between last term (Master's 2 or 3) to first term(Master's 1), excluding Master's thesis. Then add 6 months for Master's Thesis.\n",
    "\n",
    "Produce the DataFrame that contains name, gender, first term's year, first term's semester, spécialisation, last term's year, last term's semester, time elapsed. The result is stored in df_dur."
   ]
  },
  {
   "cell_type": "code",
   "execution_count": 124,
   "metadata": {
    "collapsed": false
   },
   "outputs": [],
   "source": [
    "df = df_masters"
   ]
  },
  {
   "cell_type": "code",
   "execution_count": 133,
   "metadata": {
    "collapsed": false,
    "scrolled": true
   },
   "outputs": [],
   "source": [
    "df = df[df['Periode pedagogique'].isin(['Master semestre 1','Master semestre 2', 'Master semestre 3'])].sort_values(by=['Nom Prénom', 'Periode academique', 'Type de semestre'])"
   ]
  },
  {
   "cell_type": "code",
   "execution_count": 134,
   "metadata": {
    "collapsed": false,
    "scrolled": false
   },
   "outputs": [],
   "source": [
    "# extracting year and semester\n",
    "df['year'] = df['Periode academique'].str[0:4].astype(int)\n",
    "df['semester'] = np.where(df['Type de semestre'] == \"Semestre d'automne\", 0,1)\n",
    "df = df[df['Periode pedagogique'].isin(['Master semestre 1','Master semestre 2', 'Master semestre 3'])].sort_values(by=['Nom Prénom', 'Periode academique', 'Type de semestre'])"
   ]
  },
  {
   "cell_type": "code",
   "execution_count": 135,
   "metadata": {
    "collapsed": false
   },
   "outputs": [],
   "source": [
    "# orgnaization\n",
    "\n",
    "#First master semester df\n",
    "first_row = df.groupby('Nom Prénom').first()\n",
    "first_row.rename(columns={'year':'first_year', 'semester':'first_semester'}, inplace=True)\n",
    "first_row = first_row[['Civilité','first_year','first_semester','Spécialisation']]\n",
    "first_row.reset_index(inplace=True)\n",
    "\n",
    "#Last master semester df\n",
    "last_row = df.groupby('Nom Prénom').last()\n",
    "last_row.rename(columns={'year':'last_year', 'semester':'last_semester'}, inplace=True)\n",
    "last_row = last_row[['Civilité','last_year','last_semester','Spécialisation']]\n",
    "last_row.reset_index(inplace=True)"
   ]
  },
  {
   "cell_type": "code",
   "execution_count": 139,
   "metadata": {
    "collapsed": false,
    "scrolled": true
   },
   "outputs": [],
   "source": [
    "# df_dur is the DataFrame with all the necessary information, combining gender, along with the average stay\n",
    "df_dur = first_row.merge(last_row)"
   ]
  },
  {
   "cell_type": "markdown",
   "metadata": {},
   "source": [
    "We calculate the duration in terms of number of months, assuming one semester is 6 months.\n",
    "+ Duration = (Number of years) + (Adjusting for whether the first and last semester is autumn or spring) + (Time for masters thesis)\n",
    "+ Number of years = (last year - first year)*12\n",
    "+ Adjustment = (last_semester - first_semester + 1)*6, (last_semester and first_semester are as defined in the above cell)\n",
    "+ Theses = 6\n"
   ]
  },
  {
   "cell_type": "code",
   "execution_count": 140,
   "metadata": {
    "collapsed": false
   },
   "outputs": [],
   "source": [
    "df_dur['Duration in Months'] = (df_dur['last_year'] - df_dur['first_year'])*12 + (df_dur['last_semester'] - df_dur['first_semester'] + 1)*6 + 6 "
   ]
  },
  {
   "cell_type": "code",
   "execution_count": 141,
   "metadata": {
    "collapsed": false,
    "scrolled": true
   },
   "outputs": [
    {
     "data": {
      "text/html": [
       "<div>\n",
       "<table border=\"1\" class=\"dataframe\">\n",
       "  <thead>\n",
       "    <tr style=\"text-align: right;\">\n",
       "      <th></th>\n",
       "      <th>Nom Prénom</th>\n",
       "      <th>Civilité</th>\n",
       "      <th>first_year</th>\n",
       "      <th>first_semester</th>\n",
       "      <th>Spécialisation</th>\n",
       "      <th>last_year</th>\n",
       "      <th>last_semester</th>\n",
       "      <th>Duration in Months</th>\n",
       "    </tr>\n",
       "  </thead>\n",
       "  <tbody>\n",
       "    <tr>\n",
       "      <th>0</th>\n",
       "      <td>Abbadi Hajar</td>\n",
       "      <td>Madame</td>\n",
       "      <td>2013</td>\n",
       "      <td>0</td>\n",
       "      <td>NaN</td>\n",
       "      <td>2014</td>\n",
       "      <td>0</td>\n",
       "      <td>24</td>\n",
       "    </tr>\n",
       "    <tr>\n",
       "      <th>1</th>\n",
       "      <td>Abelenda Diego</td>\n",
       "      <td>Monsieur</td>\n",
       "      <td>2010</td>\n",
       "      <td>0</td>\n",
       "      <td>Signals, Images and Interfaces</td>\n",
       "      <td>2011</td>\n",
       "      <td>1</td>\n",
       "      <td>30</td>\n",
       "    </tr>\n",
       "    <tr>\n",
       "      <th>2</th>\n",
       "      <td>Abi Akar Nora</td>\n",
       "      <td>Madame</td>\n",
       "      <td>2015</td>\n",
       "      <td>0</td>\n",
       "      <td>NaN</td>\n",
       "      <td>2016</td>\n",
       "      <td>0</td>\n",
       "      <td>24</td>\n",
       "    </tr>\n",
       "    <tr>\n",
       "      <th>3</th>\n",
       "      <td>Adamsons Valdis</td>\n",
       "      <td>Monsieur</td>\n",
       "      <td>2016</td>\n",
       "      <td>0</td>\n",
       "      <td>NaN</td>\n",
       "      <td>2016</td>\n",
       "      <td>0</td>\n",
       "      <td>12</td>\n",
       "    </tr>\n",
       "    <tr>\n",
       "      <th>4</th>\n",
       "      <td>Adams Marc Alain</td>\n",
       "      <td>Monsieur</td>\n",
       "      <td>2016</td>\n",
       "      <td>0</td>\n",
       "      <td>NaN</td>\n",
       "      <td>2016</td>\n",
       "      <td>0</td>\n",
       "      <td>12</td>\n",
       "    </tr>\n",
       "  </tbody>\n",
       "</table>\n",
       "</div>"
      ],
      "text/plain": [
       "         Nom Prénom  Civilité  first_year  first_semester  \\\n",
       "0      Abbadi Hajar    Madame        2013               0   \n",
       "1    Abelenda Diego  Monsieur        2010               0   \n",
       "2     Abi Akar Nora    Madame        2015               0   \n",
       "3   Adamsons Valdis  Monsieur        2016               0   \n",
       "4  Adams Marc Alain  Monsieur        2016               0   \n",
       "\n",
       "                   Spécialisation  last_year  last_semester  \\\n",
       "0                             NaN       2014              0   \n",
       "1  Signals, Images and Interfaces       2011              1   \n",
       "2                             NaN       2016              0   \n",
       "3                             NaN       2016              0   \n",
       "4                             NaN       2016              0   \n",
       "\n",
       "   Duration in Months  \n",
       "0                  24  \n",
       "1                  30  \n",
       "2                  24  \n",
       "3                  12  \n",
       "4                  12  "
      ]
     },
     "execution_count": 141,
     "metadata": {},
     "output_type": "execute_result"
    }
   ],
   "source": [
    "df_dur.head()"
   ]
  },
  {
   "cell_type": "code",
   "execution_count": 157,
   "metadata": {
    "collapsed": false
   },
   "outputs": [
    {
     "data": {
      "text/plain": [
       "<matplotlib.axes._subplots.AxesSubplot at 0x7f6171866470>"
      ]
     },
     "execution_count": 157,
     "metadata": {},
     "output_type": "execute_result"
    },
    {
     "data": {
      "image/png": "[encoded data removed]",
      "text/plain": [
       "<matplotlib.figure.Figure at 0x7f617186ccf8>"
      ]
     },
     "metadata": {},
     "output_type": "display_data"
    }
   ],
   "source": [
    "import matplotlib.pyplot as plt\n",
    "import matplotlib\n",
    "matplotlib.style.use('ggplot')\n",
    "%matplotlib inline\n",
    "\n",
    "df_dur['Duration in Months'].hist(bins = 15, range=[10, 40])"
   ]
  },
  {
   "cell_type": "markdown",
   "metadata": {},
   "source": [
    "## B3. Statistical Tests\n",
    "\n",
    "Extract all the students with a Spécialisation and compute the \"average stay\" per each category of that attribute.\n",
    "\n",
    "Compare the general average with each specialization, and find statistically significant average difference."
   ]
  },
  {
   "cell_type": "markdown",
   "metadata": {},
   "source": [
    "### Null Hypotheses:\n",
    "\n",
    "There is no difference between the average stay at EPFL between all students in Informatique and students in specialization_X, where specialization_X is one of specialization in spec_list."
   ]
  },
  {
   "cell_type": "code",
   "execution_count": 142,
   "metadata": {
    "collapsed": false
   },
   "outputs": [
    {
     "data": {
      "text/plain": [
       "array([nan, 'Signals, Images and Interfaces', 'Internet computing',\n",
       "       'Internet Information Systems', 'Foundations of Software',\n",
       "       'Information Security - SP', 'Software Systems', 'Biocomputing',\n",
       "       'Computer Engineering - SP', 'Data Analytics', 'Service science',\n",
       "       'Computer Science Theory'], dtype=object)"
      ]
     },
     "execution_count": 142,
     "metadata": {},
     "output_type": "execute_result"
    }
   ],
   "source": [
    "spec_list = df_dur['Spécialisation'].unique()\n",
    "spec_list # list of specializations"
   ]
  },
  {
   "cell_type": "code",
   "execution_count": 143,
   "metadata": {
    "collapsed": false
   },
   "outputs": [],
   "source": [
    "# a list of all the duration for all the specialization, held in series.\n",
    "spec_series_list = [] # list of series\n",
    "for specialization in spec_list:\n",
    "    spec_series_list.append(df_dur['Duration in Months'][df_dur['Spécialisation'] == specialization])"
   ]
  },
  {
   "cell_type": "code",
   "execution_count": 144,
   "metadata": {
    "collapsed": false
   },
   "outputs": [
    {
     "data": {
      "text/plain": [
       "22.70236869207003"
      ]
     },
     "execution_count": 144,
     "metadata": {},
     "output_type": "execute_result"
    }
   ],
   "source": [
    "# the series with the average stay of all students\n",
    "spec_general = df_dur['Duration in Months']\n",
    "spec_general.mean() # mean of average stay of all students in Informatique"
   ]
  },
  {
   "cell_type": "markdown",
   "metadata": {},
   "source": [
    "### P values of each specialization\n",
    "Whether there is a significant difference between each specialization and general. We use the same test we used for the bachelors part."
   ]
  },
  {
   "cell_type": "code",
   "execution_count": 158,
   "metadata": {
    "collapsed": false,
    "scrolled": true
   },
   "outputs": [
    {
     "name": "stdout",
     "output_type": "stream",
     "text": [
      "nan : Ttest_indResult(statistic=nan, pvalue=nan) \n",
      "\n",
      "Signals, Images and Interfaces : Ttest_indResult(statistic=2.4341566990844106, pvalue=0.019683226653819778) \n",
      "\n",
      "Internet computing : Ttest_indResult(statistic=5.2250932188177099, pvalue=6.8201547995532931e-07) \n",
      "\n",
      "Internet Information Systems : Ttest_indResult(statistic=nan, pvalue=nan) \n",
      "\n",
      "Foundations of Software : Ttest_indResult(statistic=5.180365920874058, pvalue=1.7179068131919869e-06) \n",
      "\n",
      "Information Security - SP : Ttest_indResult(statistic=2.6601879741282644, pvalue=0.034392493329394445) \n",
      "\n",
      "Software Systems : Ttest_indResult(statistic=1.5162351278301907, pvalue=0.14661272099207276) \n",
      "\n",
      "Biocomputing : Ttest_indResult(statistic=-1.5449946953694298, pvalue=0.15018581715836868) \n",
      "\n",
      "Computer Engineering - SP : Ttest_indResult(statistic=3.0015067299349298, pvalue=0.0064402924337378471) \n",
      "\n",
      "Data Analytics : Ttest_indResult(statistic=-1.3767639508146383, pvalue=0.21661211458894009) \n",
      "\n",
      "Service science : Ttest_indResult(statistic=1.6371048709331744, pvalue=0.23978558385303633) \n",
      "\n",
      "Computer Science Theory : Ttest_indResult(statistic=nan, pvalue=nan) \n",
      "\n"
     ]
    },
    {
     "name": "stderr",
     "output_type": "stream",
     "text": [
      "/home/kirtan/anaconda3/lib/python3.5/site-packages/numpy/core/_methods.py:82: RuntimeWarning: Degrees of freedom <= 0 for slice\n",
      "  warnings.warn(\"Degrees of freedom <= 0 for slice\", RuntimeWarning)\n"
     ]
    }
   ],
   "source": [
    "for i in range(len(spec_series_list)):\n",
    "    print(spec_list[i], \":\", stats.ttest_ind(a= spec_series_list[i], b= spec_general,equal_var=False),'\\n')"
   ]
  },
  {
   "cell_type": "markdown",
   "metadata": {},
   "source": [
    "### Results\n",
    "\n",
    "The results make intuitive sense because the specializations with enough students as samples came out to be statistically significantly different. In addition, there is also a average length difference with the general student population."
   ]
  },
  {
   "cell_type": "code",
   "execution_count": 161,
   "metadata": {
    "collapsed": false,
    "scrolled": false
   },
   "outputs": [
    {
     "data": {
      "text/plain": [
       "Spécialisation\n",
       "Biocomputing                      18.500000\n",
       "Computer Engineering - SP         26.454545\n",
       "Computer Science Theory           24.000000\n",
       "Data Analytics                    19.714286\n",
       "Foundations of Software           27.441176\n",
       "Information Security - SP         25.714286\n",
       "Internet Information Systems      24.000000\n",
       "Internet computing                26.628571\n",
       "Service science                   26.000000\n",
       "Signals, Images and Interfaces    27.000000\n",
       "Software Systems                  24.666667\n",
       "Name: Duration in Months, dtype: float64"
      ]
     },
     "execution_count": 161,
     "metadata": {},
     "output_type": "execute_result"
    }
   ],
   "source": [
    "# average length of each specialization\n",
    "df_dur.groupby('Spécialisation').mean()['Duration in Months']"
   ]
  },
  {
   "cell_type": "code",
   "execution_count": 162,
   "metadata": {
    "collapsed": false,
    "scrolled": false
   },
   "outputs": [
    {
     "data": {
      "text/plain": [
       "Spécialisation\n",
       "Biocomputing                       12\n",
       "Computer Engineering - SP          22\n",
       "Computer Science Theory             1\n",
       "Data Analytics                      7\n",
       "Foundations of Software            68\n",
       "Information Security - SP           7\n",
       "Internet Information Systems        1\n",
       "Internet computing                105\n",
       "Service science                     3\n",
       "Signals, Images and Interfaces     38\n",
       "Software Systems                   18\n",
       "Name: Duration in Months, dtype: int64"
      ]
     },
     "execution_count": 162,
     "metadata": {},
     "output_type": "execute_result"
    }
   ],
   "source": [
    "# number of students of each specialization\n",
    "df_dur.groupby('Spécialisation').count()['Duration in Months']"
   ]
  },
  {
   "cell_type": "code",
   "execution_count": null,
   "metadata": {
    "collapsed": true
   },
   "outputs": [],
   "source": []
  }
 ],
 "metadata": {
  "anaconda-cloud": {},
  "kernelspec": {
   "display_name": "Python [default]",
   "language": "python",
   "name": "python3"
  },
  "language_info": {
   "codemirror_mode": {
    "name": "ipython",
    "version": 3
   },
   "file_extension": ".py",
   "mimetype": "text/x-python",
   "name": "python",
   "nbconvert_exporter": "python",
   "pygments_lexer": "ipython3",
   "version": "3.5.2"
  }
 },
 "nbformat": 4,
 "nbformat_minor": 0
}
