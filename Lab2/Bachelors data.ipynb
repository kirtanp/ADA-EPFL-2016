{
 "cells": [
  {
   "cell_type": "markdown",
   "metadata": {},
   "source": [
    "# Time taken to complete degree\n",
    "Obtain all the data for the Bachelor students, starting from 2007. Keep only the students for which you have an entry for both Bachelor semestre 1 and Bachelor semestre 6. Compute how many months it took each student to go from the first to the sixth semester. Partition the data between male and female students, and compute the average -- is the difference in average statistically significant?"
   ]
  },
  {
   "cell_type": "code",
   "execution_count": 31,
   "metadata": {
    "collapsed": true
   },
   "outputs": [],
   "source": [
    "import requests as req\n",
    "import urllib\n",
    "import pandas as pd\n",
    "from bs4 import BeautifulSoup as bes\n",
    "\n",
    "#Add the base url where the form is\n",
    "base_url = \"http://isa.epfl.ch/imoniteur_ISAP/!gedpublicreports.htm?ww_i_reportmodel=133685247\"\n",
    "full_url = \"http://isa.epfl.ch/imoniteur_ISAP/!GEDPUBLICREPORTS.filter?ww_b_list=1&ww_i_reportmodel=133685247&ww_c_langue=&ww_i_reportModelXsl=133685270&zz_x_UNITE_ACAD=&ww_x_UNITE_ACAD=249847&zz_x_PERIODE_ACAD=&ww_x_PERIODE_ACAD=213638028&zz_x_PERIODE_PEDAGO=&ww_x_PERIODE_PEDAGO=249108&zz_x_HIVERETE=&ww_x_HIVERETE=2936286&dummy=ok\""
   ]
  },
  {
   "cell_type": "markdown",
   "metadata": {},
   "source": [
    "Applying the filters to get the Bachelor semester 1 in informatique in 2015-16 gives the following url: \n",
    "```\n",
    "http://isa.epfl.ch/imoniteur_ISAP/!GEDPUBLICREPORTS.filter?ww_b_list=1&ww_i_reportmodel=133685247&ww_c_langue=&ww_i_reportModelXsl=133685270&zz_x_UNITE_ACAD=&ww_x_UNITE_ACAD=249847&zz_x_PERIODE_ACAD=&ww_x_PERIODE_ACAD=213638028&zz_x_PERIODE_PEDAGO=&ww_x_PERIODE_PEDAGO=249108&zz_x_HIVERETE=&ww_x_HIVERETE=2936286&dummy=ok\n",
    "```\n",
    "Feeding this url to postman interceptor gives us the following parameter values:\n",
    "```\n",
    "ww_b_list:1\n",
    "ww_i_reportmodel:133685247\n",
    "ww_c_langue:\n",
    "ww_i_reportModelXsl:133685270\n",
    "zz_x_UNITE_ACAD:\n",
    "ww_x_UNITE_ACAD:249847\n",
    "zz_x_PERIODE_ACAD:\n",
    "ww_x_PERIODE_ACAD:213638028\n",
    "zz_x_PERIODE_PEDAGO:\n",
    "ww_x_PERIODE_PEDAGO:249108\n",
    "zz_x_HIVERETE:\n",
    "ww_x_HIVERETE:2936286\n",
    "dummy:ok\n",
    "```\n",
    "We used inspect element  to get the url of the page that displays only the data table without the form. The url was as follows:\n",
    "```\n",
    "http://isa.epfl.ch/imoniteur_ISAP/!GEDPUBLICREPORTS.html?ww_x_GPS=1897032870&ww_i_reportModel=133685247&ww_i_reportModelXsl=133685270&ww_x_UNITE_ACAD=249847&ww_x_PERIODE_ACAD=213638028&ww_x_PERIODE_PEDAGO=249108&ww_x_HIVERETE=2936286\n",
    "```\n",
    "Feeding this url to postman interceptor gives us the following parameter values:\n",
    "```\n",
    "ww_x_GPS:1897032870\n",
    "ww_i_reportModel:133685247\n",
    "ww_i_reportModelXsl:133685270\n",
    "ww_x_UNITE_ACAD:249847\n",
    "ww_x_PERIODE_ACAD:213638028\n",
    "ww_x_PERIODE_PEDAGO:249108\n",
    "ww_x_HIVERETE:2936286\n",
    "```\n",
    "Looking at the HTML code, we can figure out what each of the parameters stands for:\n",
    "+ **ww_x_GPS**: There might be several lists which match our search. This specifies which list to open. giving -1 opens tous, which is all. So we set this to -1\n",
    "+ **ww_i_reportModel and ww_i_reportModelXsl**: Selecting whether to use HTML or excel. We always want to use HTML so we fix it to the values we got above in postman interceptor.\n",
    "+ **ww_x_UNITE_ACAD**: We are only considering 'Informatique' so we fix it to the value above found using interceptor, for informatique.\n",
    "+ **ww_x_PERIODE_ACAD**: We need to vary the academic period. We will get a dictionary for what value corresponds to which academic year from the HTML source using beautiful soup.\n",
    "+ **ww_x_PERIODE_PEDAGO**: We also need a dictionary for this just as we do for ww_x_PERIODE_ACAD.\n",
    "+ **ww_x_HIVERETE**: Same as above."
   ]
  },
  {
   "cell_type": "code",
   "execution_count": 26,
   "metadata": {
    "collapsed": true
   },
   "outputs": [],
   "source": [
    "ww_x_GPS = '-1'  #for 'tous'. fixed\n",
    "ww_i_reportModel = '133685247'  #fixed\n",
    "ww_i_reportModelXsl = '133685270'  #fixed to HTML\n",
    "ww_x_UNITE_ACAD = '249847'  #fixed to informatique\n"
   ]
  },
  {
   "cell_type": "markdown",
   "metadata": {},
   "source": [
    "Now we need to get the dictionaries for the required fields"
   ]
  },
  {
   "cell_type": "code",
   "execution_count": 33,
   "metadata": {
    "collapsed": false
   },
   "outputs": [],
   "source": [
    "r = req.get( full_url )\n",
    "soup = bes(r.text, 'lxml')\n",
    "#print (soup.prettify())"
   ]
  },
  {
   "cell_type": "code",
   "execution_count": 58,
   "metadata": {
    "collapsed": false
   },
   "outputs": [],
   "source": [
    "dict = {}\n",
    "for select in soup.findAll('select'):\n",
    "    name = select['name'].strip()\n",
    "    dict[name] = {}\n",
    "    for option in select.findAll('option'):\n",
    "        #print( option.string, option['value'])\n",
    "        if(option['value'] != 'null'):\n",
    "            strng = option.string.strip()\n",
    "            dict[name][strng] = option['value'].strip()"
   ]
  },
  {
   "cell_type": "code",
   "execution_count": 59,
   "metadata": {
    "collapsed": false
   },
   "outputs": [
    {
     "data": {
      "text/plain": [
       "{'ww_x_HIVERETE': {\"Semestre d'automne\": '2936286',\n",
       "  'Semestre de printemps': '2936295'},\n",
       " 'ww_x_PERIODE_ACAD': {'2007-2008': '978181',\n",
       "  '2008-2009': '978187',\n",
       "  '2009-2010': '978195',\n",
       "  '2010-2011': '39486325',\n",
       "  '2011-2012': '123455150',\n",
       "  '2012-2013': '123456101',\n",
       "  '2013-2014': '213637754',\n",
       "  '2014-2015': '213637922',\n",
       "  '2015-2016': '213638028',\n",
       "  '2016-2017': '355925344'},\n",
       " 'ww_x_PERIODE_PEDAGO': {'Bachelor semestre 1': '249108',\n",
       "  'Bachelor semestre 2': '249114',\n",
       "  'Bachelor semestre 3': '942155',\n",
       "  'Bachelor semestre 4': '942163',\n",
       "  'Bachelor semestre 5': '942120',\n",
       "  'Bachelor semestre 5b': '2226768',\n",
       "  'Bachelor semestre 6': '942175',\n",
       "  'Bachelor semestre 6b': '2226785',\n",
       "  'Master semestre 1': '2230106',\n",
       "  'Master semestre 2': '942192',\n",
       "  'Master semestre 3': '2230128',\n",
       "  'Master semestre 4': '2230140',\n",
       "  'Mineur semestre 1': '2335667',\n",
       "  'Mineur semestre 2': '2335676',\n",
       "  'Mise à niveau': '2063602308',\n",
       "  'Projet Master automne': '249127',\n",
       "  'Projet Master printemps': '3781783',\n",
       "  'Semestre automne': '953159',\n",
       "  'Semestre printemps': '2754553',\n",
       "  'Stage automne 3ème année': '953137',\n",
       "  'Stage automne 4ème année': '2226616',\n",
       "  'Stage printemps 3ème année': '983606',\n",
       "  'Stage printemps 4ème année': '2226626',\n",
       "  'Stage printemps master': '2227132'},\n",
       " 'ww_x_UNITE_ACAD': {'Architecture': '942293',\n",
       "  'Chimie et génie chimique': '246696',\n",
       "  'Cours de mathématiques spéciales': '943282',\n",
       "  'EME (EPFL Middle East)': '637841336',\n",
       "  'Génie civil': '942623',\n",
       "  'Génie mécanique': '944263',\n",
       "  'Génie électrique et électronique': '943936',\n",
       "  'Humanités digitales': '2054839157',\n",
       "  'Informatique': '249847',\n",
       "  'Ingénierie financière': '120623110',\n",
       "  'Management de la technologie': '946882',\n",
       "  'Mathématiques': '944590',\n",
       "  'Microtechnique': '945244',\n",
       "  'Physique': '945571',\n",
       "  'Science et génie des matériaux': '944917',\n",
       "  \"Sciences et ingénierie de l'environnement\": '942953',\n",
       "  'Sciences et technologies du vivant': '945901',\n",
       "  'Section FCUE': '1574548993',\n",
       "  'Systèmes de communication': '946228'}}"
      ]
     },
     "execution_count": 59,
     "metadata": {},
     "output_type": "execute_result"
    }
   ],
   "source": [
    "dict"
   ]
  },
  {
   "cell_type": "code",
   "execution_count": null,
   "metadata": {
    "collapsed": true
   },
   "outputs": [],
   "source": []
  }
 ],
 "metadata": {
  "anaconda-cloud": {},
  "kernelspec": {
   "display_name": "Python [default]",
   "language": "python",
   "name": "python3"
  },
  "language_info": {
   "codemirror_mode": {
    "name": "ipython",
    "version": 3
   },
   "file_extension": ".py",
   "mimetype": "text/x-python",
   "name": "python",
   "nbconvert_exporter": "python",
   "pygments_lexer": "ipython3",
   "version": "3.5.2"
  }
 },
 "nbformat": 4,
 "nbformat_minor": 1
}
