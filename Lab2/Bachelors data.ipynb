{
 "cells": [
  {
   "cell_type": "markdown",
   "metadata": {},
   "source": [
    "# Time taken to complete degree\n",
    "Obtain all the data for the Bachelor students, starting from 2007. Keep only the students for which you have an entry for both Bachelor semestre 1 and Bachelor semestre 6. Compute how many months it took each student to go from the first to the sixth semester. Partition the data between male and female students, and compute the average -- is the difference in average statistically significant?"
   ]
  },
  {
   "cell_type": "code",
   "execution_count": 2,
   "metadata": {
    "collapsed": true
   },
   "outputs": [],
   "source": [
    "import requests as req\n",
    "import pandas as pd\n",
    "from bs4 import BeautifulSoup as bs\n",
    "\n",
    "#Add the base url where the form is\n",
    "base_url = \"http://isa.epfl.ch/imoniteur_ISAP/!gedpublicreports.htm?ww_i_reportmodel=133685247\""
   ]
  },
  {
   "cell_type": "markdown",
   "metadata": {},
   "source": [
    "Applying the filters to get the Bachelor semester 1 in informatique in 2015-16 gives the following url: \n",
    "```\n",
    "http://isa.epfl.ch/imoniteur_ISAP/!GEDPUBLICREPORTS.filter?ww_b_list=1&ww_i_reportmodel=133685247&ww_c_langue=&ww_i_reportModelXsl=133685270&zz_x_UNITE_ACAD=&ww_x_UNITE_ACAD=249847&zz_x_PERIODE_ACAD=&ww_x_PERIODE_ACAD=213638028&zz_x_PERIODE_PEDAGO=&ww_x_PERIODE_PEDAGO=249108&zz_x_HIVERETE=&ww_x_HIVERETE=2936286&dummy=ok\n",
    "```\n",
    "Feeding this url to postman interceptor gives us the following parameter values:\n",
    "```\n",
    "ww_b_list:1\n",
    "ww_i_reportmodel:133685247\n",
    "ww_c_langue:\n",
    "ww_i_reportModelXsl:133685270\n",
    "zz_x_UNITE_ACAD:\n",
    "ww_x_UNITE_ACAD:249847\n",
    "zz_x_PERIODE_ACAD:\n",
    "ww_x_PERIODE_ACAD:213638028\n",
    "zz_x_PERIODE_PEDAGO:\n",
    "ww_x_PERIODE_PEDAGO:249108\n",
    "zz_x_HIVERETE:\n",
    "ww_x_HIVERETE:2936286\n",
    "dummy:ok\n",
    "```\n",
    "We used inspect element  to get the url of the page that displays only the data table without the form. The url was as follows:\n",
    "```\n",
    "http://isa.epfl.ch/imoniteur_ISAP/!GEDPUBLICREPORTS.html?ww_x_GPS=1897032870&ww_i_reportModel=133685247&ww_i_reportModelXsl=133685270&ww_x_UNITE_ACAD=249847&ww_x_PERIODE_ACAD=213638028&ww_x_PERIODE_PEDAGO=249108&ww_x_HIVERETE=2936286\n",
    "```\n",
    "Feeding this url to postman interceptor gives us the following parameter values:\n",
    "```\n",
    "ww_x_GPS:1897032870\n",
    "ww_i_reportModel:133685247\n",
    "ww_i_reportModelXsl:133685270\n",
    "ww_x_UNITE_ACAD:249847\n",
    "ww_x_PERIODE_ACAD:213638028\n",
    "ww_x_PERIODE_PEDAGO:249108\n",
    "ww_x_HIVERETE:2936286\n",
    "```\n",
    "Looking at the HTML code, we can figure out what each of the parameters stans for:\n",
    "**ww_x_GPS**: "
   ]
  },
  {
   "cell_type": "code",
   "execution_count": null,
   "metadata": {
    "collapsed": true
   },
   "outputs": [],
   "source": []
  }
 ],
 "metadata": {
  "anaconda-cloud": {},
  "kernelspec": {
   "display_name": "Python [default]",
   "language": "python",
   "name": "python3"
  },
  "language_info": {
   "codemirror_mode": {
    "name": "ipython",
    "version": 3
   },
   "file_extension": ".py",
   "mimetype": "text/x-python",
   "name": "python",
   "nbconvert_exporter": "python",
   "pygments_lexer": "ipython3",
   "version": "3.5.2"
  }
 },
 "nbformat": 4,
 "nbformat_minor": 1
}
