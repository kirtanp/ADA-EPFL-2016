{
 "cells": [
  {
   "cell_type": "markdown",
   "metadata": {},
   "source": [
    "## Part 2"
   ]
  },
  {
   "cell_type": "code",
   "execution_count": 208,
   "metadata": {
    "collapsed": false
   },
   "outputs": [],
   "source": [
    "import pandas as pd\n",
    "import nltk\n",
    "from nltk.corpus import stopwords\n",
    "from nltk.tokenize import *\n",
    "import matplotlib.pyplot as plt\n",
    "import pycountry\n",
    "from nltk.sentiment import SentimentAnalyzer\n",
    "from nltk.sentiment.util import *\n",
    "import numpy as np\n",
    "import matplotlib.pyplot as plt\n",
    "from matplotlib import cm\n",
    "import pickle\n",
    "%matplotlib inline"
   ]
  },
  {
   "cell_type": "markdown",
   "metadata": {},
   "source": [
    "Getting the texts of the emails"
   ]
  },
  {
   "cell_type": "code",
   "execution_count": 8,
   "metadata": {
    "collapsed": true
   },
   "outputs": [],
   "source": [
    "#First let's read the csv and get a DataFrame of the emails\n",
    "emails_df= pd.read_csv('hillary-clinton-emails/Emails.csv')"
   ]
  },
  {
   "cell_type": "code",
   "execution_count": 9,
   "metadata": {
    "collapsed": false
   },
   "outputs": [
    {
     "data": {
      "text/html": [
       "<div>\n",
       "<table border=\"1\" class=\"dataframe\">\n",
       "  <thead>\n",
       "    <tr style=\"text-align: right;\">\n",
       "      <th></th>\n",
       "      <th>Id</th>\n",
       "      <th>DocNumber</th>\n",
       "      <th>MetadataSubject</th>\n",
       "      <th>MetadataTo</th>\n",
       "      <th>MetadataFrom</th>\n",
       "      <th>SenderPersonId</th>\n",
       "      <th>MetadataDateSent</th>\n",
       "      <th>MetadataDateReleased</th>\n",
       "      <th>MetadataPdfLink</th>\n",
       "      <th>MetadataCaseNumber</th>\n",
       "      <th>...</th>\n",
       "      <th>ExtractedTo</th>\n",
       "      <th>ExtractedFrom</th>\n",
       "      <th>ExtractedCc</th>\n",
       "      <th>ExtractedDateSent</th>\n",
       "      <th>ExtractedCaseNumber</th>\n",
       "      <th>ExtractedDocNumber</th>\n",
       "      <th>ExtractedDateReleased</th>\n",
       "      <th>ExtractedReleaseInPartOrFull</th>\n",
       "      <th>ExtractedBodyText</th>\n",
       "      <th>RawText</th>\n",
       "    </tr>\n",
       "  </thead>\n",
       "  <tbody>\n",
       "    <tr>\n",
       "      <th>0</th>\n",
       "      <td>1</td>\n",
       "      <td>C05739545</td>\n",
       "      <td>WOW</td>\n",
       "      <td>H</td>\n",
       "      <td>Sullivan, Jacob J</td>\n",
       "      <td>87.0</td>\n",
       "      <td>2012-09-12T04:00:00+00:00</td>\n",
       "      <td>2015-05-22T04:00:00+00:00</td>\n",
       "      <td>DOCUMENTS/HRC_Email_1_296/HRCH2/DOC_0C05739545...</td>\n",
       "      <td>F-2015-04841</td>\n",
       "      <td>...</td>\n",
       "      <td>NaN</td>\n",
       "      <td>Sullivan, Jacob J &lt;Sullivan11@state.gov&gt;</td>\n",
       "      <td>NaN</td>\n",
       "      <td>Wednesday, September 12, 2012 10:16 AM</td>\n",
       "      <td>F-2015-04841</td>\n",
       "      <td>C05739545</td>\n",
       "      <td>05/13/2015</td>\n",
       "      <td>RELEASE IN FULL</td>\n",
       "      <td>NaN</td>\n",
       "      <td>UNCLASSIFIED\\nU.S. Department of State\\nCase N...</td>\n",
       "    </tr>\n",
       "    <tr>\n",
       "      <th>1</th>\n",
       "      <td>2</td>\n",
       "      <td>C05739546</td>\n",
       "      <td>H: LATEST: HOW SYRIA IS AIDING QADDAFI AND MOR...</td>\n",
       "      <td>H</td>\n",
       "      <td>NaN</td>\n",
       "      <td>NaN</td>\n",
       "      <td>2011-03-03T05:00:00+00:00</td>\n",
       "      <td>2015-05-22T04:00:00+00:00</td>\n",
       "      <td>DOCUMENTS/HRC_Email_1_296/HRCH1/DOC_0C05739546...</td>\n",
       "      <td>F-2015-04841</td>\n",
       "      <td>...</td>\n",
       "      <td>NaN</td>\n",
       "      <td>NaN</td>\n",
       "      <td>NaN</td>\n",
       "      <td>NaN</td>\n",
       "      <td>F-2015-04841</td>\n",
       "      <td>C05739546</td>\n",
       "      <td>05/13/2015</td>\n",
       "      <td>RELEASE IN PART</td>\n",
       "      <td>B6\\nThursday, March 3, 2011 9:45 PM\\nH: Latest...</td>\n",
       "      <td>UNCLASSIFIED\\nU.S. Department of State\\nCase N...</td>\n",
       "    </tr>\n",
       "    <tr>\n",
       "      <th>2</th>\n",
       "      <td>3</td>\n",
       "      <td>C05739547</td>\n",
       "      <td>CHRIS STEVENS</td>\n",
       "      <td>;H</td>\n",
       "      <td>Mills, Cheryl D</td>\n",
       "      <td>32.0</td>\n",
       "      <td>2012-09-12T04:00:00+00:00</td>\n",
       "      <td>2015-05-22T04:00:00+00:00</td>\n",
       "      <td>DOCUMENTS/HRC_Email_1_296/HRCH2/DOC_0C05739547...</td>\n",
       "      <td>F-2015-04841</td>\n",
       "      <td>...</td>\n",
       "      <td>B6</td>\n",
       "      <td>Mills, Cheryl D &lt;MillsCD@state.gov&gt;</td>\n",
       "      <td>Abedin, Huma</td>\n",
       "      <td>Wednesday, September 12, 2012 11:52 AM</td>\n",
       "      <td>F-2015-04841</td>\n",
       "      <td>C05739547</td>\n",
       "      <td>05/14/2015</td>\n",
       "      <td>RELEASE IN PART</td>\n",
       "      <td>Thx</td>\n",
       "      <td>UNCLASSIFIED\\nU.S. Department of State\\nCase N...</td>\n",
       "    </tr>\n",
       "    <tr>\n",
       "      <th>3</th>\n",
       "      <td>4</td>\n",
       "      <td>C05739550</td>\n",
       "      <td>CAIRO CONDEMNATION - FINAL</td>\n",
       "      <td>H</td>\n",
       "      <td>Mills, Cheryl D</td>\n",
       "      <td>32.0</td>\n",
       "      <td>2012-09-12T04:00:00+00:00</td>\n",
       "      <td>2015-05-22T04:00:00+00:00</td>\n",
       "      <td>DOCUMENTS/HRC_Email_1_296/HRCH2/DOC_0C05739550...</td>\n",
       "      <td>F-2015-04841</td>\n",
       "      <td>...</td>\n",
       "      <td>NaN</td>\n",
       "      <td>Mills, Cheryl D &lt;MillsCD@state.gov&gt;</td>\n",
       "      <td>Mitchell, Andrew B</td>\n",
       "      <td>Wednesday, September 12,2012 12:44 PM</td>\n",
       "      <td>F-2015-04841</td>\n",
       "      <td>C05739550</td>\n",
       "      <td>05/13/2015</td>\n",
       "      <td>RELEASE IN PART</td>\n",
       "      <td>NaN</td>\n",
       "      <td>UNCLASSIFIED\\nU.S. Department of State\\nCase N...</td>\n",
       "    </tr>\n",
       "    <tr>\n",
       "      <th>4</th>\n",
       "      <td>5</td>\n",
       "      <td>C05739554</td>\n",
       "      <td>H: LATEST: HOW SYRIA IS AIDING QADDAFI AND MOR...</td>\n",
       "      <td>Abedin, Huma</td>\n",
       "      <td>H</td>\n",
       "      <td>80.0</td>\n",
       "      <td>2011-03-11T05:00:00+00:00</td>\n",
       "      <td>2015-05-22T04:00:00+00:00</td>\n",
       "      <td>DOCUMENTS/HRC_Email_1_296/HRCH1/DOC_0C05739554...</td>\n",
       "      <td>F-2015-04841</td>\n",
       "      <td>...</td>\n",
       "      <td>NaN</td>\n",
       "      <td>NaN</td>\n",
       "      <td>NaN</td>\n",
       "      <td>NaN</td>\n",
       "      <td>F-2015-04841</td>\n",
       "      <td>C05739554</td>\n",
       "      <td>05/13/2015</td>\n",
       "      <td>RELEASE IN PART</td>\n",
       "      <td>H &lt;hrod17@clintonemail.com&gt;\\nFriday, March 11,...</td>\n",
       "      <td>B6\\nUNCLASSIFIED\\nU.S. Department of State\\nCa...</td>\n",
       "    </tr>\n",
       "  </tbody>\n",
       "</table>\n",
       "<p>5 rows × 22 columns</p>\n",
       "</div>"
      ],
      "text/plain": [
       "   Id  DocNumber                                    MetadataSubject  \\\n",
       "0   1  C05739545                                                WOW   \n",
       "1   2  C05739546  H: LATEST: HOW SYRIA IS AIDING QADDAFI AND MOR...   \n",
       "2   3  C05739547                                      CHRIS STEVENS   \n",
       "3   4  C05739550                         CAIRO CONDEMNATION - FINAL   \n",
       "4   5  C05739554  H: LATEST: HOW SYRIA IS AIDING QADDAFI AND MOR...   \n",
       "\n",
       "     MetadataTo       MetadataFrom  SenderPersonId           MetadataDateSent  \\\n",
       "0             H  Sullivan, Jacob J            87.0  2012-09-12T04:00:00+00:00   \n",
       "1             H                NaN             NaN  2011-03-03T05:00:00+00:00   \n",
       "2            ;H    Mills, Cheryl D            32.0  2012-09-12T04:00:00+00:00   \n",
       "3             H    Mills, Cheryl D            32.0  2012-09-12T04:00:00+00:00   \n",
       "4  Abedin, Huma                  H            80.0  2011-03-11T05:00:00+00:00   \n",
       "\n",
       "        MetadataDateReleased  \\\n",
       "0  2015-05-22T04:00:00+00:00   \n",
       "1  2015-05-22T04:00:00+00:00   \n",
       "2  2015-05-22T04:00:00+00:00   \n",
       "3  2015-05-22T04:00:00+00:00   \n",
       "4  2015-05-22T04:00:00+00:00   \n",
       "\n",
       "                                     MetadataPdfLink MetadataCaseNumber  \\\n",
       "0  DOCUMENTS/HRC_Email_1_296/HRCH2/DOC_0C05739545...       F-2015-04841   \n",
       "1  DOCUMENTS/HRC_Email_1_296/HRCH1/DOC_0C05739546...       F-2015-04841   \n",
       "2  DOCUMENTS/HRC_Email_1_296/HRCH2/DOC_0C05739547...       F-2015-04841   \n",
       "3  DOCUMENTS/HRC_Email_1_296/HRCH2/DOC_0C05739550...       F-2015-04841   \n",
       "4  DOCUMENTS/HRC_Email_1_296/HRCH1/DOC_0C05739554...       F-2015-04841   \n",
       "\n",
       "                         ...                         ExtractedTo  \\\n",
       "0                        ...                                 NaN   \n",
       "1                        ...                                 NaN   \n",
       "2                        ...                                  B6   \n",
       "3                        ...                                 NaN   \n",
       "4                        ...                                 NaN   \n",
       "\n",
       "                              ExtractedFrom         ExtractedCc  \\\n",
       "0  Sullivan, Jacob J <Sullivan11@state.gov>                 NaN   \n",
       "1                                       NaN                 NaN   \n",
       "2       Mills, Cheryl D <MillsCD@state.gov>        Abedin, Huma   \n",
       "3       Mills, Cheryl D <MillsCD@state.gov>  Mitchell, Andrew B   \n",
       "4                                       NaN                 NaN   \n",
       "\n",
       "                        ExtractedDateSent ExtractedCaseNumber  \\\n",
       "0  Wednesday, September 12, 2012 10:16 AM        F-2015-04841   \n",
       "1                                     NaN        F-2015-04841   \n",
       "2  Wednesday, September 12, 2012 11:52 AM        F-2015-04841   \n",
       "3   Wednesday, September 12,2012 12:44 PM        F-2015-04841   \n",
       "4                                     NaN        F-2015-04841   \n",
       "\n",
       "  ExtractedDocNumber ExtractedDateReleased ExtractedReleaseInPartOrFull  \\\n",
       "0          C05739545            05/13/2015              RELEASE IN FULL   \n",
       "1          C05739546            05/13/2015              RELEASE IN PART   \n",
       "2          C05739547            05/14/2015              RELEASE IN PART   \n",
       "3          C05739550            05/13/2015              RELEASE IN PART   \n",
       "4          C05739554            05/13/2015              RELEASE IN PART   \n",
       "\n",
       "                                   ExtractedBodyText  \\\n",
       "0                                                NaN   \n",
       "1  B6\\nThursday, March 3, 2011 9:45 PM\\nH: Latest...   \n",
       "2                                                Thx   \n",
       "3                                                NaN   \n",
       "4  H <hrod17@clintonemail.com>\\nFriday, March 11,...   \n",
       "\n",
       "                                             RawText  \n",
       "0  UNCLASSIFIED\\nU.S. Department of State\\nCase N...  \n",
       "1  UNCLASSIFIED\\nU.S. Department of State\\nCase N...  \n",
       "2  UNCLASSIFIED\\nU.S. Department of State\\nCase N...  \n",
       "3  UNCLASSIFIED\\nU.S. Department of State\\nCase N...  \n",
       "4  B6\\nUNCLASSIFIED\\nU.S. Department of State\\nCa...  \n",
       "\n",
       "[5 rows x 22 columns]"
      ]
     },
     "execution_count": 9,
     "metadata": {},
     "output_type": "execute_result"
    }
   ],
   "source": [
    "emails_df.head()"
   ]
  },
  {
   "cell_type": "markdown",
   "metadata": {},
   "source": [
    "We want to create a new dataframe with the concatenation of the email's subjectand the email's body so that we can make the sentiment analisys."
   ]
  },
  {
   "cell_type": "code",
   "execution_count": 10,
   "metadata": {
    "collapsed": false
   },
   "outputs": [
    {
     "data": {
      "text/plain": [
       "Index(['Id', 'DocNumber', 'MetadataSubject', 'MetadataTo', 'MetadataFrom',\n",
       "       'SenderPersonId', 'MetadataDateSent', 'MetadataDateReleased',\n",
       "       'MetadataPdfLink', 'MetadataCaseNumber', 'MetadataDocumentClass',\n",
       "       'ExtractedSubject', 'ExtractedTo', 'ExtractedFrom', 'ExtractedCc',\n",
       "       'ExtractedDateSent', 'ExtractedCaseNumber', 'ExtractedDocNumber',\n",
       "       'ExtractedDateReleased', 'ExtractedReleaseInPartOrFull',\n",
       "       'ExtractedBodyText', 'RawText'],\n",
       "      dtype='object')"
      ]
     },
     "execution_count": 10,
     "metadata": {},
     "output_type": "execute_result"
    }
   ],
   "source": [
    "emails_df.columns"
   ]
  },
  {
   "cell_type": "code",
   "execution_count": 11,
   "metadata": {
    "collapsed": false,
    "scrolled": true
   },
   "outputs": [
    {
     "data": {
      "text/plain": [
       "0                            FW: Wow\n",
       "1                                NaN\n",
       "2                  Re: Chris Stevens\n",
       "3    FVV: Cairo Condemnation - Final\n",
       "4                                NaN\n",
       "Name: ExtractedSubject, dtype: object"
      ]
     },
     "execution_count": 11,
     "metadata": {},
     "output_type": "execute_result"
    }
   ],
   "source": [
    "#Let's take a look at the 'ExtractedSubject' and 'ExtractedBodyText' columns\n",
    "emails_df.ExtractedSubject.head()"
   ]
  },
  {
   "cell_type": "code",
   "execution_count": 12,
   "metadata": {
    "collapsed": false,
    "scrolled": true
   },
   "outputs": [
    {
     "data": {
      "text/plain": [
       "0                                                  NaN\n",
       "1    B6\\nThursday, March 3, 2011 9:45 PM\\nH: Latest...\n",
       "2                                                  Thx\n",
       "3                                                  NaN\n",
       "4    H <hrod17@clintonemail.com>\\nFriday, March 11,...\n",
       "Name: ExtractedBodyText, dtype: object"
      ]
     },
     "execution_count": 12,
     "metadata": {},
     "output_type": "execute_result"
    }
   ],
   "source": [
    "emails_df.ExtractedBodyText.head()"
   ]
  },
  {
   "cell_type": "code",
   "execution_count": 132,
   "metadata": {
    "collapsed": false
   },
   "outputs": [
    {
     "name": "stdout",
     "output_type": "stream",
     "text": [
      "Number of NaN in ExtractedBodyText column: 1203\n",
      "Number of NaN in ExtractedSubject column: 1685\n"
     ]
    }
   ],
   "source": [
    "#We can see that there are NaN in the columns, so first we need to see if for the same row, both of the values\n",
    "#for both columns are NaN so we can discard that row.\n",
    "print(\"Number of NaN in ExtractedBodyText column: %d\" % sum(emails_df.ExtractedBodyText.isnull()))\n",
    "print(\"Number of NaN in ExtractedSubject column: %d\" % sum(emails_df.ExtractedSubject.isnull()))\n",
    "emails_test=emails_df[~(emails_df.ExtractedBodyText.isnull() & emails_df.ExtractedSubject.isnull())]\n",
    "#Because we want to concatenate both columns we are going to replace the NaN by a blank space\n",
    "#We also saw that there are new lines \"\\n\" so we also want to replace them by a blank space so that we can separate\n",
    "#the words between new lines\n",
    "emails_test=emails_test.fillna(value=\" \").replace(to_replace=\"\\n\",value=\" \",regex=True)"
   ]
  },
  {
   "cell_type": "code",
   "execution_count": 133,
   "metadata": {
    "collapsed": false,
    "scrolled": false
   },
   "outputs": [],
   "source": [
    "#After getting rid of the rows with NaN in both columns mentioned above, we can concatenate them\n",
    "email_texts=emails_test['ExtractedSubject'].str.cat(emails_test['ExtractedBodyText'], sep=' ')\n",
    "email_texts=email_texts.to_frame();"
   ]
  },
  {
   "cell_type": "code",
   "execution_count": 134,
   "metadata": {
    "collapsed": false
   },
   "outputs": [],
   "source": [
    "#We are going to process the text by deleting punctuation and numbers as well as the stop words defined by nltk\n",
    "stop_words=stopwords.words('english')+[\"re\", \"fw\", \"fwd\",'fvv']\n",
    "#Punctuation and numbers\n",
    "email_texts['tokens']=email_texts.ExtractedSubject.apply(WordPunctTokenizer().tokenize)\n",
    "email_texts['tokens']=[[word.lower() for word in email if word.isalpha()] for email in email_texts['tokens']]\n",
    "#Stop words\n",
    "email_texts['tokens']= [[word for word in email if word not in stop_words] for email in email_texts['tokens']]\n",
    "#Renaming the columns\n",
    "email_texts.columns = ['email_original_text', 'tokens'] \n"
   ]
  },
  {
   "cell_type": "code",
   "execution_count": 135,
   "metadata": {
    "collapsed": false,
    "scrolled": true
   },
   "outputs": [
    {
     "data": {
      "text/html": [
       "<div>\n",
       "<table border=\"1\" class=\"dataframe\">\n",
       "  <thead>\n",
       "    <tr style=\"text-align: right;\">\n",
       "      <th></th>\n",
       "      <th>email_original_text</th>\n",
       "      <th>tokens</th>\n",
       "    </tr>\n",
       "  </thead>\n",
       "  <tbody>\n",
       "    <tr>\n",
       "      <th>0</th>\n",
       "      <td>FW: Wow</td>\n",
       "      <td>[wow]</td>\n",
       "    </tr>\n",
       "    <tr>\n",
       "      <th>1</th>\n",
       "      <td>B6 Thursday, March 3, 2011 9:45 PM H: Latest...</td>\n",
       "      <td>[thursday, march, pm, h, latest, syria, aiding...</td>\n",
       "    </tr>\n",
       "    <tr>\n",
       "      <th>2</th>\n",
       "      <td>Re: Chris Stevens Thx</td>\n",
       "      <td>[chris, stevens, thx]</td>\n",
       "    </tr>\n",
       "    <tr>\n",
       "      <th>3</th>\n",
       "      <td>FVV: Cairo Condemnation - Final</td>\n",
       "      <td>[cairo, condemnation, final]</td>\n",
       "    </tr>\n",
       "    <tr>\n",
       "      <th>4</th>\n",
       "      <td>H &lt;hrod17@clintonemail.com&gt; Friday, March 11...</td>\n",
       "      <td>[h, clintonemail, com, friday, march, pm, huma...</td>\n",
       "    </tr>\n",
       "  </tbody>\n",
       "</table>\n",
       "</div>"
      ],
      "text/plain": [
       "                                 email_original_text  \\\n",
       "0                                          FW: Wow     \n",
       "1    B6 Thursday, March 3, 2011 9:45 PM H: Latest...   \n",
       "2                              Re: Chris Stevens Thx   \n",
       "3                  FVV: Cairo Condemnation - Final     \n",
       "4    H <hrod17@clintonemail.com> Friday, March 11...   \n",
       "\n",
       "                                              tokens  \n",
       "0                                              [wow]  \n",
       "1  [thursday, march, pm, h, latest, syria, aiding...  \n",
       "2                              [chris, stevens, thx]  \n",
       "3                       [cairo, condemnation, final]  \n",
       "4  [h, clintonemail, com, friday, march, pm, huma...  "
      ]
     },
     "execution_count": 135,
     "metadata": {},
     "output_type": "execute_result"
    }
   ],
   "source": [
    "#We can see the original text and the process text\n",
    "email_texts.head()"
   ]
  },
  {
   "cell_type": "code",
   "execution_count": 136,
   "metadata": {
    "collapsed": false
   },
   "outputs": [],
   "source": [
    "#Let's obtain the sentiment analisis of each of the e-mails.\n",
    "sia = nltk.sentiment.SentimentIntensityAnalyzer()\n",
    "sentiment=[]\n",
    "for sentence in email_texts['tokens'].apply(\" \".join):\n",
    "        ss = sia.polarity_scores(sentence)['compound']\n",
    "        sentiment.append(ss)\n",
    "email_texts['sentiment']=sentiment"
   ]
  },
  {
   "cell_type": "code",
   "execution_count": 258,
   "metadata": {
    "collapsed": false
   },
   "outputs": [
    {
     "data": {
      "text/html": [
       "<div>\n",
       "<table border=\"1\" class=\"dataframe\">\n",
       "  <thead>\n",
       "    <tr style=\"text-align: right;\">\n",
       "      <th></th>\n",
       "      <th>email_original_text</th>\n",
       "      <th>tokens</th>\n",
       "      <th>sentiment</th>\n",
       "      <th>countries</th>\n",
       "    </tr>\n",
       "  </thead>\n",
       "  <tbody>\n",
       "    <tr>\n",
       "      <th>1</th>\n",
       "      <td>B6 Thursday, March 3, 2011 9:45 PM H: Latest...</td>\n",
       "      <td>[thursday, march, pm, h, latest, syria, aiding...</td>\n",
       "      <td>0.0000</td>\n",
       "      <td>[(Syria, SY), (Britain, UK), (Iran, IR), (Sout...</td>\n",
       "    </tr>\n",
       "    <tr>\n",
       "      <th>4</th>\n",
       "      <td>H &lt;hrod17@clintonemail.com&gt; Friday, March 11...</td>\n",
       "      <td>[h, clintonemail, com, friday, march, pm, huma...</td>\n",
       "      <td>0.0000</td>\n",
       "      <td>[(Syria, SY), (Britain, UK), (Iran, IR), (Sout...</td>\n",
       "    </tr>\n",
       "    <tr>\n",
       "      <th>6</th>\n",
       "      <td>FW: Anti-Muslim film director in hiding, follo...</td>\n",
       "      <td>[anti, muslim, film, director, hiding, followi...</td>\n",
       "      <td>-0.8225</td>\n",
       "      <td>[(Syria, SY), (Britain, UK), (Iran, IR), (Sout...</td>\n",
       "    </tr>\n",
       "    <tr>\n",
       "      <th>7</th>\n",
       "      <td>H &lt;hrod17@clintonemail.corn&gt; Friday, March 1...</td>\n",
       "      <td>[h, clintonemail, corn, friday, march, pm, hum...</td>\n",
       "      <td>0.0000</td>\n",
       "      <td>[(Syria, SY), (Britain, UK), (Iran, IR), (Sout...</td>\n",
       "    </tr>\n",
       "    <tr>\n",
       "      <th>9</th>\n",
       "      <td>more on Libya B6 Wednesday, September 12, 2012...</td>\n",
       "      <td>[libya, wednesday, september, pm, libya, libya...</td>\n",
       "      <td>0.0000</td>\n",
       "      <td>[(Syria, SY), (Britain, UK), (Iran, IR), (Sout...</td>\n",
       "    </tr>\n",
       "  </tbody>\n",
       "</table>\n",
       "</div>"
      ],
      "text/plain": [
       "                                 email_original_text  \\\n",
       "1    B6 Thursday, March 3, 2011 9:45 PM H: Latest...   \n",
       "4    H <hrod17@clintonemail.com> Friday, March 11...   \n",
       "6  FW: Anti-Muslim film director in hiding, follo...   \n",
       "7    H <hrod17@clintonemail.corn> Friday, March 1...   \n",
       "9  more on Libya B6 Wednesday, September 12, 2012...   \n",
       "\n",
       "                                              tokens  sentiment  \\\n",
       "1  [thursday, march, pm, h, latest, syria, aiding...     0.0000   \n",
       "4  [h, clintonemail, com, friday, march, pm, huma...     0.0000   \n",
       "6  [anti, muslim, film, director, hiding, followi...    -0.8225   \n",
       "7  [h, clintonemail, corn, friday, march, pm, hum...     0.0000   \n",
       "9  [libya, wednesday, september, pm, libya, libya...     0.0000   \n",
       "\n",
       "                                           countries  \n",
       "1  [(Syria, SY), (Britain, UK), (Iran, IR), (Sout...  \n",
       "4  [(Syria, SY), (Britain, UK), (Iran, IR), (Sout...  \n",
       "6  [(Syria, SY), (Britain, UK), (Iran, IR), (Sout...  \n",
       "7  [(Syria, SY), (Britain, UK), (Iran, IR), (Sout...  \n",
       "9  [(Syria, SY), (Britain, UK), (Iran, IR), (Sout...  "
      ]
     },
     "execution_count": 258,
     "metadata": {},
     "output_type": "execute_result"
    }
   ],
   "source": [
    "email_texts.head()"
   ]
  },
  {
   "cell_type": "code",
   "execution_count": 259,
   "metadata": {
    "collapsed": false
   },
   "outputs": [],
   "source": [
    "#First let's take a look in the structure of the pycountry object.\n",
    "country_list=list(pycountry.countries)"
   ]
  },
  {
   "cell_type": "code",
   "execution_count": 273,
   "metadata": {
    "collapsed": false
   },
   "outputs": [],
   "source": [
    "#We need to add some countries due to in the country_list they appear as the complete official name\n",
    "all_countries= [('Syria'),('Britain'),('Iran'),('South Korea'),('North Korea'),('Russia'),('Taiwan'),('Palestine')]\n",
    "for country in country_list:\n",
    "    all_countries.append((country.name))"
   ]
  },
  {
   "cell_type": "code",
   "execution_count": 275,
   "metadata": {
    "collapsed": false
   },
   "outputs": [],
   "source": [
    "#Let's look for the countries in the emails\n",
    "email_texts['countries'] = [[country for country in all_countries if country.lower() in email] for email in email_texts['tokens']]"
   ]
  },
  {
   "cell_type": "code",
   "execution_count": 276,
   "metadata": {
    "collapsed": false
   },
   "outputs": [],
   "source": [
    "#Deleting those rows that do not mention countries\n",
    "email_texts=email_texts[email_texts.astype(str)['countries'] != '[]']"
   ]
  },
  {
   "cell_type": "code",
   "execution_count": 280,
   "metadata": {
    "collapsed": false
   },
   "outputs": [
    {
     "data": {
      "text/html": [
       "<div>\n",
       "<table border=\"1\" class=\"dataframe\">\n",
       "  <thead>\n",
       "    <tr style=\"text-align: right;\">\n",
       "      <th></th>\n",
       "      <th>email_original_text</th>\n",
       "      <th>tokens</th>\n",
       "      <th>sentiment</th>\n",
       "      <th>countries</th>\n",
       "    </tr>\n",
       "  </thead>\n",
       "  <tbody>\n",
       "    <tr>\n",
       "      <th>1</th>\n",
       "      <td>B6 Thursday, March 3, 2011 9:45 PM H: Latest...</td>\n",
       "      <td>[thursday, march, pm, h, latest, syria, aiding...</td>\n",
       "      <td>0.0000</td>\n",
       "      <td>[Syria, Libya]</td>\n",
       "    </tr>\n",
       "    <tr>\n",
       "      <th>4</th>\n",
       "      <td>H &lt;hrod17@clintonemail.com&gt; Friday, March 11...</td>\n",
       "      <td>[h, clintonemail, com, friday, march, pm, huma...</td>\n",
       "      <td>0.0000</td>\n",
       "      <td>[Syria, Libya]</td>\n",
       "    </tr>\n",
       "    <tr>\n",
       "      <th>7</th>\n",
       "      <td>H &lt;hrod17@clintonemail.corn&gt; Friday, March 1...</td>\n",
       "      <td>[h, clintonemail, corn, friday, march, pm, hum...</td>\n",
       "      <td>0.0000</td>\n",
       "      <td>[Syria, Libya]</td>\n",
       "    </tr>\n",
       "    <tr>\n",
       "      <th>9</th>\n",
       "      <td>more on Libya B6 Wednesday, September 12, 2012...</td>\n",
       "      <td>[libya, wednesday, september, pm, libya, libya...</td>\n",
       "      <td>0.0000</td>\n",
       "      <td>[Libya]</td>\n",
       "    </tr>\n",
       "    <tr>\n",
       "      <th>11</th>\n",
       "      <td>B6 Wednesday, September 12, 2012 6:16 PM Fwd...</td>\n",
       "      <td>[wednesday, september, pm, libya, libya, sept,...</td>\n",
       "      <td>0.0000</td>\n",
       "      <td>[Libya]</td>\n",
       "    </tr>\n",
       "    <tr>\n",
       "      <th>13</th>\n",
       "      <td>Anne-Marie Slaughter Sunday, March 13, 2011 ...</td>\n",
       "      <td>[anne, marie, slaughter, sunday, march, pm, ja...</td>\n",
       "      <td>0.9967</td>\n",
       "      <td>[Russia, Afghanistan, China, France, Iraq, Libya]</td>\n",
       "    </tr>\n",
       "  </tbody>\n",
       "</table>\n",
       "</div>"
      ],
      "text/plain": [
       "                                  email_original_text  \\\n",
       "1     B6 Thursday, March 3, 2011 9:45 PM H: Latest...   \n",
       "4     H <hrod17@clintonemail.com> Friday, March 11...   \n",
       "7     H <hrod17@clintonemail.corn> Friday, March 1...   \n",
       "9   more on Libya B6 Wednesday, September 12, 2012...   \n",
       "11    B6 Wednesday, September 12, 2012 6:16 PM Fwd...   \n",
       "13    Anne-Marie Slaughter Sunday, March 13, 2011 ...   \n",
       "\n",
       "                                               tokens  sentiment  \\\n",
       "1   [thursday, march, pm, h, latest, syria, aiding...     0.0000   \n",
       "4   [h, clintonemail, com, friday, march, pm, huma...     0.0000   \n",
       "7   [h, clintonemail, corn, friday, march, pm, hum...     0.0000   \n",
       "9   [libya, wednesday, september, pm, libya, libya...     0.0000   \n",
       "11  [wednesday, september, pm, libya, libya, sept,...     0.0000   \n",
       "13  [anne, marie, slaughter, sunday, march, pm, ja...     0.9967   \n",
       "\n",
       "                                            countries  \n",
       "1                                      [Syria, Libya]  \n",
       "4                                      [Syria, Libya]  \n",
       "7                                      [Syria, Libya]  \n",
       "9                                             [Libya]  \n",
       "11                                            [Libya]  \n",
       "13  [Russia, Afghanistan, China, France, Iraq, Libya]  "
      ]
     },
     "execution_count": 280,
     "metadata": {},
     "output_type": "execute_result"
    }
   ],
   "source": [
    "email_texts.head(6)"
   ]
  },
  {
   "cell_type": "code",
   "execution_count": 462,
   "metadata": {
    "collapsed": false
   },
   "outputs": [],
   "source": [
    "#Reset the index\n",
    "email_texts=email_texts.reset_index(drop=True)"
   ]
  },
  {
   "cell_type": "code",
   "execution_count": 463,
   "metadata": {
    "collapsed": false,
    "scrolled": false
   },
   "outputs": [
    {
     "data": {
      "text/html": [
       "<div>\n",
       "<table border=\"1\" class=\"dataframe\">\n",
       "  <thead>\n",
       "    <tr style=\"text-align: right;\">\n",
       "      <th></th>\n",
       "      <th>email_original_text</th>\n",
       "      <th>tokens</th>\n",
       "      <th>sentiment</th>\n",
       "      <th>countries</th>\n",
       "    </tr>\n",
       "  </thead>\n",
       "  <tbody>\n",
       "    <tr>\n",
       "      <th>0</th>\n",
       "      <td>B6 Thursday, March 3, 2011 9:45 PM H: Latest...</td>\n",
       "      <td>[thursday, march, pm, h, latest, syria, aiding...</td>\n",
       "      <td>0.0</td>\n",
       "      <td>[Syria, Libya]</td>\n",
       "    </tr>\n",
       "    <tr>\n",
       "      <th>1</th>\n",
       "      <td>H &lt;hrod17@clintonemail.com&gt; Friday, March 11...</td>\n",
       "      <td>[h, clintonemail, com, friday, march, pm, huma...</td>\n",
       "      <td>0.0</td>\n",
       "      <td>[Syria, Libya]</td>\n",
       "    </tr>\n",
       "    <tr>\n",
       "      <th>2</th>\n",
       "      <td>H &lt;hrod17@clintonemail.corn&gt; Friday, March 1...</td>\n",
       "      <td>[h, clintonemail, corn, friday, march, pm, hum...</td>\n",
       "      <td>0.0</td>\n",
       "      <td>[Syria, Libya]</td>\n",
       "    </tr>\n",
       "    <tr>\n",
       "      <th>3</th>\n",
       "      <td>more on Libya B6 Wednesday, September 12, 2012...</td>\n",
       "      <td>[libya, wednesday, september, pm, libya, libya...</td>\n",
       "      <td>0.0</td>\n",
       "      <td>[Libya]</td>\n",
       "    </tr>\n",
       "    <tr>\n",
       "      <th>4</th>\n",
       "      <td>B6 Wednesday, September 12, 2012 6:16 PM Fwd...</td>\n",
       "      <td>[wednesday, september, pm, libya, libya, sept,...</td>\n",
       "      <td>0.0</td>\n",
       "      <td>[Libya]</td>\n",
       "    </tr>\n",
       "  </tbody>\n",
       "</table>\n",
       "</div>"
      ],
      "text/plain": [
       "                                 email_original_text  \\\n",
       "0    B6 Thursday, March 3, 2011 9:45 PM H: Latest...   \n",
       "1    H <hrod17@clintonemail.com> Friday, March 11...   \n",
       "2    H <hrod17@clintonemail.corn> Friday, March 1...   \n",
       "3  more on Libya B6 Wednesday, September 12, 2012...   \n",
       "4    B6 Wednesday, September 12, 2012 6:16 PM Fwd...   \n",
       "\n",
       "                                              tokens  sentiment  \\\n",
       "0  [thursday, march, pm, h, latest, syria, aiding...        0.0   \n",
       "1  [h, clintonemail, com, friday, march, pm, huma...        0.0   \n",
       "2  [h, clintonemail, corn, friday, march, pm, hum...        0.0   \n",
       "3  [libya, wednesday, september, pm, libya, libya...        0.0   \n",
       "4  [wednesday, september, pm, libya, libya, sept,...        0.0   \n",
       "\n",
       "        countries  \n",
       "0  [Syria, Libya]  \n",
       "1  [Syria, Libya]  \n",
       "2  [Syria, Libya]  \n",
       "3         [Libya]  \n",
       "4         [Libya]  "
      ]
     },
     "execution_count": 463,
     "metadata": {},
     "output_type": "execute_result"
    }
   ],
   "source": [
    "email_texts.head()"
   ]
  },
  {
   "cell_type": "code",
   "execution_count": 464,
   "metadata": {
    "collapsed": false
   },
   "outputs": [],
   "source": [
    "#We create a dictionary in which we are going to get the values for both the sentiment values and the number of occurrences\n",
    "count_countries=dict()\n",
    "for country in email_texts['countries']:\n",
    "    for i in range(len(country)):\n",
    "        if country[i] in count_countries:\n",
    "            tmp_count=count_countries[country[i]][0]+1\n",
    "            tmp_sent=count_countries[country[i]][1]+email_texts['sentiment'][i]\n",
    "            count_countries[country[i]]=(tmp_count,tmp_sent)\n",
    "        else:\n",
    "            count_countries[country[i]]=(1,email_texts['sentiment'][i])"
   ]
  },
  {
   "cell_type": "code",
   "execution_count": 465,
   "metadata": {
    "collapsed": false
   },
   "outputs": [
    {
     "name": "stderr",
     "output_type": "stream",
     "text": [
      "/Users/lemr/anaconda/lib/python3.5/site-packages/ipykernel/__main__.py:7: FutureWarning: sort(columns=....) is deprecated, use sort_values(by=.....)\n"
     ]
    }
   ],
   "source": [
    "#From the dictionary we created, we can create a new dataframe, for the case of the sentiment column, we need to get the\n",
    "#average, because we were summing up all the sentiment values.\n",
    "df_countries=pd.DataFrame.from_dict(count_countries,orient='index')\n",
    "df_countries.columns=['occurrence','sentiment']\n",
    "df_countries['sentiment']=df_countries['sentiment']/df_countries['occurrence']\n",
    "#For the graph, we will take the first 30 countries with more occurrences\n",
    "df_countries_30=df_countries.sort('occurrence',ascending=False).head(30)"
   ]
  },
  {
   "cell_type": "code",
   "execution_count": 466,
   "metadata": {
    "collapsed": false,
    "scrolled": true
   },
   "outputs": [
    {
     "name": "stderr",
     "output_type": "stream",
     "text": [
      "/Users/lemr/anaconda/lib/python3.5/site-packages/ipykernel/__main__.py:2: FutureWarning: sort(columns=....) is deprecated, use sort_values(by=.....)\n",
      "  from ipykernel import kernelapp as app\n"
     ]
    },
    {
     "data": {
      "text/html": [
       "<div>\n",
       "<table border=\"1\" class=\"dataframe\">\n",
       "  <thead>\n",
       "    <tr style=\"text-align: right;\">\n",
       "      <th></th>\n",
       "      <th>occurrence</th>\n",
       "      <th>sentiment</th>\n",
       "    </tr>\n",
       "  </thead>\n",
       "  <tbody>\n",
       "    <tr>\n",
       "      <th>Lesotho</th>\n",
       "      <td>1</td>\n",
       "      <td>-0.91180</td>\n",
       "    </tr>\n",
       "    <tr>\n",
       "      <th>Sweden</th>\n",
       "      <td>1</td>\n",
       "      <td>-0.47670</td>\n",
       "    </tr>\n",
       "    <tr>\n",
       "      <th>Malaysia</th>\n",
       "      <td>4</td>\n",
       "      <td>-0.47380</td>\n",
       "    </tr>\n",
       "    <tr>\n",
       "      <th>Liberia</th>\n",
       "      <td>2</td>\n",
       "      <td>-0.23835</td>\n",
       "    </tr>\n",
       "    <tr>\n",
       "      <th>Jamaica</th>\n",
       "      <td>2</td>\n",
       "      <td>-0.23835</td>\n",
       "    </tr>\n",
       "  </tbody>\n",
       "</table>\n",
       "</div>"
      ],
      "text/plain": [
       "          occurrence  sentiment\n",
       "Lesotho            1   -0.91180\n",
       "Sweden             1   -0.47670\n",
       "Malaysia           4   -0.47380\n",
       "Liberia            2   -0.23835\n",
       "Jamaica            2   -0.23835"
      ]
     },
     "execution_count": 466,
     "metadata": {},
     "output_type": "execute_result"
    }
   ],
   "source": [
    "#Most negatives\n",
    "df_countries.sort('sentiment',ascending=True).head(5)"
   ]
  },
  {
   "cell_type": "code",
   "execution_count": 467,
   "metadata": {
    "collapsed": false
   },
   "outputs": [
    {
     "name": "stderr",
     "output_type": "stream",
     "text": [
      "/Users/lemr/anaconda/lib/python3.5/site-packages/ipykernel/__main__.py:2: FutureWarning: sort(columns=....) is deprecated, use sort_values(by=.....)\n",
      "  from ipykernel import kernelapp as app\n"
     ]
    },
    {
     "data": {
      "text/html": [
       "<div>\n",
       "<table border=\"1\" class=\"dataframe\">\n",
       "  <thead>\n",
       "    <tr style=\"text-align: right;\">\n",
       "      <th></th>\n",
       "      <th>occurrence</th>\n",
       "      <th>sentiment</th>\n",
       "    </tr>\n",
       "  </thead>\n",
       "  <tbody>\n",
       "    <tr>\n",
       "      <th>Gabon</th>\n",
       "      <td>1</td>\n",
       "      <td>0.9967</td>\n",
       "    </tr>\n",
       "    <tr>\n",
       "      <th>Serbia</th>\n",
       "      <td>1</td>\n",
       "      <td>0.9967</td>\n",
       "    </tr>\n",
       "    <tr>\n",
       "      <th>Chad</th>\n",
       "      <td>1</td>\n",
       "      <td>0.9967</td>\n",
       "    </tr>\n",
       "    <tr>\n",
       "      <th>Mongolia</th>\n",
       "      <td>1</td>\n",
       "      <td>0.8038</td>\n",
       "    </tr>\n",
       "    <tr>\n",
       "      <th>Hungary</th>\n",
       "      <td>1</td>\n",
       "      <td>0.8038</td>\n",
       "    </tr>\n",
       "  </tbody>\n",
       "</table>\n",
       "</div>"
      ],
      "text/plain": [
       "          occurrence  sentiment\n",
       "Gabon              1     0.9967\n",
       "Serbia             1     0.9967\n",
       "Chad               1     0.9967\n",
       "Mongolia           1     0.8038\n",
       "Hungary            1     0.8038"
      ]
     },
     "execution_count": 467,
     "metadata": {},
     "output_type": "execute_result"
    }
   ],
   "source": [
    "#Most positives\n",
    "df_countries.sort('sentiment',ascending=False).head(5)"
   ]
  },
  {
   "cell_type": "code",
   "execution_count": 470,
   "metadata": {
    "collapsed": false
   },
   "outputs": [
    {
     "name": "stderr",
     "output_type": "stream",
     "text": [
      "/Users/lemr/anaconda/lib/python3.5/site-packages/ipykernel/__main__.py:2: FutureWarning: sort(columns=....) is deprecated, use sort_values(by=.....)\n",
      "  from ipykernel import kernelapp as app\n",
      "/Users/lemr/anaconda/lib/python3.5/site-packages/ipykernel/__main__.py:3: FutureWarning: sort(columns=....) is deprecated, use sort_values(by=.....)\n",
      "  app.launch_new_instance()\n",
      "/Users/lemr/anaconda/lib/python3.5/site-packages/ipykernel/__main__.py:10: FutureWarning: sort(columns=....) is deprecated, use sort_values(by=.....)\n"
     ]
    },
    {
     "data": {
      "text/plain": [
       "<matplotlib.figure.Figure at 0x1287529e8>"
      ]
     },
     "metadata": {},
     "output_type": "display_data"
    },
    {
     "data": {
      "image/png": "[encoded data removed]",
      "text/plain": [
       "<matplotlib.figure.Figure at 0x127326240>"
      ]
     },
     "metadata": {},
     "output_type": "display_data"
    }
   ],
   "source": [
    "#Plotting everything\n",
    "y = np.array(df_countries_30.sort('sentiment')['sentiment'])\n",
    "y_2 = np.array(df_countries_30.sort('sentiment')['occurrence'])\n",
    "colors = cm.YlGn(y / float(max(y)))\n",
    "plot = plt.scatter(y,y, c = y, cmap = 'YlGn')\n",
    "plt.clf()\n",
    "plt.figure(figsize=(15, 10), dpi=80)\n",
    "clb = plt.colorbar(plot)\n",
    "clb.ax.set_title(\"Sentiment\")\n",
    "plt.bar(range(len(y)), y_2, color = colors,tick_label=df_countries_30.sort('sentiment').index)\n",
    "plt.xticks(rotation=45,)\n",
    "plt.xlabel(\"Country\")\n",
    "plt.ylabel(\"Frequency\")\n",
    "plt.title(\"30 most mentioned countries\")\n",
    "plt.show()"
   ]
  },
  {
   "cell_type": "markdown",
   "metadata": {},
   "source": [
    "At the end we can see that the country with more mentions is Iran, followed by Afganistan, but it is interesting that we are getting that the emails for those countries were neutral. It is important to mention, that we only looked for the names of the countries and that we only get few countries that were presented in negative mails"
   ]
  },
  {
   "cell_type": "code",
   "execution_count": null,
   "metadata": {
    "collapsed": true
   },
   "outputs": [],
   "source": []
  }
 ],
 "metadata": {
  "anaconda-cloud": {},
  "kernelspec": {
   "display_name": "Python [Root]",
   "language": "python",
   "name": "Python [Root]"
  },
  "language_info": {
   "codemirror_mode": {
    "name": "ipython",
    "version": 3
   },
   "file_extension": ".py",
   "mimetype": "text/x-python",
   "name": "python",
   "nbconvert_exporter": "python",
   "pygments_lexer": "ipython3",
   "version": "3.5.2"
  }
 },
 "nbformat": 4,
 "nbformat_minor": 0
}
