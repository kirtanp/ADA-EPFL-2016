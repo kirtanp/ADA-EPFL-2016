{
 "cells": [
  {
   "cell_type": "markdown",
   "metadata": {},
   "source": [
    "In this module, we will first construct the graph of Hillary's senders and receivers, and then find the communities. Finally, we will generate the top twenty words in her list."
   ]
  },
  {
   "cell_type": "code",
   "execution_count": 46,
   "metadata": {
    "collapsed": false,
    "scrolled": true
   },
   "outputs": [
    {
     "name": "stdout",
     "output_type": "stream",
     "text": [
      "Populating the interactive namespace from numpy and matplotlib\n"
     ]
    },
    {
     "name": "stderr",
     "output_type": "stream",
     "text": [
      "/home/kirtan/anaconda3/lib/python3.5/site-packages/IPython/core/magics/pylab.py:161: UserWarning: pylab import has clobbered these variables: ['partition', 'text', 'size']\n",
      "`%matplotlib` prevents importing * from pylab and numpy\n",
      "  \"\\n`%matplotlib` prevents importing * from pylab and numpy\"\n"
     ]
    }
   ],
   "source": [
    "%matplotlib inline\n",
    "import pandas as pd\n",
    "import networkx as nx\n",
    "import community\n",
    "from nltk.corpus import stopwords\n",
    "from collections import Counter\n",
    "import mpld3\n",
    "from mpld3 import plugins\n",
    "import re\n",
    "\n",
    "%pylab inline"
   ]
  },
  {
   "cell_type": "code",
   "execution_count": 47,
   "metadata": {
    "collapsed": false,
    "scrolled": true
   },
   "outputs": [],
   "source": [
    "import nltk\n",
    "from nltk.book import FreqDist"
   ]
  },
  {
   "cell_type": "code",
   "execution_count": 48,
   "metadata": {
    "collapsed": false
   },
   "outputs": [],
   "source": [
    "df_aliases = pd.read_csv('hillary-clinton-emails/Aliases.csv', index_col=0)\n",
    "df_emails = pd.read_csv('hillary-clinton-emails/Emails.csv', index_col=0)\n",
    "df_email_receivers = pd.read_csv('hillary-clinton-emails/EmailReceivers.csv', index_col=0)\n",
    "df_persons = pd.read_csv('hillary-clinton-emails/Persons.csv', index_col=0)"
   ]
  },
  {
   "cell_type": "markdown",
   "metadata": {},
   "source": [
    "# a) Graph of Hillary Clinton's Email Senders"
   ]
  },
  {
   "cell_type": "markdown",
   "metadata": {},
   "source": [
    "## Building the Graph\n",
    "\n",
    "adapted from https://www.kaggle.com/gpayen/d/kaggle/hillary-clinton-emails/interaction-between-contacts/comments\n",
    "\n",
    "We first build the aliases of the contacts, and then we extracted to and from (since graph is undirected), finally, we create the cross relations."
   ]
  },
  {
   "cell_type": "code",
   "execution_count": 49,
   "metadata": {
    "collapsed": true
   },
   "outputs": [],
   "source": [
    "aliases = {df_aliases.Alias[idx]: df_aliases.PersonId[idx]\n",
    "           for idx in df_aliases.index}\n",
    "aliases['nan'] = 'nan'\n",
    "# little fix for Aliases.csv\n",
    "aliases['rosemarie.howe'] = aliases['rosemarie howe']\n",
    "punkt = re.compile(\"[',\\-]\")\n",
    "\n",
    "def tokenize(s):\n",
    "    rec_list = punkt.sub('', s).split(';')\n",
    "    return filter(lambda x: x != '', [x.lower().strip() for x in rec_list])\n",
    "\n",
    "def id_ze(s):\n",
    "    return [aliases[x] for x in tokenize(s)]"
   ]
  },
  {
   "cell_type": "code",
   "execution_count": 50,
   "metadata": {
    "collapsed": true
   },
   "outputs": [],
   "source": [
    "# We map all names to aliases for uniformity\n",
    "df_rel = df_emails[['MetadataFrom', 'MetadataTo']].dropna()\n",
    "from_ = df_rel.MetadataFrom.apply(id_ze)\n",
    "to_ = df_rel.MetadataTo.apply(id_ze)"
   ]
  },
  {
   "cell_type": "code",
   "execution_count": 51,
   "metadata": {
    "collapsed": true
   },
   "outputs": [],
   "source": [
    "def cross(iter1, iter2):\n",
    "    for x in iter1:\n",
    "        for y in iter2:\n",
    "            if x < y:\n",
    "                yield x, y\n",
    "            elif x > y:\n",
    "                yield y, x"
   ]
  },
  {
   "cell_type": "code",
   "execution_count": 52,
   "metadata": {
    "collapsed": false
   },
   "outputs": [],
   "source": [
    "# Get the graph edges\n",
    "emails = Counter()\n",
    "emails_unary = Counter()\n",
    "for (src, dest) in zip(from_, to_):\n",
    "    for x, y in cross(src, dest):\n",
    "        emails[x, y] += 1\n",
    "        emails_unary[x] += 1\n",
    "        emails_unary[y] += 1"
   ]
  },
  {
   "cell_type": "code",
   "execution_count": 53,
   "metadata": {
    "collapsed": true
   },
   "outputs": [],
   "source": [
    "# Construct the graph using nx\n",
    "g_sent = nx.Graph()\n",
    "g_sent.add_weighted_edges_from(((u, v, log(n_emails+1))\n",
    "                                for ((u, v), n_emails)\n",
    "                                in emails.items()))"
   ]
  },
  {
   "cell_type": "markdown",
   "metadata": {},
   "source": [
    "# b) Communities\n",
    "\n",
    "We build the partitions using the community detection module from NetworkX. The result is a dictionary of the id of person and the community that person belongs in."
   ]
  },
  {
   "cell_type": "code",
   "execution_count": 153,
   "metadata": {
    "collapsed": true
   },
   "outputs": [],
   "source": [
    "# building the partitions\n",
    "partition = community.best_partition(G)"
   ]
  },
  {
   "cell_type": "code",
   "execution_count": 154,
   "metadata": {
    "collapsed": false
   },
   "outputs": [
    {
     "data": {
      "text/plain": [
       "{4: 0,\n",
       " 5: 1,\n",
       " 7: 2,\n",
       " 9: 2,\n",
       " 10: 3,\n",
       " 11: 2,\n",
       " 12: 2,\n",
       " 13: 2,\n",
       " 14: 4,\n",
       " 15: 2,\n",
       " 16: 2,\n",
       " 17: 5,\n",
       " 19: 2,\n",
       " 20: 2,\n",
       " 21: 2,\n",
       " 22: 3,\n",
       " 23: 6,\n",
       " 24: 2,\n",
       " 25: 2,\n",
       " 29: 5,\n",
       " 30: 2,\n",
       " 31: 1,\n",
       " 32: 3,\n",
       " 34: 2,\n",
       " 35: 3,\n",
       " 37: 2,\n",
       " 38: 2,\n",
       " 39: 2,\n",
       " 40: 2,\n",
       " 41: 7,\n",
       " 42: 2,\n",
       " 44: 2,\n",
       " 45: 2,\n",
       " 46: 2,\n",
       " 47: 4,\n",
       " 48: 7,\n",
       " 49: 2,\n",
       " 50: 2,\n",
       " 52: 2,\n",
       " 53: 6,\n",
       " 54: 2,\n",
       " 55: 8,\n",
       " 56: 2,\n",
       " 57: 7,\n",
       " 58: 3,\n",
       " 59: 3,\n",
       " 60: 6,\n",
       " 63: 2,\n",
       " 65: 2,\n",
       " 66: 2,\n",
       " 70: 3,\n",
       " 72: 2,\n",
       " 73: 2,\n",
       " 74: 9,\n",
       " 75: 9,\n",
       " 76: 2,\n",
       " 77: 10,\n",
       " 80: 2,\n",
       " 81: 3,\n",
       " 85: 2,\n",
       " 86: 6,\n",
       " 87: 7,\n",
       " 88: 4,\n",
       " 89: 2,\n",
       " 90: 2,\n",
       " 91: 2,\n",
       " 92: 3,\n",
       " 93: 7,\n",
       " 94: 10,\n",
       " 95: 10,\n",
       " 97: 3,\n",
       " 98: 2,\n",
       " 99: 3,\n",
       " 100: 2,\n",
       " 101: 2,\n",
       " 102: 2,\n",
       " 103: 2,\n",
       " 105: 6,\n",
       " 106: 3,\n",
       " 107: 2,\n",
       " 108: 11,\n",
       " 109: 12,\n",
       " 110: 2,\n",
       " 111: 2,\n",
       " 112: 2,\n",
       " 113: 2,\n",
       " 115: 3,\n",
       " 116: 3,\n",
       " 117: 3,\n",
       " 118: 12,\n",
       " 119: 2,\n",
       " 120: 2,\n",
       " 121: 2,\n",
       " 122: 2,\n",
       " 123: 2,\n",
       " 124: 3,\n",
       " 125: 8,\n",
       " 127: 3,\n",
       " 128: 2,\n",
       " 129: 3,\n",
       " 130: 2,\n",
       " 131: 2,\n",
       " 132: 2,\n",
       " 133: 3,\n",
       " 134: 13,\n",
       " 135: 2,\n",
       " 137: 3,\n",
       " 138: 2,\n",
       " 139: 2,\n",
       " 140: 3,\n",
       " 141: 2,\n",
       " 142: 2,\n",
       " 143: 2,\n",
       " 144: 2,\n",
       " 145: 7,\n",
       " 146: 3,\n",
       " 147: 2,\n",
       " 148: 2,\n",
       " 149: 2,\n",
       " 150: 7,\n",
       " 152: 2,\n",
       " 153: 2,\n",
       " 156: 2,\n",
       " 157: 2,\n",
       " 160: 3,\n",
       " 161: 3,\n",
       " 162: 2,\n",
       " 163: 2,\n",
       " 165: 2,\n",
       " 167: 14,\n",
       " 168: 7,\n",
       " 169: 2,\n",
       " 170: 7,\n",
       " 171: 7,\n",
       " 172: 2,\n",
       " 173: 14,\n",
       " 174: 2,\n",
       " 175: 2,\n",
       " 176: 2,\n",
       " 177: 3,\n",
       " 178: 2,\n",
       " 179: 2,\n",
       " 180: 7,\n",
       " 181: 2,\n",
       " 182: 2,\n",
       " 183: 2,\n",
       " 184: 2,\n",
       " 185: 2,\n",
       " 186: 2,\n",
       " 187: 3,\n",
       " 190: 0,\n",
       " 191: 2,\n",
       " 192: 2,\n",
       " 193: 2,\n",
       " 194: 2,\n",
       " 196: 2,\n",
       " 197: 13,\n",
       " 198: 3,\n",
       " 199: 2,\n",
       " 200: 2,\n",
       " 201: 7,\n",
       " 202: 2,\n",
       " 203: 2,\n",
       " 204: 2,\n",
       " 205: 2,\n",
       " 206: 5,\n",
       " 208: 9,\n",
       " 209: 2,\n",
       " 210: 3,\n",
       " 211: 0,\n",
       " 213: 2,\n",
       " 214: 11,\n",
       " 216: 2,\n",
       " 218: 2,\n",
       " 219: 7,\n",
       " 220: 2,\n",
       " 221: 2,\n",
       " 223: 3,\n",
       " 224: 2,\n",
       " 225: 2,\n",
       " 226: 2,\n",
       " 227: 3,\n",
       " 402: 3}"
      ]
     },
     "execution_count": 154,
     "metadata": {},
     "output_type": "execute_result"
    }
   ],
   "source": [
    "partition"
   ]
  },
  {
   "cell_type": "code",
   "execution_count": 155,
   "metadata": {
    "collapsed": true
   },
   "outputs": [],
   "source": [
    "number_of_communities = 14"
   ]
  },
  {
   "cell_type": "code",
   "execution_count": 96,
   "metadata": {
    "collapsed": false,
    "scrolled": true
   },
   "outputs": [
    {
     "name": "stdout",
     "output_type": "stream",
     "text": [
      "Community 0 :\n",
      "{'WHADP', 'STATE', 'ASUNCION'} \n",
      "\n",
      "Community 1 :\n",
      "{'Alec', 'Cheryl'} \n",
      "\n",
      "Community 2 :\n",
      "{'Claire Coleman', 'Mike', 'Han Duk-soo', 'Recos', 'Mark Penn', 'Lee Feinstein', 'Colin Powell', 'Brian Greenspun', 'KellyC@state.gov', 'Esther Brimmer', 'Lynn Forester de Rothschild', 'mhcaleja@state.gov', 'Robert Russo', 'Nora Tov', 'Christopher Butzgy', 'John Podesta', 'Scott Gration', 'Miguel Rodriguez', 'American Beverage Association', 'Jackie Newmyer', 'Lois Quam', 'Maria Otero', 'Hillary Clinton', 'Max Baucus', 'Eric Woodard', 'Terry Duffy', 'Thomas Shannon', 'Marty Torrey', 'Rajiv Shah', 'Nora Toiv', 'David Miliband', 'Reines Philippe', 'Kris Balderston', 'Betsy Ebeling', 'postmaster@state.gov', 'Robert Blake', 'Bonnie Klehr', 'Victoria Nuland', 'Kent Conrad', 'Ellen Tauscher', 'Nancy Parrish', 'Christopher Hill', 'Joshua Daniel', 'David Garten', 'Barbara Mikulski', 'Anthony Lake', 'M. Albright', 'Philip Gordon', 'Derek Chollet', 'PVervee', 'Piper Campbell', 'Daniel Baer', 'Gina Glantz', 'Richard Holbrooke', 'Linda Dewan', 'Lisa Caputo', 'Joanne Laszczych', 'Burns Strider', 'alcb', 'Johnnie Carson', 'Strobe Talbott', 'Todd Stern', 'Ban Ki-moon', 'Tina Flournoy', 'George Mitchell', 'KPK', 'Zachary Iscol', 'Reta Jo Lewis', 'Samuel Berger', 'James Steinberg', 'Thomas Donilon', 'Lissa Muscatine', 'Daniel', 'Arturo Valenzuela', 'Dana Hyde', 'Craig Kelly', 'Michael Fuchs', 'Melanne Verveer', 'Kurt Campbell', 'Samuel (\"Sandy\") Berger', 'Cherie Blair', 'Robert Hormats', 'Rick Sloan', 'Neera Tanden', 'Wendy Sherman', 'Megan Rooney', 'James Smith', 'Case Button', 'David Axelrod', 'Danielle Brian', 'Rodriguez Miguel', 'Paul Jones', 'Madeleine Albright', 'Andrew Shapiro', 'l', 'rooneym@state.gov', 'Caroline Adler', 'Jonathan Prince', 'Jan Piercy', 'Michele Flournoy', 'Patrick Kennedy', 'Robert Danford', 'Council on Foreign Relations', 'Luis CdeBaca', 'William Burns', 'Tomicah Tillemann', 'Sidney Blumenthal'} \n",
      "\n",
      "Community 3 :\n",
      "{'Michele Bond', 'Justin Cooper', 'Huma Abedin', 'Lauren Jiloty', 'Laurie Rubiner', 'LGraham', 'Mark Hyman', 'Oscar Flores', 'Oscar Lores', 'Capricia Marshall', 'Lourdes Cue', 'Donald', 'mh.interiors', 'G. Lou de Bac', 'rosemarie howe', 'Doug Band', 'Suzanne Grantham', 'Janice Jacobs', 'Voda Ebeling', 'John Olver', 'Lona Valmoro', 'Luzzatto', 'Christopher Edwards', 'Maggie Williams', 'Rosemarie Howe', 'Cheryl Mills', 'Jim Kennedy', 'Maura Pally', 'Anne-Marie Slaughter', 'rrh.interiors', 'Rene Preval'} \n",
      "\n",
      "Community 4 :\n",
      "{'James McGovern', 'Daniel Inonye', 'Barack Obama'} \n",
      "\n",
      "Community 5 :\n",
      "{'Bill Clinton', 'Chelsea Clinton', 'Tsakina Elbegdori'} \n",
      "\n",
      "Community 6 :\n",
      "{'Carlos Pascual', 'Judith McHale', 'Doug Hattaway', 'Jacob Lew', 'David Johnson'} \n",
      "\n",
      "Community 7 :\n",
      "{'Jeffrey Farrow', 'Courtney Beale', 'Phillip Crowley', 'Monica Hanley', 'Philippe Reines', 'Michael Posner', 'aclb', 'Daniel Schwerin', 'Richard Verma', 'Philip Crowley', 'Jake Sullivan', 'Thomas Nides', 'Diane Reynolds'} \n",
      "\n",
      "Community 8 :\n",
      "{'Long Term Strategy Group', 'Department of State'} \n",
      "\n",
      "Community 9 :\n",
      "{'Govenman Etazini', 'Haiti', 'United States of America'} \n",
      "\n",
      "Community 10 :\n",
      "{'Jennifer Robinson', 'Harold Hongju Koh', 'Jeffrey Feltman'} \n",
      "\n",
      "Community 11 :\n",
      "{'Kabul LGF Request', 'Werner Ilic'} \n",
      "\n",
      "Community 12 :\n",
      "{'Lee Brown', 'Karl Eikenberry'} \n",
      "\n",
      "Community 13 :\n",
      "{'Susan Rice', 'Maria Calivis'} \n",
      "\n",
      "Community 14 :\n",
      "{'Peter Robinson', 'Prime Minister'} \n",
      "\n"
     ]
    }
   ],
   "source": [
    "for i in range(0,number_of_communities+1):\n",
    "    print('Community', i, \":\")\n",
    "    print({df_persons.Name.loc[k] for k, v in partition.items() if v==i}, '\\n')"
   ]
  },
  {
   "cell_type": "markdown",
   "metadata": {},
   "source": [
    "## Find the Top Words Each Community"
   ]
  },
  {
   "cell_type": "code",
   "execution_count": 122,
   "metadata": {
    "collapsed": true
   },
   "outputs": [],
   "source": [
    "def is_notnumber(s):\n",
    "    try:\n",
    "        float(s)\n",
    "        return False\n",
    "    except ValueError:\n",
    "        return True\n",
    "    \n",
    "def remove_stopwords(word_list):\n",
    "    Wlist = [word for word in word_list if word not in stopwords.words('english')]\n",
    "    Wlist = [word for word in word_list if is_notnumber(word) and len(word) > 1]\n",
    "    return (Wlist)"
   ]
  },
  {
   "cell_type": "code",
   "execution_count": 149,
   "metadata": {
    "collapsed": true
   },
   "outputs": [],
   "source": [
    "dataframe_stopwords = ['DataFrame', 'ExtractedBodyText','Columns','Empty','Index','...','Id','DataFrame']"
   ]
  },
  {
   "cell_type": "markdown",
   "metadata": {},
   "source": [
    "### Top Words in Each Community"
   ]
  },
  {
   "cell_type": "code",
   "execution_count": 152,
   "metadata": {
    "collapsed": false,
    "scrolled": true
   },
   "outputs": [
    {
     "name": "stdout",
     "output_type": "stream",
     "text": [
      "Community 0 :\n",
      "[('Id', 1)] \n",
      "\n",
      "Community 1 :\n",
      "[('DataFrame', 1)] \n",
      "\n",
      "Community 2 :\n",
      "[('right', 1), ('surprise', 1), ('Id', 1), ('You', 1), ('were', 1), ('Vitamin', 1), ('no', 1), ('about', 1)] \n",
      "\n",
      "Community 3 :\n",
      "[('DataFrame', 1)] \n",
      "\n",
      "Community 4 :\n",
      "[('Id', 1)] \n",
      "\n",
      "Community 5 :\n",
      "[('Id', 1)] \n",
      "\n",
      "Community 6 :\n",
      "[('DataFrame', 1)] \n",
      "\n",
      "Community 7 :\n",
      "[('is', 3), ('the', 3), ('Palau', 3), ('of', 3), ('statement', 2), ('Below', 2), ('to', 2), ('Id', 1), ('Want', 1), ('will', 1), ('Would', 1), (\"n't\", 1), ('sure', 1), ('Co-Chairs', 1), ('ebeigetu', 1), ('Toribiong', 1), ('saw', 1), ('on', 1), ('recent', 1), ('call', 1)] \n",
      "\n",
      "Community 8 :\n",
      "[('DataFrame', 1)] \n",
      "\n",
      "Community 9 :\n",
      "[('Id', 1)] \n",
      "\n",
      "Community 10 :\n",
      "[('DataFrame', 1)] \n",
      "\n",
      "Community 11 :\n",
      "[('Id', 1), ('your', 1), ('information', 1), ('for', 1), ('below.\\\\nWerner', 1), ('Gentlemen', 1)] \n",
      "\n",
      "Community 12 :\n",
      "[('Id', 1)] \n",
      "\n",
      "Community 13 :\n",
      "[('Id', 1)] \n",
      "\n",
      "Community 14 :\n",
      "[('DataFrame', 1)] \n",
      "\n"
     ]
    }
   ],
   "source": [
    "for i in range(0,15): # communities\n",
    "    print('Community', i, \":\")\n",
    "    for person_id in {k for k, v in partition.items() if v==i}:\n",
    "        text = ''.join(df_emails[df_emails['SenderPersonId'] == person_id].to_string(columns={'ExtractedBodyText'}))\n",
    "    text = nltk.tokenize.word_tokenize(text) # tokenizing\n",
    "    for word in text: \n",
    "        if word in dataframe_stopwords:\n",
    "            text.remove(word)\n",
    "    text = remove_stopwords(text)\n",
    "    fdist = FreqDist(text)\n",
    "    print(fdist.most_common(20),'\\n')"
   ]
  },
  {
   "cell_type": "markdown",
   "metadata": {},
   "source": [
    "After removing stopwords, the only significant top lists are from larger communities. The list is considerably different from the topic modelling."
   ]
  },
  {
   "cell_type": "markdown",
   "metadata": {},
   "source": [
    "## Visualizing the Communities\n",
    "adapted from https://www.kaggle.com/gpayen/d/kaggle/hillary-clinton-emails/interaction-between-contacts/comments"
   ]
  },
  {
   "cell_type": "code",
   "execution_count": 54,
   "metadata": {
    "collapsed": false
   },
   "outputs": [
    {
     "data": {
      "image/png": "[encoded data removed]",
      "text/plain": [
       "<matplotlib.figure.Figure at 0x7fb3f89fcba8>"
      ]
     },
     "metadata": {},
     "output_type": "display_data"
    }
   ],
   "source": [
    "G = g_sent\n",
    "\n",
    "#first compute the best partition\n",
    "partition = community.best_partition(G)\n",
    "\n",
    "#drawing\n",
    "size = float(len(set(partition.values())))\n",
    "pos = nx.spring_layout(G)\n",
    "count = 0.\n",
    "for com in set(partition.values()) :\n",
    "    count = count + 1.\n",
    "    list_nodes = [nodes for nodes in partition.keys()\n",
    "                                if partition[nodes] == com]\n",
    "    nx.draw_networkx_nodes(G, pos, list_nodes, node_size = 20,\n",
    "                                node_color = str(count / size))\n",
    "\n",
    "\n",
    "nx.draw_networkx_edges(G,pos, alpha=0.5)\n",
    "plt.show()"
   ]
  }
 ],
 "metadata": {
  "anaconda-cloud": {},
  "kernelspec": {
   "display_name": "Python [default]",
   "language": "python",
   "name": "python3"
  },
  "language_info": {
   "codemirror_mode": {
    "name": "ipython",
    "version": 3
   },
   "file_extension": ".py",
   "mimetype": "text/x-python",
   "name": "python",
   "nbconvert_exporter": "python",
   "pygments_lexer": "ipython3",
   "version": "3.5.2"
  }
 },
 "nbformat": 4,
 "nbformat_minor": 0
}
