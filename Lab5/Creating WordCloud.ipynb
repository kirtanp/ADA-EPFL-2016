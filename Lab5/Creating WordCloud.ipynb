{
 "cells": [
  {
   "cell_type": "markdown",
   "metadata": {},
   "source": [
    "# This notebook generates WordCloud\n",
    "\n",
    "The \"Pre-Process Data\" aims to do all the pre-processing"
   ]
  },
  {
   "cell_type": "code",
   "execution_count": 1,
   "metadata": {
    "collapsed": false
   },
   "outputs": [
    {
     "name": "stdout",
     "output_type": "stream",
     "text": [
      "*** Introductory Examples for the NLTK Book ***\n",
      "Loading text1, ..., text9 and sent1, ..., sent9\n",
      "Type the name of the text or sentence to view it.\n",
      "Type: 'texts()' or 'sents()' to list the materials.\n",
      "text1: Moby Dick by Herman Melville 1851\n",
      "text2: Sense and Sensibility by Jane Austen 1811\n",
      "text3: The Book of Genesis\n",
      "text4: Inaugural Address Corpus\n",
      "text5: Chat Corpus\n",
      "text6: Monty Python and the Holy Grail\n",
      "text7: Wall Street Journal\n",
      "text8: Personals Corpus\n",
      "text9: The Man Who Was Thursday by G . K . Chesterton 1908\n"
     ]
    }
   ],
   "source": [
    "import pandas as pd\n",
    "import os\n",
    "from os import path\n",
    "import nltk\n",
    "from nltk.book import FreqDist"
   ]
  },
  {
   "cell_type": "code",
   "execution_count": 2,
   "metadata": {
    "collapsed": false
   },
   "outputs": [],
   "source": [
    "aliases = pd.read_csv('hillary-clinton-emails/Aliases.csv')\n",
    "email_receivers = pd.read_csv('hillary-clinton-emails/EmailReceivers.csv')\n",
    "emails = pd.read_csv('hillary-cl`inton-emails/Emails.csv')\n",
    "persons = pd.read_csv('hillary-clinton-emails/Persons.csv')"
   ]
  },
  {
   "cell_type": "markdown",
   "metadata": {},
   "source": [
    "### Creating the text"
   ]
  },
  {
   "cell_type": "code",
   "execution_count": 3,
   "metadata": {
    "collapsed": false
   },
   "outputs": [],
   "source": [
    "emails_text = emails.ExtractedBodyText.dropna()\n",
    "emails_text.to_csv('emails.txt')"
   ]
  },
  {
   "cell_type": "markdown",
   "metadata": {
    "collapsed": false
   },
   "source": [
    "### Finding Frequencies"
   ]
  },
  {
   "cell_type": "code",
   "execution_count": 4,
   "metadata": {
    "collapsed": false
   },
   "outputs": [],
   "source": [
    "d = os.getcwd()\n",
    "email = open(path.join(d, 'emails.txt')).read()"
   ]
  },
  {
   "cell_type": "code",
   "execution_count": 5,
   "metadata": {
    "collapsed": false
   },
   "outputs": [],
   "source": [
    "email = nltk.tokenize.word_tokenize(email)\n",
    "fdist = FreqDist(email)"
   ]
  },
  {
   "cell_type": "code",
   "execution_count": 6,
   "metadata": {
    "collapsed": false
   },
   "outputs": [],
   "source": []
  },
  {
   "cell_type": "code",
   "execution_count": 7,
   "metadata": {
    "collapsed": false,
    "scrolled": true
   },
   "outputs": [
    {
     "data": {
      "text/plain": [
       "[(',', 36559),\n",
       " ('.', 28273),\n",
       " ('the', 28261),\n",
       " (\"''\", 18540),\n",
       " ('to', 16899),\n",
       " ('and', 13901),\n",
       " ('of', 13800),\n",
       " ('a', 10679),\n",
       " ('in', 9711),\n",
       " ('that', 6373),\n",
       " ('is', 5887),\n",
       " (\"'s\", 5733),\n",
       " ('for', 5727),\n",
       " ('on', 5049),\n",
       " ('I', 5028),\n",
       " ('``', 4902),\n",
       " (':', 4161),\n",
       " ('with', 3956),\n",
       " ('you', 3735),\n",
       " ('it', 3232),\n",
       " ('as', 3086),\n",
       " ('The', 3004),\n",
       " ('be', 2961),\n",
       " ('have', 2956),\n",
       " ('was', 2821),\n",
       " ('are', 2560),\n",
       " (')', 2474),\n",
       " ('will', 2424),\n",
       " ('this', 2419),\n",
       " ('he', 2405),\n",
       " ('(', 2397),\n",
       " ('at', 2378),\n",
       " ('not', 2327),\n",
       " ('from', 2322),\n",
       " ('we', 2265),\n",
       " ('by', 2198),\n",
       " ('has', 2175),\n",
       " ('his', 2123),\n",
       " ('?', 2060),\n",
       " ('an', 1783),\n",
       " (';', 1628),\n",
       " ('but', 1579),\n",
       " ('they', 1554),\n",
       " ('would', 1535),\n",
       " ('who', 1514),\n",
       " ('about', 1513),\n",
       " ('do', 1505),\n",
       " ('am', 1495),\n",
       " ('pm', 1467),\n",
       " ('or', 1465),\n",
       " ('-', 1403),\n",
       " (\"n't\", 1360),\n",
       " ('their', 1348),\n",
       " ('can', 1287),\n",
       " ('said', 1230),\n",
       " ('had', 1217),\n",
       " ('Obama', 1209),\n",
       " ('Secretary', 1172),\n",
       " ('all', 1161),\n",
       " ('more', 1156),\n",
       " ('our', 1150),\n",
       " ('--', 1142),\n",
       " ('been', 1102),\n",
       " ('State', 1084),\n",
       " ('out', 1037),\n",
       " ('@', 1035),\n",
       " ('so', 1014),\n",
       " ('which', 1008),\n",
       " ('me', 1004),\n",
       " ('were', 980),\n",
       " ('if', 974),\n",
       " ('We', 971),\n",
       " ('what', 959),\n",
       " ('one', 955),\n",
       " ('there', 955),\n",
       " ('>', 948),\n",
       " ('her', 921),\n",
       " ('up', 919),\n",
       " ('%', 905),\n",
       " ('—', 901),\n",
       " ('U.S.', 898),\n",
       " ('In', 893),\n",
       " ('<', 861),\n",
       " ('2010', 861),\n",
       " ('It', 860),\n",
       " ('its', 858),\n",
       " ('him', 855),\n",
       " ('your', 855),\n",
       " ('2009', 853),\n",
       " ('He', 850),\n",
       " ('call', 843),\n",
       " ('But', 836),\n",
       " ('Department', 817),\n",
       " ('also', 814),\n",
       " ('time', 797),\n",
       " ('H', 785),\n",
       " ('people', 784),\n",
       " ('when', 774),\n",
       " ('them', 747),\n",
       " ('now', 747),\n",
       " ('just', 745),\n",
       " ('she', 735),\n",
       " ('than', 734),\n",
       " ('•', 729),\n",
       " ('get', 719),\n",
       " ('like', 717),\n",
       " ('no', 716),\n",
       " ('other', 715),\n",
       " ('know', 707),\n",
       " ('should', 700),\n",
       " ('Clinton', 682),\n",
       " ('Office', 674),\n",
       " ('did', 673),\n",
       " ('work', 673),\n",
       " ('new', 668),\n",
       " ('could', 665),\n",
       " ('over', 661),\n",
       " ('PM', 658),\n",
       " ('some', 645),\n",
       " ('House', 637),\n",
       " ('!', 635),\n",
       " ('And', 631),\n",
       " ('government', 614),\n",
       " ('after', 607),\n",
       " ('No', 605),\n",
       " ('President', 602),\n",
       " (\"'\", 599),\n",
       " ('into', 592),\n",
       " ('my', 591),\n",
       " ('American', 588),\n",
       " ('This', 572),\n",
       " ('today', 571),\n",
       " ('think', 570),\n",
       " ('state.gov', 566),\n",
       " ('see', 563),\n",
       " ('AM', 562),\n",
       " ('any', 559),\n",
       " ('first', 547),\n",
       " ('back', 540),\n",
       " ('last', 536),\n",
       " ('want', 534),\n",
       " ('two', 534),\n",
       " ('United', 533),\n",
       " ('only', 526),\n",
       " ('1', 524),\n",
       " ('most', 524),\n",
       " ('support', 519),\n",
       " ('very', 515),\n",
       " ('&', 513),\n",
       " ('need', 500),\n",
       " ('these', 497),\n",
       " ('Israel', 495),\n",
       " ('how', 494),\n",
       " ('TO', 492),\n",
       " ('political', 488),\n",
       " ('They', 487),\n",
       " ('way', 478),\n",
       " ('2', 477),\n",
       " ('#', 475),\n",
       " ('women', 472),\n",
       " ('make', 472),\n",
       " ('president', 471),\n",
       " ('policy', 464),\n",
       " ('States', 460),\n",
       " ('US', 449),\n",
       " ('much', 447),\n",
       " ('Washington', 444),\n",
       " ('good', 444),\n",
       " ('us', 442),\n",
       " ('If', 438),\n",
       " (\"'m\", 438),\n",
       " ('well', 437),\n",
       " ('against', 433),\n",
       " ('world', 433),\n",
       " ('Room', 431),\n",
       " ('because', 431),\n",
       " ('White', 431),\n",
       " ('A', 429),\n",
       " ('many', 424),\n",
       " ('even', 424),\n",
       " ('years', 419),\n",
       " ('going', 419),\n",
       " ('New', 416),\n",
       " ('B6', 415),\n",
       " ('security', 411),\n",
       " ('year', 410),\n",
       " ('tomorrow', 405),\n",
       " ('before', 404),\n",
       " ('FYI', 398),\n",
       " ('both', 397),\n",
       " ('between', 392),\n",
       " ('where', 389),\n",
       " ('week', 389),\n",
       " ('those', 388),\n",
       " ('Afghanistan', 386),\n",
       " ('next', 384),\n",
       " ('right', 378),\n",
       " ('through', 377),\n",
       " ('public', 377),\n",
       " ('says', 375)]"
      ]
     },
     "execution_count": 7,
     "metadata": {},
     "output_type": "execute_result"
    }
   ],
   "source": [
    "fdist.most_common(200)"
   ]
  },
  {
   "cell_type": "code",
   "execution_count": 14,
   "metadata": {
    "collapsed": false
   },
   "outputs": [
    {
     "data": {
      "text/plain": [
       "nltk.probability.FreqDist"
      ]
     },
     "execution_count": 14,
     "metadata": {},
     "output_type": "execute_result"
    }
   ],
   "source": [
    "type(fdist)"
   ]
  },
  {
   "cell_type": "code",
   "execution_count": 17,
   "metadata": {
    "collapsed": false
   },
   "outputs": [
    {
     "data": {
      "text/plain": [
       "dict_items"
      ]
     },
     "execution_count": 17,
     "metadata": {},
     "output_type": "execute_result"
    }
   ],
   "source": [
    "type(fdist.items())"
   ]
  },
  {
   "cell_type": "markdown",
   "metadata": {},
   "source": [
    "## Turning the Corpus into Text File\n",
    "\n",
    "It's now in pandas dataframe, need to turn it into a large .txt file."
   ]
  },
  {
   "cell_type": "markdown",
   "metadata": {},
   "source": [
    "## basic"
   ]
  },
  {
   "cell_type": "code",
   "execution_count": null,
   "metadata": {
    "collapsed": false
   },
   "outputs": [],
   "source": [
    "import os\n",
    "from os import path\n",
    "\n",
    "import matplotlib.pyplot as plt\n",
    "from wordcloud import WordCloud\n",
    "\n",
    "# d = path.dirname(__file__), DIDN'T WORK.\n",
    "d = os.getcwd() # alternative method to get the directory name.\n",
    "\n",
    "# Read the whole text.\n",
    "text = open(path.join(d, 'emails.txt')).read()\n",
    "wordcloud = WordCloud(max_words=4000).generate(text)\n",
    "# Open a plot of the generated image.\n",
    "\n",
    "plt.imshow(wordcloud)\n",
    "plt.axis(\"off\")\n",
    "plt.show()"
   ]
  },
  {
   "cell_type": "markdown",
   "metadata": {},
   "source": [
    "## Not Processed"
   ]
  },
  {
   "cell_type": "code",
   "execution_count": 18,
   "metadata": {
    "collapsed": false
   },
   "outputs": [],
   "source": [
    "import os\n",
    "from os import path\n",
    "\n",
    "import matplotlib.pyplot as plt\n",
    "from wordcloud import WordCloud\n",
    "\n",
    "# d = path.dirname(__file__), DIDN'T WORK.\n",
    "d = os.getcwd() # alternative method to get the directory name.\n",
    "\n",
    "# Read the whole text.\n",
    "text = open(path.join(d, 'emails.txt')).read()\n",
    "wordcloud = WordCloud(max_words=200,stopwords=None).fit_words(fdist.items())\n",
    "# Open a plot of the generated image.\n",
    "\n",
    "plt.imshow(wordcloud)\n",
    "plt.axis(\"off\")\n",
    "plt.show()"
   ]
  },
  {
   "cell_type": "markdown",
   "metadata": {},
   "source": [
    "## Stopwords Removed, No Stemming"
   ]
  },
  {
   "cell_type": "code",
   "execution_count": 19,
   "metadata": {
    "collapsed": false
   },
   "outputs": [],
   "source": [
    "import os\n",
    "from os import path\n",
    "\n",
    "import matplotlib.pyplot as plt\n",
    "from wordcloud import WordCloud\n",
    "\n",
    "# d = path.dirname(__file__), DIDN'T WORK.\n",
    "d = os.getcwd() # alternative method to get the directory name.\n",
    "\n",
    "# Read the whole text.\n",
    "text = open(path.join(d, 'emails.txt')).read()\n",
    "wordcloud = WordCloud(max_words=200).generate(text) # this part gets the stuff\n",
    "# Open a plot of the generated image.\n",
    "\n",
    "plt.imshow(wordcloud)\n",
    "plt.axis(\"off\")\n",
    "plt.show()"
   ]
  },
  {
   "cell_type": "markdown",
   "metadata": {},
   "source": [
    "## Stopwords Removed, Stemming"
   ]
  },
  {
   "cell_type": "code",
   "execution_count": null,
   "metadata": {
    "collapsed": true
   },
   "outputs": [],
   "source": []
  },
  {
   "cell_type": "markdown",
   "metadata": {},
   "source": [
    "In this version, there are lots of stop words, like \"will\", \"time\", \"pm\", \"new\", \"one\", \"year\", \"also\", \"call\""
   ]
  },
  {
   "cell_type": "code",
   "execution_count": null,
   "metadata": {
    "collapsed": true
   },
   "outputs": [],
   "source": [
    "# this is R code\n",
    "tdm = TermDocumentMatrix(x_corpus,\n",
    "                         control = list(removePunctuation = TRUE,\n",
    "                                        stopwords = c(\"office\",\"autoreply\",\"sid\",\"confirmed\",\"update\",\"followup\",\"talk\",\"draft\",\n",
    "                                                      \"statement\",\"speech\",\"mini\",\"fyi\",\"notes\",\"today\",\"tomorrow\",\n",
    "                                                      \"sid\",\"memo\",\"call\",\"meeting\",\"meetings\",stopwords(\"SMART\"),stopwords(\"english\")),\n",
    "                                        removeNumbers = TRUE,tolower = TRUE))"
   ]
  },
  {
   "cell_type": "markdown",
   "metadata": {},
   "source": [
    "## Color with Flag"
   ]
  },
  {
   "cell_type": "code",
   "execution_count": null,
   "metadata": {
    "collapsed": true
   },
   "outputs": [],
   "source": [
    "import os\n",
    "from os import path\n",
    "from scipy.misc import imread\n",
    "import matplotlib.pyplot as plt\n",
    "\n",
    "from wordcloud import WordCloud, STOPWORDS, ImageColorGenerator\n",
    "\n",
    "d = os.getcwd()\n",
    "\n",
    "# Read the whole text.\n",
    "text = open(path.join(d, 'emails-text.txt')).read()\n",
    "\n",
    "# read the mask / color image\n",
    "# taken from http://jirkavinse.deviantart.com/art/quot-Real-Life-quot-Alice-282261010\n",
    "coloring = imread(path.join(d, \"us-flag.jpeg\"))\n",
    "us\n",
    "wc = WordCloud(background_color=\"white\", max_words=2000, mask=coloring,\n",
    "               stopwords=STOPWORDS.add(\"said\"),\n",
    "               max_font_size=40, random_state=42)\n",
    "# generate word cloud\n",
    "wc.generate(text)\n",
    "\n",
    "# create coloring from image\n",
    "image_colors = ImageColorGenerator(coloring)\n",
    "\n",
    "# show\n",
    "plt.imshow(wc)\n",
    "plt.axis(\"off\")\n",
    "plt.figure()\n",
    "# recolor wordcloud and show\n",
    "# we could also give color_func=image_colors directly in the constructor\n",
    "plt.imshow(wc.recolor(color_func=image_colors))\n",
    "plt.axis(\"off\")\n",
    "plt.figure()\n",
    "plt.imshow(coloring, cmap=plt.cm.gray)\n",
    "plt.axis(\"off\")\n",
    "plt.show()"
   ]
  },
  {
   "cell_type": "markdown",
   "metadata": {},
   "source": [
    "![title](email-us.png)"
   ]
  },
  {
   "cell_type": "markdown",
   "metadata": {},
   "source": [
    "# Processing Data\n",
    "\n",
    "text pre-processing pipeline (e.g., tokenization, stopword removal, stemming, etc.)"
   ]
  },
  {
   "cell_type": "markdown",
   "metadata": {},
   "source": [
    "### Remove Stopwords"
   ]
  },
  {
   "cell_type": "code",
   "execution_count": null,
   "metadata": {
    "collapsed": false
   },
   "outputs": [],
   "source": [
    "from nltk.corpus import stopwords\n",
    "import nltk"
   ]
  },
  {
   "cell_type": "code",
   "execution_count": null,
   "metadata": {
    "collapsed": false
   },
   "outputs": [],
   "source": [
    "nltk.download()"
   ]
  },
  {
   "cell_type": "code",
   "execution_count": null,
   "metadata": {
    "collapsed": false
   },
   "outputs": [],
   "source": [
    "stopwords.words('english')"
   ]
  },
  {
   "cell_type": "code",
   "execution_count": null,
   "metadata": {
    "collapsed": false,
    "scrolled": true
   },
   "outputs": [],
   "source": [
    "nltk.corpus.reuters.words()"
   ]
  },
  {
   "cell_type": "code",
   "execution_count": null,
   "metadata": {
    "collapsed": false
   },
   "outputs": [],
   "source": [
    "import os\n",
    "from os import path\n",
    "from scipy.misc import imread\n",
    "import matplotlib.pyplot as plt\n",
    "\n",
    "from wordcloud import WordCloud, STOPWORDS, ImageColorGenerator\n",
    "\n",
    "corpus = os.getcwd()\n",
    "\n",
    "# Read the whole text.\n",
    "text = open(path.join(d, 'emails-text.txt')).read()"
   ]
  },
  {
   "cell_type": "code",
   "execution_count": null,
   "metadata": {
    "collapsed": false,
    "scrolled": true
   },
   "outputs": [],
   "source": [
    "len(text)"
   ]
  },
  {
   "cell_type": "markdown",
   "metadata": {},
   "source": [
    "### Loading Corpus"
   ]
  },
  {
   "cell_type": "code",
   "execution_count": null,
   "metadata": {
    "collapsed": false
   },
   "outputs": [],
   "source": [
    "import os\n",
    "from nltk.corpus import PlaintextCorpusReader\n",
    "corpus_root = os.getcwd()\n",
    "wordlists = PlaintextCorpusReader(corpus_root, 'emails.txt')\n",
    "wordlists.fileids()"
   ]
  },
  {
   "cell_type": "code",
   "execution_count": null,
   "metadata": {
    "collapsed": false
   },
   "outputs": [],
   "source": [
    "emails_text = wordlists.words('emails.txt')"
   ]
  },
  {
   "cell_type": "code",
   "execution_count": null,
   "metadata": {
    "collapsed": false,
    "scrolled": true
   },
   "outputs": [],
   "source": [
    "len(emails_text)"
   ]
  },
  {
   "cell_type": "code",
   "execution_count": null,
   "metadata": {
    "collapsed": false
   },
   "outputs": [],
   "source": [
    "len(set(emails_text))"
   ]
  },
  {
   "cell_type": "code",
   "execution_count": null,
   "metadata": {
    "collapsed": false,
    "scrolled": true
   },
   "outputs": [],
   "source": [
    "len(set(emails_text)) # 41353 distinct words"
   ]
  },
  {
   "cell_type": "markdown",
   "metadata": {},
   "source": [
    "### Frequency Distribution"
   ]
  },
  {
   "cell_type": "code",
   "execution_count": null,
   "metadata": {
    "collapsed": true
   },
   "outputs": [],
   "source": [
    "%matplotlib inline"
   ]
  },
  {
   "cell_type": "code",
   "execution_count": null,
   "metadata": {
    "collapsed": false
   },
   "outputs": [],
   "source": [
    "from nltk.book import *\n",
    "fdist = FreqDist(emails_text)"
   ]
  },
  {
   "cell_type": "code",
   "execution_count": null,
   "metadata": {
    "collapsed": true
   },
   "outputs": [],
   "source": [
    "fdist.most_common(50)"
   ]
  },
  {
   "cell_type": "code",
   "execution_count": null,
   "metadata": {
    "collapsed": true
   },
   "outputs": [],
   "source": [
    "\"total length: 3649670\""
   ]
  },
  {
   "cell_type": "code",
   "execution_count": null,
   "metadata": {
    "collapsed": true
   },
   "outputs": [],
   "source": [
    "fdist.plot(50, cumulative=True)"
   ]
  },
  {
   "cell_type": "code",
   "execution_count": null,
   "metadata": {
    "collapsed": true
   },
   "outputs": [],
   "source": []
  },
  {
   "cell_type": "code",
   "execution_count": null,
   "metadata": {
    "collapsed": true
   },
   "outputs": [],
   "source": []
  },
  {
   "cell_type": "code",
   "execution_count": null,
   "metadata": {
    "collapsed": true
   },
   "outputs": [],
   "source": []
  },
  {
   "cell_type": "code",
   "execution_count": null,
   "metadata": {
    "collapsed": true
   },
   "outputs": [],
   "source": []
  },
  {
   "cell_type": "code",
   "execution_count": null,
   "metadata": {
    "collapsed": true
   },
   "outputs": [],
   "source": [
    "import os\n",
    "from os import path\n",
    "from scipy.misc import imread\n",
    "import matplotlib.pyplot as plt\n",
    "\n",
    "from wordcloud import WordCloud, STOPWORDS, ImageColorGenerator\n",
    "\n",
    "d = os.getcwd()\n",
    "\n",
    "# Read the whole text.\n",
    "text = open(path.join(d, 'emails-text.txt')).read()\n",
    "\n",
    "# read the mask / color image\n",
    "# taken from http://jirkavinse.deviantart.com/art/quot-Real-Life-quot-Alice-282261010\n",
    "coloring = imread(path.join(d, \"us-flag.jpeg\"))\n",
    "\n",
    "# preprocessing the text a little bit\n",
    "text = text.replace(\"Secretary's\", \"Secretary\")\n",
    "text = text.replace(\"LUKE'S\", \"Luke\")\n",
    "\n",
    "# adding movie script specific stopwords\n",
    "stopwords = STOPWORDS.copy()\n",
    "stopwords.add(\"int\")\n",
    "stopwords.add(\"ext\")\n",
    "\n",
    "wc = WordCloud(background_color=\"white\", max_words=2000, mask=coloring,\n",
    "               stopwords=STOPWORDS.add(\"said\"),\n",
    "               max_font_size=40, random_state=42)\n",
    "# generate word cloud\n",
    "wc.generate(text)\n",
    "\n",
    "# create coloring from image\n",
    "image_colors = ImageColorGenerator(coloring)\n",
    "\n",
    "# show\n",
    "plt.imshow(wc)\n",
    "plt.axis(\"off\")\n",
    "plt.figure()\n",
    "# recolor wordcloud and show\n",
    "# we could also give color_func=image_colors directly in the constructor\n",
    "plt.imshow(wc.recolor(color_func=image_colors))\n",
    "plt.axis(\"off\")\n",
    "plt.figure()\n",
    "plt.imshow(coloring, cmap=plt.cm.gray)\n",
    "plt.axis(\"off\")\n",
    "plt.show()"
   ]
  },
  {
   "cell_type": "code",
   "execution_count": null,
   "metadata": {
    "collapsed": true
   },
   "outputs": [],
   "source": []
  }
 ],
 "metadata": {
  "kernelspec": {
   "display_name": "Python 3",
   "language": "python",
   "name": "python3"
  },
  "language_info": {
   "codemirror_mode": {
    "name": "ipython",
    "version": 3
   },
   "file_extension": ".py",
   "mimetype": "text/x-python",
   "name": "python",
   "nbconvert_exporter": "python",
   "pygments_lexer": "ipython3",
   "version": "3.5.1"
  }
 },
 "nbformat": 4,
 "nbformat_minor": 0
}
